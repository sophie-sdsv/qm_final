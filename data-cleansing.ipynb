{
 "cells": [
  {
   "cell_type": "code",
   "execution_count": 2,
   "metadata": {},
   "outputs": [],
   "source": [
    "import os\n",
    "import re\n",
    "import numpy as np\n",
    "import pandas as pd\n",
    "import geopandas as gpd\n",
    "import matplotlib.cm as cm\n",
    "import matplotlib.pyplot as plt"
   ]
  },
  {
   "cell_type": "code",
   "execution_count": 3,
   "metadata": {},
   "outputs": [],
   "source": [
    "df1 = pd.read_csv(\"total-household-electricity-consumption-by-dwelling-type-2005-to-2020.csv\")\n",
    "df2 = pd.read_csv(\"surface-air-temperature-monthly-mean.csv\")\n",
    "df3 = pd.read_csv(\"rainfall-monthly-total.csv\")\n",
    "df4 = pd.read_csv(\"relative-humidity-monthly-mean.csv\")"
   ]
  },
  {
   "cell_type": "code",
   "execution_count": 9,
   "metadata": {},
   "outputs": [
    {
     "data": {
      "text/plain": [
       "(187, 11)"
      ]
     },
     "execution_count": 9,
     "metadata": {},
     "output_type": "execute_result"
    }
   ],
   "source": [
    "df1.shape"
   ]
  },
  {
   "cell_type": "code",
   "execution_count": 8,
   "metadata": {},
   "outputs": [
    {
     "data": {
      "text/plain": [
       "(467, 2)"
      ]
     },
     "execution_count": 8,
     "metadata": {},
     "output_type": "execute_result"
    }
   ],
   "source": [
    "df2.shape"
   ]
  },
  {
   "cell_type": "code",
   "execution_count": 10,
   "metadata": {},
   "outputs": [
    {
     "data": {
      "text/plain": [
       "(467, 2)"
      ]
     },
     "execution_count": 10,
     "metadata": {},
     "output_type": "execute_result"
    }
   ],
   "source": [
    "df3.shape"
   ]
  },
  {
   "cell_type": "code",
   "execution_count": 5,
   "metadata": {},
   "outputs": [
    {
     "data": {
      "text/plain": [
       "(467, 2)"
      ]
     },
     "execution_count": 5,
     "metadata": {},
     "output_type": "execute_result"
    }
   ],
   "source": [
    "df4.shape"
   ]
  },
  {
   "cell_type": "code",
   "execution_count": 11,
   "metadata": {},
   "outputs": [
    {
     "data": {
      "text/plain": [
       "array(['month', 'overall', 'public_housing', '1-room_2-room', '3-room',\n",
       "       '4-room', '5-room_and_executive', 'private_housing',\n",
       "       'private_apts_and_condo', 'landed_properties', 'others'],\n",
       "      dtype=object)"
      ]
     },
     "execution_count": 11,
     "metadata": {},
     "output_type": "execute_result"
    }
   ],
   "source": [
    "df1.columns.values"
   ]
  },
  {
   "cell_type": "code",
   "execution_count": 12,
   "metadata": {},
   "outputs": [
    {
     "data": {
      "text/plain": [
       "array(['month', 'mean_temp'], dtype=object)"
      ]
     },
     "execution_count": 12,
     "metadata": {},
     "output_type": "execute_result"
    }
   ],
   "source": [
    "df2.columns.values"
   ]
  },
  {
   "cell_type": "code",
   "execution_count": 13,
   "metadata": {},
   "outputs": [
    {
     "data": {
      "text/plain": [
       "array(['month', 'total_rainfall'], dtype=object)"
      ]
     },
     "execution_count": 13,
     "metadata": {},
     "output_type": "execute_result"
    }
   ],
   "source": [
    "df3.columns.values"
   ]
  },
  {
   "cell_type": "code",
   "execution_count": 17,
   "metadata": {},
   "outputs": [],
   "source": [
    "df5 = pd.merge(df1, df2,left_on='month',right_on='month', how='right')"
   ]
  },
  {
   "cell_type": "code",
   "execution_count": null,
   "metadata": {},
   "outputs": [],
   "source": []
  },
  {
   "cell_type": "code",
   "execution_count": 18,
   "metadata": {},
   "outputs": [
    {
     "data": {
      "text/html": [
       "<div>\n",
       "<style scoped>\n",
       "    .dataframe tbody tr th:only-of-type {\n",
       "        vertical-align: middle;\n",
       "    }\n",
       "\n",
       "    .dataframe tbody tr th {\n",
       "        vertical-align: top;\n",
       "    }\n",
       "\n",
       "    .dataframe thead th {\n",
       "        text-align: right;\n",
       "    }\n",
       "</style>\n",
       "<table border=\"1\" class=\"dataframe\">\n",
       "  <thead>\n",
       "    <tr style=\"text-align: right;\">\n",
       "      <th></th>\n",
       "      <th>month</th>\n",
       "      <th>overall</th>\n",
       "      <th>public_housing</th>\n",
       "      <th>1-room_2-room</th>\n",
       "      <th>3-room</th>\n",
       "      <th>4-room</th>\n",
       "      <th>5-room_and_executive</th>\n",
       "      <th>private_housing</th>\n",
       "      <th>private_apts_and_condo</th>\n",
       "      <th>landed_properties</th>\n",
       "      <th>others</th>\n",
       "      <th>mean_temp</th>\n",
       "    </tr>\n",
       "  </thead>\n",
       "  <tbody>\n",
       "    <tr>\n",
       "      <th>119</th>\n",
       "      <td>1991-12</td>\n",
       "      <td>NaN</td>\n",
       "      <td>NaN</td>\n",
       "      <td>NaN</td>\n",
       "      <td>NaN</td>\n",
       "      <td>NaN</td>\n",
       "      <td>NaN</td>\n",
       "      <td>NaN</td>\n",
       "      <td>NaN</td>\n",
       "      <td>NaN</td>\n",
       "      <td>NaN</td>\n",
       "      <td>25.6</td>\n",
       "    </tr>\n",
       "    <tr>\n",
       "      <th>237</th>\n",
       "      <td>2001-10</td>\n",
       "      <td>NaN</td>\n",
       "      <td>NaN</td>\n",
       "      <td>NaN</td>\n",
       "      <td>NaN</td>\n",
       "      <td>NaN</td>\n",
       "      <td>NaN</td>\n",
       "      <td>NaN</td>\n",
       "      <td>NaN</td>\n",
       "      <td>NaN</td>\n",
       "      <td>NaN</td>\n",
       "      <td>27.6</td>\n",
       "    </tr>\n",
       "    <tr>\n",
       "      <th>432</th>\n",
       "      <td>2018-01</td>\n",
       "      <td>558.7</td>\n",
       "      <td>328.3</td>\n",
       "      <td>10.6</td>\n",
       "      <td>58.5</td>\n",
       "      <td>136.4</td>\n",
       "      <td>122.8</td>\n",
       "      <td>229.6</td>\n",
       "      <td>150.4</td>\n",
       "      <td>79.3</td>\n",
       "      <td>0.7</td>\n",
       "      <td>26.1</td>\n",
       "    </tr>\n",
       "  </tbody>\n",
       "</table>\n",
       "</div>"
      ],
      "text/plain": [
       "       month  overall  public_housing  1-room_2-room  3-room  4-room  \\\n",
       "119  1991-12      NaN             NaN            NaN     NaN     NaN   \n",
       "237  2001-10      NaN             NaN            NaN     NaN     NaN   \n",
       "432  2018-01    558.7           328.3           10.6    58.5   136.4   \n",
       "\n",
       "     5-room_and_executive  private_housing  private_apts_and_condo  \\\n",
       "119                   NaN              NaN                     NaN   \n",
       "237                   NaN              NaN                     NaN   \n",
       "432                 122.8            229.6                   150.4   \n",
       "\n",
       "     landed_properties  others  mean_temp  \n",
       "119                NaN     NaN       25.6  \n",
       "237                NaN     NaN       27.6  \n",
       "432               79.3     0.7       26.1  "
      ]
     },
     "execution_count": 18,
     "metadata": {},
     "output_type": "execute_result"
    }
   ],
   "source": [
    "df5.sample(3)"
   ]
  },
  {
   "cell_type": "code",
   "execution_count": 26,
   "metadata": {},
   "outputs": [],
   "source": [
    "df6 = pd.merge(df5, df3, left_on='month', right_on='month', how='right')"
   ]
  },
  {
   "cell_type": "code",
   "execution_count": null,
   "metadata": {},
   "outputs": [],
   "source": []
  },
  {
   "cell_type": "code",
   "execution_count": 27,
   "metadata": {},
   "outputs": [
    {
     "data": {
      "text/html": [
       "<div>\n",
       "<style scoped>\n",
       "    .dataframe tbody tr th:only-of-type {\n",
       "        vertical-align: middle;\n",
       "    }\n",
       "\n",
       "    .dataframe tbody tr th {\n",
       "        vertical-align: top;\n",
       "    }\n",
       "\n",
       "    .dataframe thead th {\n",
       "        text-align: right;\n",
       "    }\n",
       "</style>\n",
       "<table border=\"1\" class=\"dataframe\">\n",
       "  <thead>\n",
       "    <tr style=\"text-align: right;\">\n",
       "      <th></th>\n",
       "      <th>month</th>\n",
       "      <th>overall</th>\n",
       "      <th>public_housing</th>\n",
       "      <th>1-room_2-room</th>\n",
       "      <th>3-room</th>\n",
       "      <th>4-room</th>\n",
       "      <th>5-room_and_executive</th>\n",
       "      <th>private_housing</th>\n",
       "      <th>private_apts_and_condo</th>\n",
       "      <th>landed_properties</th>\n",
       "      <th>others</th>\n",
       "      <th>mean_temp</th>\n",
       "      <th>total_rainfall</th>\n",
       "    </tr>\n",
       "  </thead>\n",
       "  <tbody>\n",
       "    <tr>\n",
       "      <th>109</th>\n",
       "      <td>1991-02</td>\n",
       "      <td>NaN</td>\n",
       "      <td>NaN</td>\n",
       "      <td>NaN</td>\n",
       "      <td>NaN</td>\n",
       "      <td>NaN</td>\n",
       "      <td>NaN</td>\n",
       "      <td>NaN</td>\n",
       "      <td>NaN</td>\n",
       "      <td>NaN</td>\n",
       "      <td>NaN</td>\n",
       "      <td>27.1</td>\n",
       "      <td>45.5</td>\n",
       "    </tr>\n",
       "    <tr>\n",
       "      <th>292</th>\n",
       "      <td>2006-05</td>\n",
       "      <td>522.0</td>\n",
       "      <td>318.9</td>\n",
       "      <td>6.0</td>\n",
       "      <td>59.1</td>\n",
       "      <td>126.6</td>\n",
       "      <td>127.2</td>\n",
       "      <td>202.1</td>\n",
       "      <td>121.0</td>\n",
       "      <td>81.1</td>\n",
       "      <td>1.1</td>\n",
       "      <td>28.1</td>\n",
       "      <td>205.7</td>\n",
       "    </tr>\n",
       "    <tr>\n",
       "      <th>171</th>\n",
       "      <td>1996-04</td>\n",
       "      <td>NaN</td>\n",
       "      <td>NaN</td>\n",
       "      <td>NaN</td>\n",
       "      <td>NaN</td>\n",
       "      <td>NaN</td>\n",
       "      <td>NaN</td>\n",
       "      <td>NaN</td>\n",
       "      <td>NaN</td>\n",
       "      <td>NaN</td>\n",
       "      <td>NaN</td>\n",
       "      <td>27.8</td>\n",
       "      <td>178.2</td>\n",
       "    </tr>\n",
       "  </tbody>\n",
       "</table>\n",
       "</div>"
      ],
      "text/plain": [
       "       month  overall  public_housing  1-room_2-room  3-room  4-room  \\\n",
       "109  1991-02      NaN             NaN            NaN     NaN     NaN   \n",
       "292  2006-05    522.0           318.9            6.0    59.1   126.6   \n",
       "171  1996-04      NaN             NaN            NaN     NaN     NaN   \n",
       "\n",
       "     5-room_and_executive  private_housing  private_apts_and_condo  \\\n",
       "109                   NaN              NaN                     NaN   \n",
       "292                 127.2            202.1                   121.0   \n",
       "171                   NaN              NaN                     NaN   \n",
       "\n",
       "     landed_properties  others  mean_temp  total_rainfall  \n",
       "109                NaN     NaN       27.1            45.5  \n",
       "292               81.1     1.1       28.1           205.7  \n",
       "171                NaN     NaN       27.8           178.2  "
      ]
     },
     "execution_count": 27,
     "metadata": {},
     "output_type": "execute_result"
    }
   ],
   "source": [
    "df6.sample(3)"
   ]
  },
  {
   "cell_type": "code",
   "execution_count": 86,
   "metadata": {},
   "outputs": [],
   "source": [
    "#adding relative humidity\n",
    "df7=pd.merge(df6, df4, left_on='month', right_on='month', how='right')"
   ]
  },
  {
   "cell_type": "code",
   "execution_count": 70,
   "metadata": {},
   "outputs": [
    {
     "data": {
      "text/html": [
       "<div>\n",
       "<style scoped>\n",
       "    .dataframe tbody tr th:only-of-type {\n",
       "        vertical-align: middle;\n",
       "    }\n",
       "\n",
       "    .dataframe tbody tr th {\n",
       "        vertical-align: top;\n",
       "    }\n",
       "\n",
       "    .dataframe thead th {\n",
       "        text-align: right;\n",
       "    }\n",
       "</style>\n",
       "<table border=\"1\" class=\"dataframe\">\n",
       "  <thead>\n",
       "    <tr style=\"text-align: right;\">\n",
       "      <th></th>\n",
       "      <th>month</th>\n",
       "      <th>overall</th>\n",
       "      <th>public_housing</th>\n",
       "      <th>1-room_2-room</th>\n",
       "      <th>3-room</th>\n",
       "      <th>4-room</th>\n",
       "      <th>5-room_and_executive</th>\n",
       "      <th>private_housing</th>\n",
       "      <th>private_apts_and_condo</th>\n",
       "      <th>landed_properties</th>\n",
       "      <th>others</th>\n",
       "      <th>mean_temp</th>\n",
       "      <th>total_rainfall</th>\n",
       "      <th>mean_rh</th>\n",
       "    </tr>\n",
       "  </thead>\n",
       "  <tbody>\n",
       "    <tr>\n",
       "      <th>0</th>\n",
       "      <td>1982-01</td>\n",
       "      <td>NaN</td>\n",
       "      <td>NaN</td>\n",
       "      <td>NaN</td>\n",
       "      <td>NaN</td>\n",
       "      <td>NaN</td>\n",
       "      <td>NaN</td>\n",
       "      <td>NaN</td>\n",
       "      <td>NaN</td>\n",
       "      <td>NaN</td>\n",
       "      <td>NaN</td>\n",
       "      <td>25.9</td>\n",
       "      <td>107.1</td>\n",
       "      <td>81.2</td>\n",
       "    </tr>\n",
       "    <tr>\n",
       "      <th>1</th>\n",
       "      <td>1982-02</td>\n",
       "      <td>NaN</td>\n",
       "      <td>NaN</td>\n",
       "      <td>NaN</td>\n",
       "      <td>NaN</td>\n",
       "      <td>NaN</td>\n",
       "      <td>NaN</td>\n",
       "      <td>NaN</td>\n",
       "      <td>NaN</td>\n",
       "      <td>NaN</td>\n",
       "      <td>NaN</td>\n",
       "      <td>27.1</td>\n",
       "      <td>27.8</td>\n",
       "      <td>79.5</td>\n",
       "    </tr>\n",
       "    <tr>\n",
       "      <th>2</th>\n",
       "      <td>1982-03</td>\n",
       "      <td>NaN</td>\n",
       "      <td>NaN</td>\n",
       "      <td>NaN</td>\n",
       "      <td>NaN</td>\n",
       "      <td>NaN</td>\n",
       "      <td>NaN</td>\n",
       "      <td>NaN</td>\n",
       "      <td>NaN</td>\n",
       "      <td>NaN</td>\n",
       "      <td>NaN</td>\n",
       "      <td>27.2</td>\n",
       "      <td>160.8</td>\n",
       "      <td>82.3</td>\n",
       "    </tr>\n",
       "  </tbody>\n",
       "</table>\n",
       "</div>"
      ],
      "text/plain": [
       "     month  overall  public_housing  1-room_2-room  3-room  4-room  \\\n",
       "0  1982-01      NaN             NaN            NaN     NaN     NaN   \n",
       "1  1982-02      NaN             NaN            NaN     NaN     NaN   \n",
       "2  1982-03      NaN             NaN            NaN     NaN     NaN   \n",
       "\n",
       "   5-room_and_executive  private_housing  private_apts_and_condo  \\\n",
       "0                   NaN              NaN                     NaN   \n",
       "1                   NaN              NaN                     NaN   \n",
       "2                   NaN              NaN                     NaN   \n",
       "\n",
       "   landed_properties  others  mean_temp  total_rainfall  mean_rh  \n",
       "0                NaN     NaN       25.9           107.1     81.2  \n",
       "1                NaN     NaN       27.1            27.8     79.5  \n",
       "2                NaN     NaN       27.2           160.8     82.3  "
      ]
     },
     "execution_count": 70,
     "metadata": {},
     "output_type": "execute_result"
    }
   ],
   "source": [
    "df7.head(3)"
   ]
  },
  {
   "cell_type": "code",
   "execution_count": 71,
   "metadata": {},
   "outputs": [
    {
     "data": {
      "text/plain": [
       "0      1982-01\n",
       "1      1982-02\n",
       "2      1982-03\n",
       "3      1982-04\n",
       "4      1982-05\n",
       "        ...   \n",
       "462    2020-07\n",
       "463    2020-08\n",
       "464    2020-09\n",
       "465    2020-10\n",
       "466    2020-11\n",
       "Name: month, Length: 467, dtype: object"
      ]
     },
     "execution_count": 71,
     "metadata": {},
     "output_type": "execute_result"
    }
   ],
   "source": [
    "df7.month"
   ]
  },
  {
   "cell_type": "code",
   "execution_count": 87,
   "metadata": {},
   "outputs": [],
   "source": [
    "df7['month']=pd.to_datetime(df7[\"month\"], format = \"%Y-%m\")"
   ]
  },
  {
   "cell_type": "code",
   "execution_count": 73,
   "metadata": {},
   "outputs": [
    {
     "data": {
      "text/plain": [
       "0     1982-01-01\n",
       "1     1982-02-01\n",
       "2     1982-03-01\n",
       "3     1982-04-01\n",
       "4     1982-05-01\n",
       "         ...    \n",
       "462   2020-07-01\n",
       "463   2020-08-01\n",
       "464   2020-09-01\n",
       "465   2020-10-01\n",
       "466   2020-11-01\n",
       "Name: month, Length: 467, dtype: datetime64[ns]"
      ]
     },
     "execution_count": 73,
     "metadata": {},
     "output_type": "execute_result"
    }
   ],
   "source": [
    "df7['month']"
   ]
  },
  {
   "cell_type": "code",
   "execution_count": 88,
   "metadata": {},
   "outputs": [],
   "source": [
    "df7['month-year']=pd.to_datetime(df7['month']).dt.to_period('M')"
   ]
  },
  {
   "cell_type": "code",
   "execution_count": 75,
   "metadata": {},
   "outputs": [
    {
     "data": {
      "text/plain": [
       "0      1982-01\n",
       "1      1982-02\n",
       "2      1982-03\n",
       "3      1982-04\n",
       "4      1982-05\n",
       "        ...   \n",
       "462    2020-07\n",
       "463    2020-08\n",
       "464    2020-09\n",
       "465    2020-10\n",
       "466    2020-11\n",
       "Name: month-year, Length: 467, dtype: period[M]"
      ]
     },
     "execution_count": 75,
     "metadata": {},
     "output_type": "execute_result"
    }
   ],
   "source": [
    "df7['month-year']"
   ]
  },
  {
   "cell_type": "code",
   "execution_count": 89,
   "metadata": {},
   "outputs": [
    {
     "data": {
      "text/plain": [
       "month                       0\n",
       "overall                   280\n",
       "public_housing            280\n",
       "1-room_2-room             280\n",
       "3-room                    280\n",
       "4-room                    280\n",
       "5-room_and_executive      280\n",
       "private_housing           280\n",
       "private_apts_and_condo    280\n",
       "landed_properties         280\n",
       "others                    280\n",
       "mean_temp                   0\n",
       "total_rainfall              0\n",
       "mean_rh                     0\n",
       "month-year                  0\n",
       "dtype: int64"
      ]
     },
     "execution_count": 89,
     "metadata": {},
     "output_type": "execute_result"
    }
   ],
   "source": [
    "df7.isnull().sum()"
   ]
  },
  {
   "cell_type": "code",
   "execution_count": 90,
   "metadata": {},
   "outputs": [],
   "source": [
    "df7=df7[df7['overall'].notnull()]"
   ]
  },
  {
   "cell_type": "code",
   "execution_count": 91,
   "metadata": {},
   "outputs": [
    {
     "data": {
      "text/plain": [
       "month                     0\n",
       "overall                   0\n",
       "public_housing            0\n",
       "1-room_2-room             0\n",
       "3-room                    0\n",
       "4-room                    0\n",
       "5-room_and_executive      0\n",
       "private_housing           0\n",
       "private_apts_and_condo    0\n",
       "landed_properties         0\n",
       "others                    0\n",
       "mean_temp                 0\n",
       "total_rainfall            0\n",
       "mean_rh                   0\n",
       "month-year                0\n",
       "dtype: int64"
      ]
     },
     "execution_count": 91,
     "metadata": {},
     "output_type": "execute_result"
    }
   ],
   "source": [
    "df7.isnull().sum()"
   ]
  },
  {
   "cell_type": "code",
   "execution_count": 79,
   "metadata": {},
   "outputs": [
    {
     "data": {
      "text/plain": [
       "(187, 15)"
      ]
     },
     "execution_count": 79,
     "metadata": {},
     "output_type": "execute_result"
    }
   ],
   "source": [
    "df7.shape"
   ]
  },
  {
   "cell_type": "code",
   "execution_count": 92,
   "metadata": {},
   "outputs": [
    {
     "data": {
      "text/plain": [
       "Index(['month', 'overall', 'public_housing', '1-room_2-room', '3-room',\n",
       "       '4-room', '5-room_and_executive', 'private_housing',\n",
       "       'private_apts_and_condo', 'landed_properties', 'others', 'mean_temp',\n",
       "       'total_rainfall', 'mean_rh', 'month-year'],\n",
       "      dtype='object')"
      ]
     },
     "execution_count": 92,
     "metadata": {},
     "output_type": "execute_result"
    }
   ],
   "source": [
    "df7.columns"
   ]
  },
  {
   "cell_type": "code",
   "execution_count": 93,
   "metadata": {},
   "outputs": [],
   "source": [
    "col=['month', 'month-year','overall', 'public_housing', '1-room_2-room', '3-room',\n",
    "       '4-room', '5-room_and_executive', 'private_housing',\n",
    "       'private_apts_and_condo', 'landed_properties', 'others', 'mean_temp',\n",
    "       'total_rainfall','mean_rh']\n",
    "df7=df7[col]"
   ]
  },
  {
   "cell_type": "code",
   "execution_count": 82,
   "metadata": {},
   "outputs": [
    {
     "data": {
      "text/html": [
       "<div>\n",
       "<style scoped>\n",
       "    .dataframe tbody tr th:only-of-type {\n",
       "        vertical-align: middle;\n",
       "    }\n",
       "\n",
       "    .dataframe tbody tr th {\n",
       "        vertical-align: top;\n",
       "    }\n",
       "\n",
       "    .dataframe thead th {\n",
       "        text-align: right;\n",
       "    }\n",
       "</style>\n",
       "<table border=\"1\" class=\"dataframe\">\n",
       "  <thead>\n",
       "    <tr style=\"text-align: right;\">\n",
       "      <th></th>\n",
       "      <th>month</th>\n",
       "      <th>month-year</th>\n",
       "      <th>overall</th>\n",
       "      <th>public_housing</th>\n",
       "      <th>1-room_2-room</th>\n",
       "      <th>3-room</th>\n",
       "      <th>4-room</th>\n",
       "      <th>5-room_and_executive</th>\n",
       "      <th>private_housing</th>\n",
       "      <th>private_apts_and_condo</th>\n",
       "      <th>landed_properties</th>\n",
       "      <th>others</th>\n",
       "      <th>mean_temp</th>\n",
       "      <th>total_rainfall</th>\n",
       "      <th>mean_rh</th>\n",
       "    </tr>\n",
       "  </thead>\n",
       "  <tbody>\n",
       "    <tr>\n",
       "      <th>442</th>\n",
       "      <td>2018-11-01</td>\n",
       "      <td>2018-11</td>\n",
       "      <td>608.6</td>\n",
       "      <td>356.6</td>\n",
       "      <td>11.5</td>\n",
       "      <td>62.3</td>\n",
       "      <td>148.6</td>\n",
       "      <td>134.2</td>\n",
       "      <td>251.2</td>\n",
       "      <td>167.0</td>\n",
       "      <td>84.3</td>\n",
       "      <td>0.8</td>\n",
       "      <td>27.3</td>\n",
       "      <td>169.6</td>\n",
       "      <td>83.2</td>\n",
       "    </tr>\n",
       "  </tbody>\n",
       "</table>\n",
       "</div>"
      ],
      "text/plain": [
       "         month month-year  overall  public_housing  1-room_2-room  3-room  \\\n",
       "442 2018-11-01    2018-11    608.6           356.6           11.5    62.3   \n",
       "\n",
       "     4-room  5-room_and_executive  private_housing  private_apts_and_condo  \\\n",
       "442   148.6                 134.2            251.2                   167.0   \n",
       "\n",
       "     landed_properties  others  mean_temp  total_rainfall  mean_rh  \n",
       "442               84.3     0.8       27.3           169.6     83.2  "
      ]
     },
     "execution_count": 82,
     "metadata": {},
     "output_type": "execute_result"
    }
   ],
   "source": [
    "df7.sample(1)"
   ]
  },
  {
   "cell_type": "code",
   "execution_count": 94,
   "metadata": {},
   "outputs": [
    {
     "data": {
      "text/plain": [
       "array(['month', 'month-year', 'overall', 'public_housing',\n",
       "       '1-room_2-room', '3-room', '4-room', '5-room_and_executive',\n",
       "       'private_housing', 'private_apts_and_condo', 'landed_properties',\n",
       "       'others', 'mean_temp', 'total_rainfall', 'mean_rh'], dtype=object)"
      ]
     },
     "execution_count": 94,
     "metadata": {},
     "output_type": "execute_result"
    }
   ],
   "source": [
    "df7.columns.values"
   ]
  },
  {
   "cell_type": "code",
   "execution_count": 95,
   "metadata": {},
   "outputs": [],
   "source": [
    "df7.to_csv('dataset_new.csv', index=False)"
   ]
  },
  {
   "cell_type": "code",
   "execution_count": null,
   "metadata": {},
   "outputs": [],
   "source": []
  }
 ],
 "metadata": {
  "kernelspec": {
   "display_name": "Python 3",
   "language": "python",
   "name": "python3"
  },
  "language_info": {
   "codemirror_mode": {
    "name": "ipython",
    "version": 3
   },
   "file_extension": ".py",
   "mimetype": "text/x-python",
   "name": "python",
   "nbconvert_exporter": "python",
   "pygments_lexer": "ipython3",
   "version": "3.7.8"
  }
 },
 "nbformat": 4,
 "nbformat_minor": 4
}
