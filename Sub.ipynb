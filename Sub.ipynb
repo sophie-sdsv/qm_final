{
 "cells": [
  {
   "cell_type": "code",
   "execution_count": 1,
   "metadata": {},
   "outputs": [],
   "source": [
    "import numpy as np\n",
    "import pandas as pd\n",
    "import seaborn as sns\n",
    "import matplotlib.cm as cm\n",
    "import matplotlib.pyplot as plt"
   ]
  },
  {
   "cell_type": "code",
   "execution_count": 2,
   "metadata": {},
   "outputs": [
    {
     "data": {
      "text/plain": [
       "(187, 15)"
      ]
     },
     "execution_count": 2,
     "metadata": {},
     "output_type": "execute_result"
    }
   ],
   "source": [
    "df = pd.read_csv(\"dataset_new.csv\")\n",
    "df.shape"
   ]
  },
  {
   "cell_type": "code",
   "execution_count": 3,
   "metadata": {},
   "outputs": [
    {
     "data": {
      "text/html": [
       "<div>\n",
       "<style scoped>\n",
       "    .dataframe tbody tr th:only-of-type {\n",
       "        vertical-align: middle;\n",
       "    }\n",
       "\n",
       "    .dataframe tbody tr th {\n",
       "        vertical-align: top;\n",
       "    }\n",
       "\n",
       "    .dataframe thead th {\n",
       "        text-align: right;\n",
       "    }\n",
       "</style>\n",
       "<table border=\"1\" class=\"dataframe\">\n",
       "  <thead>\n",
       "    <tr style=\"text-align: right;\">\n",
       "      <th></th>\n",
       "      <th>month</th>\n",
       "      <th>month-year</th>\n",
       "      <th>overall</th>\n",
       "      <th>public_housing</th>\n",
       "      <th>1-room_2-room</th>\n",
       "      <th>3-room</th>\n",
       "      <th>4-room</th>\n",
       "      <th>5-room_and_executive</th>\n",
       "      <th>private_housing</th>\n",
       "      <th>private_apts_and_condo</th>\n",
       "      <th>landed_properties</th>\n",
       "      <th>others</th>\n",
       "      <th>mean_temp</th>\n",
       "      <th>total_rainfall</th>\n",
       "      <th>mean_rh</th>\n",
       "    </tr>\n",
       "  </thead>\n",
       "  <tbody>\n",
       "    <tr>\n",
       "      <th>183</th>\n",
       "      <td>2020-04-01</td>\n",
       "      <td>2020-04</td>\n",
       "      <td>669.9</td>\n",
       "      <td>383.4</td>\n",
       "      <td>13.3</td>\n",
       "      <td>66.8</td>\n",
       "      <td>160.6</td>\n",
       "      <td>142.6</td>\n",
       "      <td>285.7</td>\n",
       "      <td>187.7</td>\n",
       "      <td>97.9</td>\n",
       "      <td>0.9</td>\n",
       "      <td>28.9</td>\n",
       "      <td>188.0</td>\n",
       "      <td>76.4</td>\n",
       "    </tr>\n",
       "    <tr>\n",
       "      <th>32</th>\n",
       "      <td>2007-09-01</td>\n",
       "      <td>2007-09</td>\n",
       "      <td>513.6</td>\n",
       "      <td>315.6</td>\n",
       "      <td>6.1</td>\n",
       "      <td>58.4</td>\n",
       "      <td>124.6</td>\n",
       "      <td>126.4</td>\n",
       "      <td>197.0</td>\n",
       "      <td>118.1</td>\n",
       "      <td>78.9</td>\n",
       "      <td>1.0</td>\n",
       "      <td>27.8</td>\n",
       "      <td>149.0</td>\n",
       "      <td>83.3</td>\n",
       "    </tr>\n",
       "    <tr>\n",
       "      <th>129</th>\n",
       "      <td>2015-10-01</td>\n",
       "      <td>2015-10</td>\n",
       "      <td>643.6</td>\n",
       "      <td>379.3</td>\n",
       "      <td>10.7</td>\n",
       "      <td>67.7</td>\n",
       "      <td>154.9</td>\n",
       "      <td>145.9</td>\n",
       "      <td>263.4</td>\n",
       "      <td>167.7</td>\n",
       "      <td>95.7</td>\n",
       "      <td>0.9</td>\n",
       "      <td>28.7</td>\n",
       "      <td>87.2</td>\n",
       "      <td>75.4</td>\n",
       "    </tr>\n",
       "  </tbody>\n",
       "</table>\n",
       "</div>"
      ],
      "text/plain": [
       "          month month-year  overall  public_housing  1-room_2-room  3-room  \\\n",
       "183  2020-04-01    2020-04    669.9           383.4           13.3    66.8   \n",
       "32   2007-09-01    2007-09    513.6           315.6            6.1    58.4   \n",
       "129  2015-10-01    2015-10    643.6           379.3           10.7    67.7   \n",
       "\n",
       "     4-room  5-room_and_executive  private_housing  private_apts_and_condo  \\\n",
       "183   160.6                 142.6            285.7                   187.7   \n",
       "32    124.6                 126.4            197.0                   118.1   \n",
       "129   154.9                 145.9            263.4                   167.7   \n",
       "\n",
       "     landed_properties  others  mean_temp  total_rainfall  mean_rh  \n",
       "183               97.9     0.9       28.9           188.0     76.4  \n",
       "32                78.9     1.0       27.8           149.0     83.3  \n",
       "129               95.7     0.9       28.7            87.2     75.4  "
      ]
     },
     "execution_count": 3,
     "metadata": {},
     "output_type": "execute_result"
    }
   ],
   "source": [
    "df.sample(3)"
   ]
  },
  {
   "cell_type": "code",
   "execution_count": 4,
   "metadata": {},
   "outputs": [
    {
     "data": {
      "text/plain": [
       "array(['month', 'month-year', 'overall', 'public_housing',\n",
       "       '1-room_2-room', '3-room', '4-room', '5-room_and_executive',\n",
       "       'private_housing', 'private_apts_and_condo', 'landed_properties',\n",
       "       'others', 'mean_temp', 'total_rainfall', 'mean_rh'], dtype=object)"
      ]
     },
     "execution_count": 4,
     "metadata": {},
     "output_type": "execute_result"
    }
   ],
   "source": [
    "df.columns.values"
   ]
  },
  {
   "cell_type": "code",
   "execution_count": 5,
   "metadata": {},
   "outputs": [
    {
     "data": {
      "text/html": [
       "<div>\n",
       "<style scoped>\n",
       "    .dataframe tbody tr th:only-of-type {\n",
       "        vertical-align: middle;\n",
       "    }\n",
       "\n",
       "    .dataframe tbody tr th {\n",
       "        vertical-align: top;\n",
       "    }\n",
       "\n",
       "    .dataframe thead th {\n",
       "        text-align: right;\n",
       "    }\n",
       "</style>\n",
       "<table border=\"1\" class=\"dataframe\">\n",
       "  <thead>\n",
       "    <tr style=\"text-align: right;\">\n",
       "      <th></th>\n",
       "      <th>month-year</th>\n",
       "      <th>public_housing</th>\n",
       "      <th>private_housing</th>\n",
       "      <th>mean_temp</th>\n",
       "      <th>total_rainfall</th>\n",
       "      <th>mean_rh</th>\n",
       "    </tr>\n",
       "  </thead>\n",
       "  <tbody>\n",
       "    <tr>\n",
       "      <th>0</th>\n",
       "      <td>2005-01</td>\n",
       "      <td>280.7</td>\n",
       "      <td>166.2</td>\n",
       "      <td>26.6</td>\n",
       "      <td>163.2</td>\n",
       "      <td>83.3</td>\n",
       "    </tr>\n",
       "    <tr>\n",
       "      <th>1</th>\n",
       "      <td>2005-02</td>\n",
       "      <td>270.8</td>\n",
       "      <td>165.5</td>\n",
       "      <td>28.5</td>\n",
       "      <td>8.4</td>\n",
       "      <td>77.7</td>\n",
       "    </tr>\n",
       "    <tr>\n",
       "      <th>2</th>\n",
       "      <td>2005-03</td>\n",
       "      <td>295.4</td>\n",
       "      <td>183.3</td>\n",
       "      <td>28.5</td>\n",
       "      <td>82.4</td>\n",
       "      <td>80.3</td>\n",
       "    </tr>\n",
       "  </tbody>\n",
       "</table>\n",
       "</div>"
      ],
      "text/plain": [
       "  month-year  public_housing  private_housing  mean_temp  total_rainfall  \\\n",
       "0    2005-01           280.7            166.2       26.6           163.2   \n",
       "1    2005-02           270.8            165.5       28.5             8.4   \n",
       "2    2005-03           295.4            183.3       28.5            82.4   \n",
       "\n",
       "   mean_rh  \n",
       "0     83.3  \n",
       "1     77.7  \n",
       "2     80.3  "
      ]
     },
     "execution_count": 5,
     "metadata": {},
     "output_type": "execute_result"
    }
   ],
   "source": [
    "df[['month-year', 'public_housing',\n",
    "       'private_housing', 'mean_temp', 'total_rainfall', 'mean_rh']].head(3)"
   ]
  },
  {
   "cell_type": "code",
   "execution_count": 6,
   "metadata": {},
   "outputs": [
    {
     "data": {
      "text/html": [
       "<div>\n",
       "<style scoped>\n",
       "    .dataframe tbody tr th:only-of-type {\n",
       "        vertical-align: middle;\n",
       "    }\n",
       "\n",
       "    .dataframe tbody tr th {\n",
       "        vertical-align: top;\n",
       "    }\n",
       "\n",
       "    .dataframe thead th {\n",
       "        text-align: right;\n",
       "    }\n",
       "</style>\n",
       "<table border=\"1\" class=\"dataframe\">\n",
       "  <thead>\n",
       "    <tr style=\"text-align: right;\">\n",
       "      <th></th>\n",
       "      <th>public_housing</th>\n",
       "      <th>private_housing</th>\n",
       "      <th>mean_temp</th>\n",
       "      <th>total_rainfall</th>\n",
       "      <th>mean_rh</th>\n",
       "    </tr>\n",
       "  </thead>\n",
       "  <tbody>\n",
       "    <tr>\n",
       "      <th>count</th>\n",
       "      <td>187.000000</td>\n",
       "      <td>187.000000</td>\n",
       "      <td>187.000000</td>\n",
       "      <td>187.000000</td>\n",
       "      <td>187.000000</td>\n",
       "    </tr>\n",
       "    <tr>\n",
       "      <th>mean</th>\n",
       "      <td>339.652406</td>\n",
       "      <td>227.499465</td>\n",
       "      <td>27.890374</td>\n",
       "      <td>172.655615</td>\n",
       "      <td>81.252941</td>\n",
       "    </tr>\n",
       "    <tr>\n",
       "      <th>std</th>\n",
       "      <td>36.751159</td>\n",
       "      <td>33.238376</td>\n",
       "      <td>0.736026</td>\n",
       "      <td>109.296751</td>\n",
       "      <td>3.887287</td>\n",
       "    </tr>\n",
       "    <tr>\n",
       "      <th>min</th>\n",
       "      <td>270.800000</td>\n",
       "      <td>165.500000</td>\n",
       "      <td>26.100000</td>\n",
       "      <td>0.200000</td>\n",
       "      <td>72.000000</td>\n",
       "    </tr>\n",
       "    <tr>\n",
       "      <th>25%</th>\n",
       "      <td>314.550000</td>\n",
       "      <td>201.750000</td>\n",
       "      <td>27.300000</td>\n",
       "      <td>89.450000</td>\n",
       "      <td>78.500000</td>\n",
       "    </tr>\n",
       "    <tr>\n",
       "      <th>50%</th>\n",
       "      <td>337.800000</td>\n",
       "      <td>225.900000</td>\n",
       "      <td>28.000000</td>\n",
       "      <td>158.400000</td>\n",
       "      <td>81.500000</td>\n",
       "    </tr>\n",
       "    <tr>\n",
       "      <th>75%</th>\n",
       "      <td>363.850000</td>\n",
       "      <td>251.200000</td>\n",
       "      <td>28.450000</td>\n",
       "      <td>237.000000</td>\n",
       "      <td>84.200000</td>\n",
       "    </tr>\n",
       "    <tr>\n",
       "      <th>max</th>\n",
       "      <td>515.200000</td>\n",
       "      <td>370.600000</td>\n",
       "      <td>29.400000</td>\n",
       "      <td>765.900000</td>\n",
       "      <td>88.500000</td>\n",
       "    </tr>\n",
       "  </tbody>\n",
       "</table>\n",
       "</div>"
      ],
      "text/plain": [
       "       public_housing  private_housing   mean_temp  total_rainfall     mean_rh\n",
       "count      187.000000       187.000000  187.000000      187.000000  187.000000\n",
       "mean       339.652406       227.499465   27.890374      172.655615   81.252941\n",
       "std         36.751159        33.238376    0.736026      109.296751    3.887287\n",
       "min        270.800000       165.500000   26.100000        0.200000   72.000000\n",
       "25%        314.550000       201.750000   27.300000       89.450000   78.500000\n",
       "50%        337.800000       225.900000   28.000000      158.400000   81.500000\n",
       "75%        363.850000       251.200000   28.450000      237.000000   84.200000\n",
       "max        515.200000       370.600000   29.400000      765.900000   88.500000"
      ]
     },
     "execution_count": 6,
     "metadata": {},
     "output_type": "execute_result"
    }
   ],
   "source": [
    "df[['month-year', 'public_housing',\n",
    "       'private_housing', 'mean_temp', 'total_rainfall', 'mean_rh']].describe()"
   ]
  },
  {
   "cell_type": "code",
   "execution_count": 7,
   "metadata": {},
   "outputs": [],
   "source": [
    "df2=df\n",
    "df2['log_rain']=np.log(df.total_rainfall)"
   ]
  },
  {
   "cell_type": "code",
   "execution_count": 8,
   "metadata": {},
   "outputs": [
    {
     "data": {
      "text/plain": [
       "Text(0.5, 1.0, 'Energy Consumption of Public Housing')"
      ]
     },
     "execution_count": 8,
     "metadata": {},
     "output_type": "execute_result"
    },
    {
     "data": {
      "image/png": "[encoded data removed]",
      "text/plain": [
       "<Figure size 432x288 with 1 Axes>"
      ]
     },
     "metadata": {
      "needs_background": "light"
     },
     "output_type": "display_data"
    }
   ],
   "source": [
    "sns.histplot(x='public_housing', data=df,kde=True).set_title(\"Energy Consumption of Public Housing\")"
   ]
  },
  {
   "cell_type": "code",
   "execution_count": 9,
   "metadata": {},
   "outputs": [
    {
     "data": {
      "text/plain": [
       "Text(0.5, 1.0, 'Mean Temperature')"
      ]
     },
     "execution_count": 9,
     "metadata": {},
     "output_type": "execute_result"
    },
    {
     "data": {
      "image/png": "[encoded data removed]",
      "text/plain": [
       "<Figure size 432x288 with 1 Axes>"
      ]
     },
     "metadata": {
      "needs_background": "light"
     },
     "output_type": "display_data"
    }
   ],
   "source": [
    "sns.histplot(x='mean_temp', data=df,kde=True).set_title(\"Mean Temperature\")"
   ]
  },
  {
   "cell_type": "code",
   "execution_count": 10,
   "metadata": {},
   "outputs": [
    {
     "data": {
      "text/plain": [
       "Text(0.5, 1.0, 'Total Rainfall')"
      ]
     },
     "execution_count": 10,
     "metadata": {},
     "output_type": "execute_result"
    },
    {
     "data": {
      "image/png": "[encoded data removed]",
      "text/plain": [
       "<Figure size 432x288 with 1 Axes>"
      ]
     },
     "metadata": {
      "needs_background": "light"
     },
     "output_type": "display_data"
    }
   ],
   "source": [
    "sns.histplot(x='total_rainfall', data=df,kde=True).set_title(\"Total Rainfall\")"
   ]
  },
  {
   "cell_type": "code",
   "execution_count": 11,
   "metadata": {},
   "outputs": [
    {
     "data": {
      "text/plain": [
       "Text(0.5, 1.0, 'Log of Total Rain')"
      ]
     },
     "execution_count": 11,
     "metadata": {},
     "output_type": "execute_result"
    },
    {
     "data": {
      "image/png": "[encoded data removed]",
      "text/plain": [
       "<Figure size 432x288 with 1 Axes>"
      ]
     },
     "metadata": {
      "needs_background": "light"
     },
     "output_type": "display_data"
    }
   ],
   "source": [
    "sns.histplot(x=np.log(df['total_rainfall']), data=df,kde=True,color=\"purple\").set_title(\"Log of Total Rain\")"
   ]
  },
  {
   "cell_type": "code",
   "execution_count": 12,
   "metadata": {},
   "outputs": [
    {
     "data": {
      "text/plain": [
       "Text(0.5, 1.0, 'Mean Relative Humidity')"
      ]
     },
     "execution_count": 12,
     "metadata": {},
     "output_type": "execute_result"
    },
    {
     "data": {
      "image/png": "[encoded data removed]",
      "text/plain": [
       "<Figure size 432x288 with 1 Axes>"
      ]
     },
     "metadata": {
      "needs_background": "light"
     },
     "output_type": "display_data"
    }
   ],
   "source": [
    "sns.histplot(x='mean_rh', data=df,kde=True).set_title(\"Mean Relative Humidity\")"
   ]
  },
  {
   "cell_type": "code",
   "execution_count": 13,
   "metadata": {},
   "outputs": [],
   "source": [
    "dfl = df[['public_housing','private_housing','mean_temp','total_rainfall','mean_rh']]"
   ]
  },
  {
   "cell_type": "code",
   "execution_count": 14,
   "metadata": {},
   "outputs": [
    {
     "data": {
      "text/plain": [
       "<seaborn.axisgrid.FacetGrid at 0x7f23b62f8650>"
      ]
     },
     "execution_count": 14,
     "metadata": {},
     "output_type": "execute_result"
    },
    {
     "data": {
      "image/png": "[encoded data removed]",
      "text/plain": [
       "<Figure size 516.875x360 with 1 Axes>"
      ]
     },
     "metadata": {
      "needs_background": "light"
     },
     "output_type": "display_data"
    }
   ],
   "source": [
    "sns.displot(data=df, kind='kde', fill=True)"
   ]
  },
  {
   "cell_type": "code",
   "execution_count": 15,
   "metadata": {},
   "outputs": [
    {
     "data": {
      "image/png": "[encoded data removed]",
      "text/plain": [
       "<Figure size 1296x576 with 1 Axes>"
      ]
     },
     "metadata": {
      "needs_background": "light"
     },
     "output_type": "display_data"
    }
   ],
   "source": [
    "fig, ax = plt.subplots()\n",
    "fig.set_size_inches(18,8)\n",
    "sns.regplot(y='4-room',x='mean_temp',data=df,ci=1,fit_reg=True)\n",
    "plt.ylabel('Electricity Consumption (Gwh)')\n",
    "plt.xlabel('Temperature (Degree Celsius)')\n",
    "plt.title('Relationship Between Electricity Consumption and Temperature')\n",
    "plt.show()"
   ]
  },
  {
   "cell_type": "markdown",
   "metadata": {},
   "source": [
    "# Regression - with constant"
   ]
  },
  {
   "cell_type": "code",
   "execution_count": 16,
   "metadata": {},
   "outputs": [
    {
     "data": {
      "text/html": [
       "<table class=\"simpletable\">\n",
       "<caption>OLS Regression Results</caption>\n",
       "<tr>\n",
       "  <th>Dep. Variable:</th>     <td>public_housing</td>  <th>  R-squared:         </th> <td>   0.378</td>\n",
       "</tr>\n",
       "<tr>\n",
       "  <th>Model:</th>                   <td>OLS</td>       <th>  Adj. R-squared:    </th> <td>   0.368</td>\n",
       "</tr>\n",
       "<tr>\n",
       "  <th>Method:</th>             <td>Least Squares</td>  <th>  F-statistic:       </th> <td>   37.06</td>\n",
       "</tr>\n",
       "<tr>\n",
       "  <th>Date:</th>             <td>Sun, 17 Jan 2021</td> <th>  Prob (F-statistic):</th> <td>9.22e-19</td>\n",
       "</tr>\n",
       "<tr>\n",
       "  <th>Time:</th>                 <td>19:15:53</td>     <th>  Log-Likelihood:    </th> <td> -894.44</td>\n",
       "</tr>\n",
       "<tr>\n",
       "  <th>No. Observations:</th>      <td>   187</td>      <th>  AIC:               </th> <td>   1797.</td>\n",
       "</tr>\n",
       "<tr>\n",
       "  <th>Df Residuals:</th>          <td>   183</td>      <th>  BIC:               </th> <td>   1810.</td>\n",
       "</tr>\n",
       "<tr>\n",
       "  <th>Df Model:</th>              <td>     3</td>      <th>                     </th>     <td> </td>   \n",
       "</tr>\n",
       "<tr>\n",
       "  <th>Covariance Type:</th>      <td>nonrobust</td>    <th>                     </th>     <td> </td>   \n",
       "</tr>\n",
       "</table>\n",
       "<table class=\"simpletable\">\n",
       "<tr>\n",
       "         <td></td>           <th>coef</th>     <th>std err</th>      <th>t</th>      <th>P>|t|</th>  <th>[0.025</th>    <th>0.975]</th>  \n",
       "</tr>\n",
       "<tr>\n",
       "  <th>const</th>          <td>  -84.8644</td> <td>  143.415</td> <td>   -0.592</td> <td> 0.555</td> <td> -367.823</td> <td>  198.094</td>\n",
       "</tr>\n",
       "<tr>\n",
       "  <th>mean_temp</th>      <td>   24.6292</td> <td>    3.806</td> <td>    6.472</td> <td> 0.000</td> <td>   17.121</td> <td>   32.138</td>\n",
       "</tr>\n",
       "<tr>\n",
       "  <th>total_rainfall</th> <td>    0.1117</td> <td>    0.026</td> <td>    4.315</td> <td> 0.000</td> <td>    0.061</td> <td>    0.163</td>\n",
       "</tr>\n",
       "<tr>\n",
       "  <th>mean_rh</th>        <td>   -3.4669</td> <td>    0.766</td> <td>   -4.526</td> <td> 0.000</td> <td>   -4.978</td> <td>   -1.956</td>\n",
       "</tr>\n",
       "</table>\n",
       "<table class=\"simpletable\">\n",
       "<tr>\n",
       "  <th>Omnibus:</th>       <td>84.031</td> <th>  Durbin-Watson:     </th> <td>   0.844</td> \n",
       "</tr>\n",
       "<tr>\n",
       "  <th>Prob(Omnibus):</th> <td> 0.000</td> <th>  Jarque-Bera (JB):  </th> <td> 604.024</td> \n",
       "</tr>\n",
       "<tr>\n",
       "  <th>Skew:</th>          <td> 1.505</td> <th>  Prob(JB):          </th> <td>6.88e-132</td>\n",
       "</tr>\n",
       "<tr>\n",
       "  <th>Kurtosis:</th>      <td>11.274</td> <th>  Cond. No.          </th> <td>1.46e+04</td> \n",
       "</tr>\n",
       "</table><br/><br/>Notes:<br/>[1] Standard Errors assume that the covariance matrix of the errors is correctly specified.<br/>[2] The condition number is large, 1.46e+04. This might indicate that there are<br/>strong multicollinearity or other numerical problems."
      ],
      "text/plain": [
       "<class 'statsmodels.iolib.summary.Summary'>\n",
       "\"\"\"\n",
       "                            OLS Regression Results                            \n",
       "==============================================================================\n",
       "Dep. Variable:         public_housing   R-squared:                       0.378\n",
       "Model:                            OLS   Adj. R-squared:                  0.368\n",
       "Method:                 Least Squares   F-statistic:                     37.06\n",
       "Date:                Sun, 17 Jan 2021   Prob (F-statistic):           9.22e-19\n",
       "Time:                        19:15:53   Log-Likelihood:                -894.44\n",
       "No. Observations:                 187   AIC:                             1797.\n",
       "Df Residuals:                     183   BIC:                             1810.\n",
       "Df Model:                           3                                         \n",
       "Covariance Type:            nonrobust                                         \n",
       "==================================================================================\n",
       "                     coef    std err          t      P>|t|      [0.025      0.975]\n",
       "----------------------------------------------------------------------------------\n",
       "const            -84.8644    143.415     -0.592      0.555    -367.823     198.094\n",
       "mean_temp         24.6292      3.806      6.472      0.000      17.121      32.138\n",
       "total_rainfall     0.1117      0.026      4.315      0.000       0.061       0.163\n",
       "mean_rh           -3.4669      0.766     -4.526      0.000      -4.978      -1.956\n",
       "==============================================================================\n",
       "Omnibus:                       84.031   Durbin-Watson:                   0.844\n",
       "Prob(Omnibus):                  0.000   Jarque-Bera (JB):              604.024\n",
       "Skew:                           1.505   Prob(JB):                    6.88e-132\n",
       "Kurtosis:                      11.274   Cond. No.                     1.46e+04\n",
       "==============================================================================\n",
       "\n",
       "Notes:\n",
       "[1] Standard Errors assume that the covariance matrix of the errors is correctly specified.\n",
       "[2] The condition number is large, 1.46e+04. This might indicate that there are\n",
       "strong multicollinearity or other numerical problems.\n",
       "\"\"\""
      ]
     },
     "execution_count": 16,
     "metadata": {},
     "output_type": "execute_result"
    }
   ],
   "source": [
    "#try multiple regression\n",
    "import statsmodels.api as sm\n",
    "x=df[['mean_temp','total_rainfall','mean_rh']]\n",
    "y=df['public_housing']\n",
    "X = sm.add_constant(x)\n",
    "est = sm.OLS(y, X).fit()\n",
    "est.summary()"
   ]
  },
  {
   "cell_type": "markdown",
   "metadata": {},
   "source": [
    "# Regression - no constant, and using log_rain"
   ]
  },
  {
   "cell_type": "markdown",
   "metadata": {},
   "source": [
    "## public housing"
   ]
  },
  {
   "cell_type": "code",
   "execution_count": 17,
   "metadata": {},
   "outputs": [
    {
     "data": {
      "text/html": [
       "<table class=\"simpletable\">\n",
       "<caption>OLS Regression Results</caption>\n",
       "<tr>\n",
       "  <th>Dep. Variable:</th>     <td>public_housing</td>  <th>  R-squared (uncentered):</th>      <td>   0.993</td> \n",
       "</tr>\n",
       "<tr>\n",
       "  <th>Model:</th>                   <td>OLS</td>       <th>  Adj. R-squared (uncentered):</th> <td>   0.993</td> \n",
       "</tr>\n",
       "<tr>\n",
       "  <th>Method:</th>             <td>Least Squares</td>  <th>  F-statistic:       </th>          <td>   9113.</td> \n",
       "</tr>\n",
       "<tr>\n",
       "  <th>Date:</th>             <td>Sun, 17 Jan 2021</td> <th>  Prob (F-statistic):</th>          <td>8.83e-200</td>\n",
       "</tr>\n",
       "<tr>\n",
       "  <th>Time:</th>                 <td>19:15:53</td>     <th>  Log-Likelihood:    </th>          <td> -888.01</td> \n",
       "</tr>\n",
       "<tr>\n",
       "  <th>No. Observations:</th>      <td>   187</td>      <th>  AIC:               </th>          <td>   1782.</td> \n",
       "</tr>\n",
       "<tr>\n",
       "  <th>Df Residuals:</th>          <td>   184</td>      <th>  BIC:               </th>          <td>   1792.</td> \n",
       "</tr>\n",
       "<tr>\n",
       "  <th>Df Model:</th>              <td>     3</td>      <th>                     </th>              <td> </td>    \n",
       "</tr>\n",
       "<tr>\n",
       "  <th>Covariance Type:</th>      <td>nonrobust</td>    <th>                     </th>              <td> </td>    \n",
       "</tr>\n",
       "</table>\n",
       "<table class=\"simpletable\">\n",
       "<tr>\n",
       "      <td></td>         <th>coef</th>     <th>std err</th>      <th>t</th>      <th>P>|t|</th>  <th>[0.025</th>    <th>0.975]</th>  \n",
       "</tr>\n",
       "<tr>\n",
       "  <th>mean_temp</th> <td>   21.1394</td> <td>    1.176</td> <td>   17.971</td> <td> 0.000</td> <td>   18.819</td> <td>   23.460</td>\n",
       "</tr>\n",
       "<tr>\n",
       "  <th>log_rain</th>  <td>   15.7315</td> <td>    2.726</td> <td>    5.770</td> <td> 0.000</td> <td>   10.352</td> <td>   21.111</td>\n",
       "</tr>\n",
       "<tr>\n",
       "  <th>mean_rh</th>   <td>   -4.0227</td> <td>    0.486</td> <td>   -8.285</td> <td> 0.000</td> <td>   -4.981</td> <td>   -3.065</td>\n",
       "</tr>\n",
       "</table>\n",
       "<table class=\"simpletable\">\n",
       "<tr>\n",
       "  <th>Omnibus:</th>       <td>87.326</td> <th>  Durbin-Watson:     </th> <td>   0.927</td> \n",
       "</tr>\n",
       "<tr>\n",
       "  <th>Prob(Omnibus):</th> <td> 0.000</td> <th>  Jarque-Bera (JB):  </th> <td> 632.520</td> \n",
       "</tr>\n",
       "<tr>\n",
       "  <th>Skew:</th>          <td> 1.578</td> <th>  Prob(JB):          </th> <td>4.47e-138</td>\n",
       "</tr>\n",
       "<tr>\n",
       "  <th>Kurtosis:</th>      <td>11.439</td> <th>  Cond. No.          </th> <td>    116.</td> \n",
       "</tr>\n",
       "</table><br/><br/>Notes:<br/>[1] R² is computed without centering (uncentered) since the model does not contain a constant.<br/>[2] Standard Errors assume that the covariance matrix of the errors is correctly specified."
      ],
      "text/plain": [
       "<class 'statsmodels.iolib.summary.Summary'>\n",
       "\"\"\"\n",
       "                                 OLS Regression Results                                \n",
       "=======================================================================================\n",
       "Dep. Variable:         public_housing   R-squared (uncentered):                   0.993\n",
       "Model:                            OLS   Adj. R-squared (uncentered):              0.993\n",
       "Method:                 Least Squares   F-statistic:                              9113.\n",
       "Date:                Sun, 17 Jan 2021   Prob (F-statistic):                   8.83e-200\n",
       "Time:                        19:15:53   Log-Likelihood:                         -888.01\n",
       "No. Observations:                 187   AIC:                                      1782.\n",
       "Df Residuals:                     184   BIC:                                      1792.\n",
       "Df Model:                           3                                                  \n",
       "Covariance Type:            nonrobust                                                  \n",
       "==============================================================================\n",
       "                 coef    std err          t      P>|t|      [0.025      0.975]\n",
       "------------------------------------------------------------------------------\n",
       "mean_temp     21.1394      1.176     17.971      0.000      18.819      23.460\n",
       "log_rain      15.7315      2.726      5.770      0.000      10.352      21.111\n",
       "mean_rh       -4.0227      0.486     -8.285      0.000      -4.981      -3.065\n",
       "==============================================================================\n",
       "Omnibus:                       87.326   Durbin-Watson:                   0.927\n",
       "Prob(Omnibus):                  0.000   Jarque-Bera (JB):              632.520\n",
       "Skew:                           1.578   Prob(JB):                    4.47e-138\n",
       "Kurtosis:                      11.439   Cond. No.                         116.\n",
       "==============================================================================\n",
       "\n",
       "Notes:\n",
       "[1] R² is computed without centering (uncentered) since the model does not contain a constant.\n",
       "[2] Standard Errors assume that the covariance matrix of the errors is correctly specified.\n",
       "\"\"\""
      ]
     },
     "execution_count": 17,
     "metadata": {},
     "output_type": "execute_result"
    }
   ],
   "source": [
    "#try multiple regression\n",
    "import statsmodels.api as sm\n",
    "x=df2[['mean_temp','log_rain','mean_rh']]\n",
    "y=df2['public_housing']\n",
    "#X = sm.add_constant(x)\n",
    "est_nocons = sm.OLS(y, x).fit()\n",
    "est_nocons.summary()"
   ]
  },
  {
   "cell_type": "markdown",
   "metadata": {},
   "source": [
    "Diagnostics, partial regression"
   ]
  },
  {
   "cell_type": "code",
   "execution_count": 19,
   "metadata": {},
   "outputs": [
    {
     "data": {
      "image/png": "[encoded data removed]",
      "text/plain": [
       "<Figure size 432x288 with 3 Axes>"
      ]
     },
     "metadata": {
      "needs_background": "light"
     },
     "output_type": "display_data"
    }
   ],
   "source": [
    "fig = sm.graphics.plot_partregress_grid(est_nocons)\n",
    "fig.tight_layout(pad=1.0)"
   ]
  },
  {
   "cell_type": "markdown",
   "metadata": {},
   "source": [
    "Diagnostics, partial regression"
   ]
  },
  {
   "cell_type": "code",
   "execution_count": 20,
   "metadata": {},
   "outputs": [
    {
     "data": {
      "text/html": [
       "<div>\n",
       "<style scoped>\n",
       "    .dataframe tbody tr th:only-of-type {\n",
       "        vertical-align: middle;\n",
       "    }\n",
       "\n",
       "    .dataframe tbody tr th {\n",
       "        vertical-align: top;\n",
       "    }\n",
       "\n",
       "    .dataframe thead th {\n",
       "        text-align: right;\n",
       "    }\n",
       "</style>\n",
       "<table border=\"1\" class=\"dataframe\">\n",
       "  <thead>\n",
       "    <tr style=\"text-align: right;\">\n",
       "      <th></th>\n",
       "      <th>VIF Factor</th>\n",
       "      <th>features</th>\n",
       "    </tr>\n",
       "  </thead>\n",
       "  <tbody>\n",
       "    <tr>\n",
       "      <th>0</th>\n",
       "      <td>254.013630</td>\n",
       "      <td>mean_temp</td>\n",
       "    </tr>\n",
       "    <tr>\n",
       "      <th>1</th>\n",
       "      <td>43.380854</td>\n",
       "      <td>log_rain</td>\n",
       "    </tr>\n",
       "    <tr>\n",
       "      <th>2</th>\n",
       "      <td>367.915209</td>\n",
       "      <td>mean_rh</td>\n",
       "    </tr>\n",
       "  </tbody>\n",
       "</table>\n",
       "</div>"
      ],
      "text/plain": [
       "   VIF Factor   features\n",
       "0  254.013630  mean_temp\n",
       "1   43.380854   log_rain\n",
       "2  367.915209    mean_rh"
      ]
     },
     "execution_count": 20,
     "metadata": {},
     "output_type": "execute_result"
    }
   ],
   "source": [
    "from statsmodels.stats.outliers_influence import variance_inflation_factor \n",
    "vif = pd.DataFrame()\n",
    "vars_r = df2[['mean_temp','log_rain','mean_rh']]\n",
    "vif[\"VIF Factor\"] = [variance_inflation_factor(vars_r.values, i) for i in range(vars_r.shape[1])]\n",
    "vif[\"features\"] = vars_r.columns\n",
    "\n",
    "vif"
   ]
  },
  {
   "cell_type": "markdown",
   "metadata": {},
   "source": [
    "## private housing"
   ]
  },
  {
   "cell_type": "code",
   "execution_count": 21,
   "metadata": {},
   "outputs": [
    {
     "data": {
      "text/html": [
       "<table class=\"simpletable\">\n",
       "<caption>OLS Regression Results</caption>\n",
       "<tr>\n",
       "  <th>Dep. Variable:</th>     <td>private_housing</td> <th>  R-squared (uncentered):</th>      <td>   0.988</td> \n",
       "</tr>\n",
       "<tr>\n",
       "  <th>Model:</th>                   <td>OLS</td>       <th>  Adj. R-squared (uncentered):</th> <td>   0.988</td> \n",
       "</tr>\n",
       "<tr>\n",
       "  <th>Method:</th>             <td>Least Squares</td>  <th>  F-statistic:       </th>          <td>   5094.</td> \n",
       "</tr>\n",
       "<tr>\n",
       "  <th>Date:</th>             <td>Sun, 17 Jan 2021</td> <th>  Prob (F-statistic):</th>          <td>9.43e-177</td>\n",
       "</tr>\n",
       "<tr>\n",
       "  <th>Time:</th>                 <td>19:15:54</td>     <th>  Log-Likelihood:    </th>          <td> -867.84</td> \n",
       "</tr>\n",
       "<tr>\n",
       "  <th>No. Observations:</th>      <td>   187</td>      <th>  AIC:               </th>          <td>   1742.</td> \n",
       "</tr>\n",
       "<tr>\n",
       "  <th>Df Residuals:</th>          <td>   184</td>      <th>  BIC:               </th>          <td>   1751.</td> \n",
       "</tr>\n",
       "<tr>\n",
       "  <th>Df Model:</th>              <td>     3</td>      <th>                     </th>              <td> </td>    \n",
       "</tr>\n",
       "<tr>\n",
       "  <th>Covariance Type:</th>      <td>nonrobust</td>    <th>                     </th>              <td> </td>    \n",
       "</tr>\n",
       "</table>\n",
       "<table class=\"simpletable\">\n",
       "<tr>\n",
       "      <td></td>         <th>coef</th>     <th>std err</th>      <th>t</th>      <th>P>|t|</th>  <th>[0.025</th>    <th>0.975]</th>  \n",
       "</tr>\n",
       "<tr>\n",
       "  <th>mean_temp</th> <td>   17.8273</td> <td>    1.056</td> <td>   16.881</td> <td> 0.000</td> <td>   15.744</td> <td>   19.911</td>\n",
       "</tr>\n",
       "<tr>\n",
       "  <th>log_rain</th>  <td>   13.8602</td> <td>    2.448</td> <td>    5.663</td> <td> 0.000</td> <td>    9.031</td> <td>   18.689</td>\n",
       "</tr>\n",
       "<tr>\n",
       "  <th>mean_rh</th>   <td>   -4.1541</td> <td>    0.436</td> <td>   -9.530</td> <td> 0.000</td> <td>   -5.014</td> <td>   -3.294</td>\n",
       "</tr>\n",
       "</table>\n",
       "<table class=\"simpletable\">\n",
       "<tr>\n",
       "  <th>Omnibus:</th>       <td>65.274</td> <th>  Durbin-Watson:     </th> <td>   0.688</td>\n",
       "</tr>\n",
       "<tr>\n",
       "  <th>Prob(Omnibus):</th> <td> 0.000</td> <th>  Jarque-Bera (JB):  </th> <td> 270.757</td>\n",
       "</tr>\n",
       "<tr>\n",
       "  <th>Skew:</th>          <td> 1.293</td> <th>  Prob(JB):          </th> <td>1.61e-59</td>\n",
       "</tr>\n",
       "<tr>\n",
       "  <th>Kurtosis:</th>      <td> 8.297</td> <th>  Cond. No.          </th> <td>    116.</td>\n",
       "</tr>\n",
       "</table><br/><br/>Notes:<br/>[1] R² is computed without centering (uncentered) since the model does not contain a constant.<br/>[2] Standard Errors assume that the covariance matrix of the errors is correctly specified."
      ],
      "text/plain": [
       "<class 'statsmodels.iolib.summary.Summary'>\n",
       "\"\"\"\n",
       "                                 OLS Regression Results                                \n",
       "=======================================================================================\n",
       "Dep. Variable:        private_housing   R-squared (uncentered):                   0.988\n",
       "Model:                            OLS   Adj. R-squared (uncentered):              0.988\n",
       "Method:                 Least Squares   F-statistic:                              5094.\n",
       "Date:                Sun, 17 Jan 2021   Prob (F-statistic):                   9.43e-177\n",
       "Time:                        19:15:54   Log-Likelihood:                         -867.84\n",
       "No. Observations:                 187   AIC:                                      1742.\n",
       "Df Residuals:                     184   BIC:                                      1751.\n",
       "Df Model:                           3                                                  \n",
       "Covariance Type:            nonrobust                                                  \n",
       "==============================================================================\n",
       "                 coef    std err          t      P>|t|      [0.025      0.975]\n",
       "------------------------------------------------------------------------------\n",
       "mean_temp     17.8273      1.056     16.881      0.000      15.744      19.911\n",
       "log_rain      13.8602      2.448      5.663      0.000       9.031      18.689\n",
       "mean_rh       -4.1541      0.436     -9.530      0.000      -5.014      -3.294\n",
       "==============================================================================\n",
       "Omnibus:                       65.274   Durbin-Watson:                   0.688\n",
       "Prob(Omnibus):                  0.000   Jarque-Bera (JB):              270.757\n",
       "Skew:                           1.293   Prob(JB):                     1.61e-59\n",
       "Kurtosis:                       8.297   Cond. No.                         116.\n",
       "==============================================================================\n",
       "\n",
       "Notes:\n",
       "[1] R² is computed without centering (uncentered) since the model does not contain a constant.\n",
       "[2] Standard Errors assume that the covariance matrix of the errors is correctly specified.\n",
       "\"\"\""
      ]
     },
     "execution_count": 21,
     "metadata": {},
     "output_type": "execute_result"
    }
   ],
   "source": [
    "#try for private housing\n",
    "import statsmodels.api as sm\n",
    "x=df2[['mean_temp','log_rain','mean_rh']]\n",
    "y=df2['private_housing']\n",
    "#X = sm.add_constant(x)\n",
    "est_pri = sm.OLS(y, x).fit()\n",
    "est_pri.summary()"
   ]
  },
  {
   "cell_type": "markdown",
   "metadata": {},
   "source": [
    "Diagnostics, partial regression"
   ]
  },
  {
   "cell_type": "code",
   "execution_count": 32,
   "metadata": {},
   "outputs": [
    {
     "data": {
      "image/png": "[encoded data removed]",
      "text/plain": [
       "<Figure size 432x288 with 3 Axes>"
      ]
     },
     "metadata": {
      "needs_background": "light"
     },
     "output_type": "display_data"
    }
   ],
   "source": [
    "fig = sm.graphics.plot_partregress_grid(est_pri)\n",
    "fig.tight_layout(pad=1.0)"
   ]
  },
  {
   "cell_type": "markdown",
   "metadata": {},
   "source": [
    "# Find out impact of raising 1Deg"
   ]
  },
  {
   "cell_type": "markdown",
   "metadata": {},
   "source": [
    "### public housing"
   ]
  },
  {
   "cell_type": "code",
   "execution_count": 18,
   "metadata": {},
   "outputs": [
    {
     "name": "stdout",
     "output_type": "stream",
     "text": [
      "365.50577965185045 386.64517965185047\n",
      "For public housing, if temp raise by 1, the electricity usage will raise by 5.78%\n"
     ]
    }
   ],
   "source": [
    "#cal usage rates\n",
    "# assume temp is 28, rain is 200, rh 77\n",
    "t_1 = 21.1394*28+15.7315*np.log(200)-4.0227*77\n",
    "\n",
    "#if temp is 29??\n",
    "t_2 = 21.1394*29+15.7315*np.log(200)-4.0227*77\n",
    "\n",
    "p_change= (t_2-t_1)/t_1 *100\n",
    "print(t_1, t_2) \n",
    "print(f\"For public housing, if temp raise by 1, the electricity usage will raise by {p_change:.2f}%\")"
   ]
  },
  {
   "cell_type": "markdown",
   "metadata": {},
   "source": [
    "### private housing"
   ]
  },
  {
   "cell_type": "code",
   "execution_count": 22,
   "metadata": {},
   "outputs": [
    {
     "name": "stdout",
     "output_type": "stream",
     "text": [
      "252.7344383638291 270.56173836382925\n",
      "For private housing, if temp raise by 1, the electricity usage will raise by 7.05%\n"
     ]
    }
   ],
   "source": [
    "#cal usage rates\n",
    "# assume temp is 28, rain is 200, rh 77\n",
    "tp_1 = 17.8273*28+13.8602*np.log(200)-4.1541*77\n",
    "\n",
    "#if temp is 29??\n",
    "tp_2 = 17.8273*29+13.8602*np.log(200)-4.1541*77\n",
    "\n",
    "p_change= (tp_2-tp_1)/tp_1 *100\n",
    "print(tp_1, tp_2) \n",
    "print(f\"For private housing, if temp raise by 1, the electricity usage will raise by {p_change:.2f}%\")"
   ]
  },
  {
   "cell_type": "code",
   "execution_count": 23,
   "metadata": {},
   "outputs": [
    {
     "name": "stdout",
     "output_type": "stream",
     "text": [
      "199.2525383638291\n",
      "217.07983836382925\n",
      "234.90713836382918\n",
      "252.7344383638291\n",
      "270.56173836382925\n",
      "288.3890383638292\n",
      "302.0875796518504\n",
      "323.2269796518504\n",
      "344.3663796518504\n",
      "365.50577965185045\n",
      "386.64517965185047\n",
      "407.78457965185027\n"
     ]
    }
   ],
   "source": [
    "i=26.5\n",
    "s=[25,26,27,28,29,30]\n",
    "diff=[]\n",
    "priv=[]\n",
    "\n",
    "#priv\n",
    "for num in s:\n",
    "    x=17.8273*num+13.8602*np.log(200)-4.1541*77\n",
    "    print(x)\n",
    "    diff.append(x)\n",
    " #pub   \n",
    "for num in s:\n",
    "    x=21.1394*num+15.7315*np.log(200)-4.0227*77\n",
    "    print(x)\n",
    "    priv.append(x)\n",
    "    \n"
   ]
  },
  {
   "cell_type": "code",
   "execution_count": 24,
   "metadata": {},
   "outputs": [],
   "source": [
    "c=[0,1,2,3,4,5]"
   ]
  },
  {
   "cell_type": "code",
   "execution_count": 25,
   "metadata": {},
   "outputs": [],
   "source": [
    "tp = {'temp':s,'raise':c,'pub':priv,'priv':diff}"
   ]
  },
  {
   "cell_type": "code",
   "execution_count": 26,
   "metadata": {},
   "outputs": [],
   "source": [
    "tp_c = pd.DataFrame(tp)"
   ]
  },
  {
   "cell_type": "code",
   "execution_count": 27,
   "metadata": {},
   "outputs": [],
   "source": [
    "tp_c['public']=100*tp_c['pub'].pct_change()"
   ]
  },
  {
   "cell_type": "code",
   "execution_count": 28,
   "metadata": {},
   "outputs": [],
   "source": [
    "tp_c['private']=100*tp_c['priv'].pct_change()"
   ]
  },
  {
   "cell_type": "code",
   "execution_count": 29,
   "metadata": {},
   "outputs": [
    {
     "data": {
      "text/html": [
       "<div>\n",
       "<style scoped>\n",
       "    .dataframe tbody tr th:only-of-type {\n",
       "        vertical-align: middle;\n",
       "    }\n",
       "\n",
       "    .dataframe tbody tr th {\n",
       "        vertical-align: top;\n",
       "    }\n",
       "\n",
       "    .dataframe thead th {\n",
       "        text-align: right;\n",
       "    }\n",
       "</style>\n",
       "<table border=\"1\" class=\"dataframe\">\n",
       "  <thead>\n",
       "    <tr style=\"text-align: right;\">\n",
       "      <th></th>\n",
       "      <th>temp</th>\n",
       "      <th>raise</th>\n",
       "      <th>pub</th>\n",
       "      <th>priv</th>\n",
       "      <th>public</th>\n",
       "      <th>private</th>\n",
       "    </tr>\n",
       "  </thead>\n",
       "  <tbody>\n",
       "    <tr>\n",
       "      <th>0</th>\n",
       "      <td>25</td>\n",
       "      <td>0</td>\n",
       "      <td>302.08758</td>\n",
       "      <td>199.252538</td>\n",
       "      <td>NaN</td>\n",
       "      <td>NaN</td>\n",
       "    </tr>\n",
       "    <tr>\n",
       "      <th>1</th>\n",
       "      <td>26</td>\n",
       "      <td>1</td>\n",
       "      <td>323.22698</td>\n",
       "      <td>217.079838</td>\n",
       "      <td>6.997772</td>\n",
       "      <td>8.947088</td>\n",
       "    </tr>\n",
       "    <tr>\n",
       "      <th>2</th>\n",
       "      <td>27</td>\n",
       "      <td>2</td>\n",
       "      <td>344.36638</td>\n",
       "      <td>234.907138</td>\n",
       "      <td>6.540110</td>\n",
       "      <td>8.212324</td>\n",
       "    </tr>\n",
       "    <tr>\n",
       "      <th>3</th>\n",
       "      <td>28</td>\n",
       "      <td>3</td>\n",
       "      <td>365.50578</td>\n",
       "      <td>252.734438</td>\n",
       "      <td>6.138636</td>\n",
       "      <td>7.589084</td>\n",
       "    </tr>\n",
       "    <tr>\n",
       "      <th>4</th>\n",
       "      <td>29</td>\n",
       "      <td>4</td>\n",
       "      <td>386.64518</td>\n",
       "      <td>270.561738</td>\n",
       "      <td>5.783602</td>\n",
       "      <td>7.053768</td>\n",
       "    </tr>\n",
       "    <tr>\n",
       "      <th>5</th>\n",
       "      <td>30</td>\n",
       "      <td>5</td>\n",
       "      <td>407.78458</td>\n",
       "      <td>288.389038</td>\n",
       "      <td>5.467390</td>\n",
       "      <td>6.588995</td>\n",
       "    </tr>\n",
       "  </tbody>\n",
       "</table>\n",
       "</div>"
      ],
      "text/plain": [
       "   temp  raise        pub        priv    public   private\n",
       "0    25      0  302.08758  199.252538       NaN       NaN\n",
       "1    26      1  323.22698  217.079838  6.997772  8.947088\n",
       "2    27      2  344.36638  234.907138  6.540110  8.212324\n",
       "3    28      3  365.50578  252.734438  6.138636  7.589084\n",
       "4    29      4  386.64518  270.561738  5.783602  7.053768\n",
       "5    30      5  407.78458  288.389038  5.467390  6.588995"
      ]
     },
     "execution_count": 29,
     "metadata": {},
     "output_type": "execute_result"
    }
   ],
   "source": [
    "tp_c"
   ]
  },
  {
   "cell_type": "code",
   "execution_count": 30,
   "metadata": {},
   "outputs": [
    {
     "data": {
      "text/html": [
       "<div>\n",
       "<style scoped>\n",
       "    .dataframe tbody tr th:only-of-type {\n",
       "        vertical-align: middle;\n",
       "    }\n",
       "\n",
       "    .dataframe tbody tr th {\n",
       "        vertical-align: top;\n",
       "    }\n",
       "\n",
       "    .dataframe thead th {\n",
       "        text-align: right;\n",
       "    }\n",
       "</style>\n",
       "<table border=\"1\" class=\"dataframe\">\n",
       "  <thead>\n",
       "    <tr style=\"text-align: right;\">\n",
       "      <th></th>\n",
       "      <th>raise</th>\n",
       "      <th>variable</th>\n",
       "      <th>value</th>\n",
       "    </tr>\n",
       "  </thead>\n",
       "  <tbody>\n",
       "    <tr>\n",
       "      <th>0</th>\n",
       "      <td>0</td>\n",
       "      <td>public</td>\n",
       "      <td>NaN</td>\n",
       "    </tr>\n",
       "    <tr>\n",
       "      <th>1</th>\n",
       "      <td>1</td>\n",
       "      <td>public</td>\n",
       "      <td>6.997772</td>\n",
       "    </tr>\n",
       "    <tr>\n",
       "      <th>2</th>\n",
       "      <td>2</td>\n",
       "      <td>public</td>\n",
       "      <td>6.540110</td>\n",
       "    </tr>\n",
       "    <tr>\n",
       "      <th>3</th>\n",
       "      <td>3</td>\n",
       "      <td>public</td>\n",
       "      <td>6.138636</td>\n",
       "    </tr>\n",
       "    <tr>\n",
       "      <th>4</th>\n",
       "      <td>4</td>\n",
       "      <td>public</td>\n",
       "      <td>5.783602</td>\n",
       "    </tr>\n",
       "    <tr>\n",
       "      <th>5</th>\n",
       "      <td>5</td>\n",
       "      <td>public</td>\n",
       "      <td>5.467390</td>\n",
       "    </tr>\n",
       "    <tr>\n",
       "      <th>6</th>\n",
       "      <td>0</td>\n",
       "      <td>private</td>\n",
       "      <td>NaN</td>\n",
       "    </tr>\n",
       "    <tr>\n",
       "      <th>7</th>\n",
       "      <td>1</td>\n",
       "      <td>private</td>\n",
       "      <td>8.947088</td>\n",
       "    </tr>\n",
       "    <tr>\n",
       "      <th>8</th>\n",
       "      <td>2</td>\n",
       "      <td>private</td>\n",
       "      <td>8.212324</td>\n",
       "    </tr>\n",
       "    <tr>\n",
       "      <th>9</th>\n",
       "      <td>3</td>\n",
       "      <td>private</td>\n",
       "      <td>7.589084</td>\n",
       "    </tr>\n",
       "    <tr>\n",
       "      <th>10</th>\n",
       "      <td>4</td>\n",
       "      <td>private</td>\n",
       "      <td>7.053768</td>\n",
       "    </tr>\n",
       "    <tr>\n",
       "      <th>11</th>\n",
       "      <td>5</td>\n",
       "      <td>private</td>\n",
       "      <td>6.588995</td>\n",
       "    </tr>\n",
       "  </tbody>\n",
       "</table>\n",
       "</div>"
      ],
      "text/plain": [
       "    raise variable     value\n",
       "0       0   public       NaN\n",
       "1       1   public  6.997772\n",
       "2       2   public  6.540110\n",
       "3       3   public  6.138636\n",
       "4       4   public  5.783602\n",
       "5       5   public  5.467390\n",
       "6       0  private       NaN\n",
       "7       1  private  8.947088\n",
       "8       2  private  8.212324\n",
       "9       3  private  7.589084\n",
       "10      4  private  7.053768\n",
       "11      5  private  6.588995"
      ]
     },
     "execution_count": 30,
     "metadata": {},
     "output_type": "execute_result"
    }
   ],
   "source": [
    "tp_c.melt(id_vars='raise', value_vars=['public','private'])"
   ]
  },
  {
   "cell_type": "code",
   "execution_count": 31,
   "metadata": {},
   "outputs": [
    {
     "data": {
      "image/png": "[encoded data removed]",
      "text/plain": [
       "<Figure size 1296x576 with 1 Axes>"
      ]
     },
     "metadata": {
      "needs_background": "light"
     },
     "output_type": "display_data"
    }
   ],
   "source": [
    "fig, ax = plt.subplots()\n",
    "fig.set_size_inches(18,8)\n",
    "\n",
    "\n",
    "sns.lineplot(x='raise', y='value', data=tp_c.melt(id_vars='raise', value_vars=['public','private']), hue='variable')\n",
    "plt.ylabel('%Change in electricity usage')\n",
    "plt.xlabel('Temperature Raise(Degree Celsius)')\n",
    "plt.title('Impact of electricity usage when raising 1degC')\n",
    "plt.show()"
   ]
  },
  {
   "cell_type": "code",
   "execution_count": null,
   "metadata": {},
   "outputs": [],
   "source": []
  },
  {
   "cell_type": "code",
   "execution_count": null,
   "metadata": {},
   "outputs": [],
   "source": []
  }
 ],
 "metadata": {
  "kernelspec": {
   "display_name": "Python 3",
   "language": "python",
   "name": "python3"
  },
  "language_info": {
   "codemirror_mode": {
    "name": "ipython",
    "version": 3
   },
   "file_extension": ".py",
   "mimetype": "text/x-python",
   "name": "python",
   "nbconvert_exporter": "python",
   "pygments_lexer": "ipython3",
   "version": "3.7.8"
  }
 },
 "nbformat": 4,
 "nbformat_minor": 4
}
