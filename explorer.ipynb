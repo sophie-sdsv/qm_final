{
 "cells": [
  {
   "cell_type": "markdown",
   "id": "commercial-livestock",
   "metadata": {},
   "source": [
    "# Introduction\n",
    "Melbourne's house prices has been soaring rapidly. In 2014, foreign investment in Melbourne's residential properties account for 14% of sales, and resulted in a 5% rise in house prices in 2015. Australia Government made efforts to tackle foreign investments such as implementing reselling limits and taxes to mitigate the effects of the quick rising house prices. Also, the introduction to new technology such as Airbnb for short rentals poses a threat to the traditional house market as the demand for houses that are convenient in most aspects become the prime target for short rental house owners. \n",
    "\n",
    "The purpose of this study is to evaluate whether the house prices in Melbourne are predictable, and finding factors that contribute to a pricey houes, so that authorities can make corresponding responses to the situation.\n",
    "\n",
    "# Literature Review\n",
    "Tamarai and Malarvizhi (2020) used decision tree regression and multivariant linear regression to predict the house prices in Tadepalligudem, India. They also produced a decision tree to classify whether the requirements proposed by a user is available or not. The economy situation of Australia also creates an attractive environment to buyers, with a low interest rate and high loan approval rates, foreign investors gain huge confidence in buying houses for investment purposes instead of inhabitation. This could be a reason why the house price surge so fast and made locals face difficulties in buying homes. \n",
    "\n",
    "# Research Question\n",
    " 1. RQ1: What are the factors that affect house prices in Melbourne? \n",
    " 2. RQ2: What are the main influencers of pricey houses?"
   ]
  },
  {
   "cell_type": "markdown",
   "id": "eastern-contamination",
   "metadata": {},
   "source": [
    "# Presentation of Data \n",
    "The dataset used is about the house prices of Melbourne, found on [Kaggle](https://www.kaggle.com/dansbecker/melbourne-housing-snapshot). The dataset contains around 13,000 records, about the selling prices of houses from 2016-2017 and the houses' features such as bedrooms, location, distance from central business district etc. The first step will be to clean the data, removing rows that have no data or null value. After that, columns that do not fit the task will be removed (postcode, location, suburb name), and then the whole set will be split into 2 sets for classification tasks. For regression tasks, the set will not be split.\n",
    "\n",
    "# Methodology\n",
    "In this study, there are 2 objectives, to predict the house price and classify whether the price of a house given its attributes can be sold at a high price or not.\n",
    "\n",
    "We will first do regression task to see if the house prices are predictable or not. Before that, we need to consider multicollinearity between the independent variables. A high correlation between variables will lead to a less accurate model. VIF will be used to eliminate the unusable variables before we perform multivariable linear regression. Also, random forest regressor will be used for the task, the performance between linear regression and random forest regressor will be compared.\n",
    "\n",
    "After that, we will move on to do classification. According to the boxplot created to see the price distribution, the **75th percentile** price of the houses sold is selected as the benchmark for pricey houses. K-means neighborhood, decision tree and random forest will be used to produce 3 models, `GridSearchCV` is used to find the optimal parameters for the models. Lastly, the performance of the 3 models will be compared.\n",
    "\n",
    "## Data Preprocessing\n",
    "Firstly, we will check for NAN values, 3 columns \"Building Area\", \"Year built\" and \"Council Area\" contains nan values, especially in column building area that has over 6000 nan rows. Though this study do not intend to do spatial analysis, the location codes are kept because they can still be grouped for classification tasks. All rows with nan values will be erased for now, the resulting dataframe only contains 6700 rows.\n",
    "\n",
    "\n",
    "\n",
    "\n"
   ]
  },
  {
   "cell_type": "code",
   "execution_count": 1,
   "id": "twelve-affiliation",
   "metadata": {},
   "outputs": [],
   "source": [
    "#utility function to calculate runtime\n",
    "import time\n",
    "start_time = time.time()"
   ]
  },
  {
   "cell_type": "code",
   "execution_count": 2,
   "id": "wicked-pixel",
   "metadata": {},
   "outputs": [],
   "source": [
    "import numpy as np\n",
    "import matplotlib.pyplot as plt\n",
    "import pandas as pd\n",
    "import seaborn as sns\n",
    "import geopandas as gpd\n",
    "\n",
    "pd.set_option('display.max_rows', 400) # specifies number of rows to show\n",
    "pd.options.display.float_format = '{:40,.4f}'.format\n",
    "%matplotlib inline\n",
    "\n",
    "import statsmodels.api as sm"
   ]
  },
  {
   "cell_type": "code",
   "execution_count": 3,
   "id": "discrete-stationery",
   "metadata": {},
   "outputs": [
    {
     "data": {
      "text/html": [
       "<div>\n",
       "<style scoped>\n",
       "    .dataframe tbody tr th:only-of-type {\n",
       "        vertical-align: middle;\n",
       "    }\n",
       "\n",
       "    .dataframe tbody tr th {\n",
       "        vertical-align: top;\n",
       "    }\n",
       "\n",
       "    .dataframe thead th {\n",
       "        text-align: right;\n",
       "    }\n",
       "</style>\n",
       "<table border=\"1\" class=\"dataframe\">\n",
       "  <thead>\n",
       "    <tr style=\"text-align: right;\">\n",
       "      <th></th>\n",
       "      <th>Suburb</th>\n",
       "      <th>Address</th>\n",
       "      <th>Rooms</th>\n",
       "      <th>Type</th>\n",
       "      <th>Price</th>\n",
       "      <th>Method</th>\n",
       "      <th>SellerG</th>\n",
       "      <th>Date</th>\n",
       "      <th>Distance</th>\n",
       "      <th>Postcode</th>\n",
       "      <th>...</th>\n",
       "      <th>Bathroom</th>\n",
       "      <th>Car</th>\n",
       "      <th>Landsize</th>\n",
       "      <th>BuildingArea</th>\n",
       "      <th>YearBuilt</th>\n",
       "      <th>CouncilArea</th>\n",
       "      <th>Lattitude</th>\n",
       "      <th>Longtitude</th>\n",
       "      <th>Regionname</th>\n",
       "      <th>Propertycount</th>\n",
       "    </tr>\n",
       "  </thead>\n",
       "  <tbody>\n",
       "    <tr>\n",
       "      <th>0</th>\n",
       "      <td>Abbotsford</td>\n",
       "      <td>85 Turner St</td>\n",
       "      <td>2</td>\n",
       "      <td>h</td>\n",
       "      <td>1,480,000.0000</td>\n",
       "      <td>S</td>\n",
       "      <td>Biggin</td>\n",
       "      <td>3/12/2016</td>\n",
       "      <td>2.5000</td>\n",
       "      <td>3,067.0000</td>\n",
       "      <td>...</td>\n",
       "      <td>1.0000</td>\n",
       "      <td>1.0000</td>\n",
       "      <td>202.0000</td>\n",
       "      <td>NaN</td>\n",
       "      <td>NaN</td>\n",
       "      <td>Yarra</td>\n",
       "      <td>-37.7996</td>\n",
       "      <td>144.9984</td>\n",
       "      <td>Northern Metropolitan</td>\n",
       "      <td>4,019.0000</td>\n",
       "    </tr>\n",
       "    <tr>\n",
       "      <th>1</th>\n",
       "      <td>Abbotsford</td>\n",
       "      <td>25 Bloomburg St</td>\n",
       "      <td>2</td>\n",
       "      <td>h</td>\n",
       "      <td>1,035,000.0000</td>\n",
       "      <td>S</td>\n",
       "      <td>Biggin</td>\n",
       "      <td>4/02/2016</td>\n",
       "      <td>2.5000</td>\n",
       "      <td>3,067.0000</td>\n",
       "      <td>...</td>\n",
       "      <td>1.0000</td>\n",
       "      <td>0.0000</td>\n",
       "      <td>156.0000</td>\n",
       "      <td>79.0000</td>\n",
       "      <td>1,900.0000</td>\n",
       "      <td>Yarra</td>\n",
       "      <td>-37.8079</td>\n",
       "      <td>144.9934</td>\n",
       "      <td>Northern Metropolitan</td>\n",
       "      <td>4,019.0000</td>\n",
       "    </tr>\n",
       "    <tr>\n",
       "      <th>2</th>\n",
       "      <td>Abbotsford</td>\n",
       "      <td>5 Charles St</td>\n",
       "      <td>3</td>\n",
       "      <td>h</td>\n",
       "      <td>1,465,000.0000</td>\n",
       "      <td>SP</td>\n",
       "      <td>Biggin</td>\n",
       "      <td>4/03/2017</td>\n",
       "      <td>2.5000</td>\n",
       "      <td>3,067.0000</td>\n",
       "      <td>...</td>\n",
       "      <td>2.0000</td>\n",
       "      <td>0.0000</td>\n",
       "      <td>134.0000</td>\n",
       "      <td>150.0000</td>\n",
       "      <td>1,900.0000</td>\n",
       "      <td>Yarra</td>\n",
       "      <td>-37.8093</td>\n",
       "      <td>144.9944</td>\n",
       "      <td>Northern Metropolitan</td>\n",
       "      <td>4,019.0000</td>\n",
       "    </tr>\n",
       "    <tr>\n",
       "      <th>3</th>\n",
       "      <td>Abbotsford</td>\n",
       "      <td>40 Federation La</td>\n",
       "      <td>3</td>\n",
       "      <td>h</td>\n",
       "      <td>850,000.0000</td>\n",
       "      <td>PI</td>\n",
       "      <td>Biggin</td>\n",
       "      <td>4/03/2017</td>\n",
       "      <td>2.5000</td>\n",
       "      <td>3,067.0000</td>\n",
       "      <td>...</td>\n",
       "      <td>2.0000</td>\n",
       "      <td>1.0000</td>\n",
       "      <td>94.0000</td>\n",
       "      <td>NaN</td>\n",
       "      <td>NaN</td>\n",
       "      <td>Yarra</td>\n",
       "      <td>-37.7969</td>\n",
       "      <td>144.9969</td>\n",
       "      <td>Northern Metropolitan</td>\n",
       "      <td>4,019.0000</td>\n",
       "    </tr>\n",
       "    <tr>\n",
       "      <th>4</th>\n",
       "      <td>Abbotsford</td>\n",
       "      <td>55a Park St</td>\n",
       "      <td>4</td>\n",
       "      <td>h</td>\n",
       "      <td>1,600,000.0000</td>\n",
       "      <td>VB</td>\n",
       "      <td>Nelson</td>\n",
       "      <td>4/06/2016</td>\n",
       "      <td>2.5000</td>\n",
       "      <td>3,067.0000</td>\n",
       "      <td>...</td>\n",
       "      <td>1.0000</td>\n",
       "      <td>2.0000</td>\n",
       "      <td>120.0000</td>\n",
       "      <td>142.0000</td>\n",
       "      <td>2,014.0000</td>\n",
       "      <td>Yarra</td>\n",
       "      <td>-37.8072</td>\n",
       "      <td>144.9941</td>\n",
       "      <td>Northern Metropolitan</td>\n",
       "      <td>4,019.0000</td>\n",
       "    </tr>\n",
       "    <tr>\n",
       "      <th>...</th>\n",
       "      <td>...</td>\n",
       "      <td>...</td>\n",
       "      <td>...</td>\n",
       "      <td>...</td>\n",
       "      <td>...</td>\n",
       "      <td>...</td>\n",
       "      <td>...</td>\n",
       "      <td>...</td>\n",
       "      <td>...</td>\n",
       "      <td>...</td>\n",
       "      <td>...</td>\n",
       "      <td>...</td>\n",
       "      <td>...</td>\n",
       "      <td>...</td>\n",
       "      <td>...</td>\n",
       "      <td>...</td>\n",
       "      <td>...</td>\n",
       "      <td>...</td>\n",
       "      <td>...</td>\n",
       "      <td>...</td>\n",
       "      <td>...</td>\n",
       "    </tr>\n",
       "    <tr>\n",
       "      <th>13575</th>\n",
       "      <td>Wheelers Hill</td>\n",
       "      <td>12 Strada Cr</td>\n",
       "      <td>4</td>\n",
       "      <td>h</td>\n",
       "      <td>1,245,000.0000</td>\n",
       "      <td>S</td>\n",
       "      <td>Barry</td>\n",
       "      <td>26/08/2017</td>\n",
       "      <td>16.7000</td>\n",
       "      <td>3,150.0000</td>\n",
       "      <td>...</td>\n",
       "      <td>2.0000</td>\n",
       "      <td>2.0000</td>\n",
       "      <td>652.0000</td>\n",
       "      <td>NaN</td>\n",
       "      <td>1,981.0000</td>\n",
       "      <td>NaN</td>\n",
       "      <td>-37.9056</td>\n",
       "      <td>145.1676</td>\n",
       "      <td>South-Eastern Metropolitan</td>\n",
       "      <td>7,392.0000</td>\n",
       "    </tr>\n",
       "    <tr>\n",
       "      <th>13576</th>\n",
       "      <td>Williamstown</td>\n",
       "      <td>77 Merrett Dr</td>\n",
       "      <td>3</td>\n",
       "      <td>h</td>\n",
       "      <td>1,031,000.0000</td>\n",
       "      <td>SP</td>\n",
       "      <td>Williams</td>\n",
       "      <td>26/08/2017</td>\n",
       "      <td>6.8000</td>\n",
       "      <td>3,016.0000</td>\n",
       "      <td>...</td>\n",
       "      <td>2.0000</td>\n",
       "      <td>2.0000</td>\n",
       "      <td>333.0000</td>\n",
       "      <td>133.0000</td>\n",
       "      <td>1,995.0000</td>\n",
       "      <td>NaN</td>\n",
       "      <td>-37.8593</td>\n",
       "      <td>144.8790</td>\n",
       "      <td>Western Metropolitan</td>\n",
       "      <td>6,380.0000</td>\n",
       "    </tr>\n",
       "    <tr>\n",
       "      <th>13577</th>\n",
       "      <td>Williamstown</td>\n",
       "      <td>83 Power St</td>\n",
       "      <td>3</td>\n",
       "      <td>h</td>\n",
       "      <td>1,170,000.0000</td>\n",
       "      <td>S</td>\n",
       "      <td>Raine</td>\n",
       "      <td>26/08/2017</td>\n",
       "      <td>6.8000</td>\n",
       "      <td>3,016.0000</td>\n",
       "      <td>...</td>\n",
       "      <td>2.0000</td>\n",
       "      <td>4.0000</td>\n",
       "      <td>436.0000</td>\n",
       "      <td>NaN</td>\n",
       "      <td>1,997.0000</td>\n",
       "      <td>NaN</td>\n",
       "      <td>-37.8527</td>\n",
       "      <td>144.8874</td>\n",
       "      <td>Western Metropolitan</td>\n",
       "      <td>6,380.0000</td>\n",
       "    </tr>\n",
       "    <tr>\n",
       "      <th>13578</th>\n",
       "      <td>Williamstown</td>\n",
       "      <td>96 Verdon St</td>\n",
       "      <td>4</td>\n",
       "      <td>h</td>\n",
       "      <td>2,500,000.0000</td>\n",
       "      <td>PI</td>\n",
       "      <td>Sweeney</td>\n",
       "      <td>26/08/2017</td>\n",
       "      <td>6.8000</td>\n",
       "      <td>3,016.0000</td>\n",
       "      <td>...</td>\n",
       "      <td>1.0000</td>\n",
       "      <td>5.0000</td>\n",
       "      <td>866.0000</td>\n",
       "      <td>157.0000</td>\n",
       "      <td>1,920.0000</td>\n",
       "      <td>NaN</td>\n",
       "      <td>-37.8591</td>\n",
       "      <td>144.8930</td>\n",
       "      <td>Western Metropolitan</td>\n",
       "      <td>6,380.0000</td>\n",
       "    </tr>\n",
       "    <tr>\n",
       "      <th>13579</th>\n",
       "      <td>Yarraville</td>\n",
       "      <td>6 Agnes St</td>\n",
       "      <td>4</td>\n",
       "      <td>h</td>\n",
       "      <td>1,285,000.0000</td>\n",
       "      <td>SP</td>\n",
       "      <td>Village</td>\n",
       "      <td>26/08/2017</td>\n",
       "      <td>6.3000</td>\n",
       "      <td>3,013.0000</td>\n",
       "      <td>...</td>\n",
       "      <td>1.0000</td>\n",
       "      <td>1.0000</td>\n",
       "      <td>362.0000</td>\n",
       "      <td>112.0000</td>\n",
       "      <td>1,920.0000</td>\n",
       "      <td>NaN</td>\n",
       "      <td>-37.8119</td>\n",
       "      <td>144.8845</td>\n",
       "      <td>Western Metropolitan</td>\n",
       "      <td>6,543.0000</td>\n",
       "    </tr>\n",
       "  </tbody>\n",
       "</table>\n",
       "<p>13580 rows × 21 columns</p>\n",
       "</div>"
      ],
      "text/plain": [
       "              Suburb           Address  Rooms Type  \\\n",
       "0         Abbotsford      85 Turner St      2    h   \n",
       "1         Abbotsford   25 Bloomburg St      2    h   \n",
       "2         Abbotsford      5 Charles St      3    h   \n",
       "3         Abbotsford  40 Federation La      3    h   \n",
       "4         Abbotsford       55a Park St      4    h   \n",
       "...              ...               ...    ...  ...   \n",
       "13575  Wheelers Hill      12 Strada Cr      4    h   \n",
       "13576   Williamstown     77 Merrett Dr      3    h   \n",
       "13577   Williamstown       83 Power St      3    h   \n",
       "13578   Williamstown      96 Verdon St      4    h   \n",
       "13579     Yarraville        6 Agnes St      4    h   \n",
       "\n",
       "                                         Price Method   SellerG        Date  \\\n",
       "0                               1,480,000.0000      S    Biggin   3/12/2016   \n",
       "1                               1,035,000.0000      S    Biggin   4/02/2016   \n",
       "2                               1,465,000.0000     SP    Biggin   4/03/2017   \n",
       "3                                 850,000.0000     PI    Biggin   4/03/2017   \n",
       "4                               1,600,000.0000     VB    Nelson   4/06/2016   \n",
       "...                                        ...    ...       ...         ...   \n",
       "13575                           1,245,000.0000      S     Barry  26/08/2017   \n",
       "13576                           1,031,000.0000     SP  Williams  26/08/2017   \n",
       "13577                           1,170,000.0000      S     Raine  26/08/2017   \n",
       "13578                           2,500,000.0000     PI   Sweeney  26/08/2017   \n",
       "13579                           1,285,000.0000     SP   Village  26/08/2017   \n",
       "\n",
       "                                      Distance  \\\n",
       "0                                       2.5000   \n",
       "1                                       2.5000   \n",
       "2                                       2.5000   \n",
       "3                                       2.5000   \n",
       "4                                       2.5000   \n",
       "...                                        ...   \n",
       "13575                                  16.7000   \n",
       "13576                                   6.8000   \n",
       "13577                                   6.8000   \n",
       "13578                                   6.8000   \n",
       "13579                                   6.3000   \n",
       "\n",
       "                                      Postcode  ...  \\\n",
       "0                                   3,067.0000  ...   \n",
       "1                                   3,067.0000  ...   \n",
       "2                                   3,067.0000  ...   \n",
       "3                                   3,067.0000  ...   \n",
       "4                                   3,067.0000  ...   \n",
       "...                                        ...  ...   \n",
       "13575                               3,150.0000  ...   \n",
       "13576                               3,016.0000  ...   \n",
       "13577                               3,016.0000  ...   \n",
       "13578                               3,016.0000  ...   \n",
       "13579                               3,013.0000  ...   \n",
       "\n",
       "                                      Bathroom  \\\n",
       "0                                       1.0000   \n",
       "1                                       1.0000   \n",
       "2                                       2.0000   \n",
       "3                                       2.0000   \n",
       "4                                       1.0000   \n",
       "...                                        ...   \n",
       "13575                                   2.0000   \n",
       "13576                                   2.0000   \n",
       "13577                                   2.0000   \n",
       "13578                                   1.0000   \n",
       "13579                                   1.0000   \n",
       "\n",
       "                                           Car  \\\n",
       "0                                       1.0000   \n",
       "1                                       0.0000   \n",
       "2                                       0.0000   \n",
       "3                                       1.0000   \n",
       "4                                       2.0000   \n",
       "...                                        ...   \n",
       "13575                                   2.0000   \n",
       "13576                                   2.0000   \n",
       "13577                                   4.0000   \n",
       "13578                                   5.0000   \n",
       "13579                                   1.0000   \n",
       "\n",
       "                                      Landsize  \\\n",
       "0                                     202.0000   \n",
       "1                                     156.0000   \n",
       "2                                     134.0000   \n",
       "3                                      94.0000   \n",
       "4                                     120.0000   \n",
       "...                                        ...   \n",
       "13575                                 652.0000   \n",
       "13576                                 333.0000   \n",
       "13577                                 436.0000   \n",
       "13578                                 866.0000   \n",
       "13579                                 362.0000   \n",
       "\n",
       "                                  BuildingArea  \\\n",
       "0                                          NaN   \n",
       "1                                      79.0000   \n",
       "2                                     150.0000   \n",
       "3                                          NaN   \n",
       "4                                     142.0000   \n",
       "...                                        ...   \n",
       "13575                                      NaN   \n",
       "13576                                 133.0000   \n",
       "13577                                      NaN   \n",
       "13578                                 157.0000   \n",
       "13579                                 112.0000   \n",
       "\n",
       "                                     YearBuilt  CouncilArea  \\\n",
       "0                                          NaN        Yarra   \n",
       "1                                   1,900.0000        Yarra   \n",
       "2                                   1,900.0000        Yarra   \n",
       "3                                          NaN        Yarra   \n",
       "4                                   2,014.0000        Yarra   \n",
       "...                                        ...          ...   \n",
       "13575                               1,981.0000          NaN   \n",
       "13576                               1,995.0000          NaN   \n",
       "13577                               1,997.0000          NaN   \n",
       "13578                               1,920.0000          NaN   \n",
       "13579                               1,920.0000          NaN   \n",
       "\n",
       "                                     Lattitude  \\\n",
       "0                                     -37.7996   \n",
       "1                                     -37.8079   \n",
       "2                                     -37.8093   \n",
       "3                                     -37.7969   \n",
       "4                                     -37.8072   \n",
       "...                                        ...   \n",
       "13575                                 -37.9056   \n",
       "13576                                 -37.8593   \n",
       "13577                                 -37.8527   \n",
       "13578                                 -37.8591   \n",
       "13579                                 -37.8119   \n",
       "\n",
       "                                    Longtitude                  Regionname  \\\n",
       "0                                     144.9984       Northern Metropolitan   \n",
       "1                                     144.9934       Northern Metropolitan   \n",
       "2                                     144.9944       Northern Metropolitan   \n",
       "3                                     144.9969       Northern Metropolitan   \n",
       "4                                     144.9941       Northern Metropolitan   \n",
       "...                                        ...                         ...   \n",
       "13575                                 145.1676  South-Eastern Metropolitan   \n",
       "13576                                 144.8790        Western Metropolitan   \n",
       "13577                                 144.8874        Western Metropolitan   \n",
       "13578                                 144.8930        Western Metropolitan   \n",
       "13579                                 144.8845        Western Metropolitan   \n",
       "\n",
       "                                 Propertycount  \n",
       "0                                   4,019.0000  \n",
       "1                                   4,019.0000  \n",
       "2                                   4,019.0000  \n",
       "3                                   4,019.0000  \n",
       "4                                   4,019.0000  \n",
       "...                                        ...  \n",
       "13575                               7,392.0000  \n",
       "13576                               6,380.0000  \n",
       "13577                               6,380.0000  \n",
       "13578                               6,380.0000  \n",
       "13579                               6,543.0000  \n",
       "\n",
       "[13580 rows x 21 columns]"
      ]
     },
     "execution_count": 3,
     "metadata": {},
     "output_type": "execute_result"
    }
   ],
   "source": [
    "original_data = pd.read_csv(\"https://raw.githubusercontent.com/sophie-sdsv/qm_final/main/melb_data.csv\")\n",
    "original_data"
   ]
  },
  {
   "cell_type": "code",
   "execution_count": 4,
   "id": "approved-andrews",
   "metadata": {},
   "outputs": [
    {
     "data": {
      "text/plain": [
       "Suburb            object\n",
       "Address           object\n",
       "Rooms              int64\n",
       "Type              object\n",
       "Price            float64\n",
       "Method            object\n",
       "SellerG           object\n",
       "Date              object\n",
       "Distance         float64\n",
       "Postcode         float64\n",
       "Bedroom2         float64\n",
       "Bathroom         float64\n",
       "Car              float64\n",
       "Landsize         float64\n",
       "BuildingArea     float64\n",
       "YearBuilt        float64\n",
       "CouncilArea       object\n",
       "Lattitude        float64\n",
       "Longtitude       float64\n",
       "Regionname        object\n",
       "Propertycount    float64\n",
       "dtype: object"
      ]
     },
     "execution_count": 4,
     "metadata": {},
     "output_type": "execute_result"
    }
   ],
   "source": [
    "original_data.dtypes"
   ]
  },
  {
   "cell_type": "code",
   "execution_count": 5,
   "id": "controlled-henry",
   "metadata": {},
   "outputs": [
    {
     "data": {
      "text/plain": [
       "Suburb              0\n",
       "Address             0\n",
       "Rooms               0\n",
       "Type                0\n",
       "Price               0\n",
       "Method              0\n",
       "SellerG             0\n",
       "Date                0\n",
       "Distance            0\n",
       "Postcode            0\n",
       "Bedroom2            0\n",
       "Bathroom            0\n",
       "Car                62\n",
       "Landsize            0\n",
       "BuildingArea     6450\n",
       "YearBuilt        5375\n",
       "CouncilArea      1369\n",
       "Lattitude           0\n",
       "Longtitude          0\n",
       "Regionname          0\n",
       "Propertycount       0\n",
       "dtype: int64"
      ]
     },
     "execution_count": 5,
     "metadata": {},
     "output_type": "execute_result"
    }
   ],
   "source": [
    "#check for NAN values\n",
    "original_data.isnull().sum()"
   ]
  },
  {
   "cell_type": "code",
   "execution_count": 6,
   "id": "terminal-license",
   "metadata": {},
   "outputs": [],
   "source": [
    "#convert date column to datetime format\n",
    "import datetime as dt\n",
    "original_data['Date']=pd.to_datetime(original_data['Date'], format='%d/%m/%Y')\n",
    "\n",
    "#rename a column\n",
    "original_data.rename(columns = {'Bedroom2': 'Bedroom'}, inplace = True)"
   ]
  },
  {
   "cell_type": "code",
   "execution_count": 7,
   "id": "sustainable-cyprus",
   "metadata": {},
   "outputs": [],
   "source": [
    "#extract year, month, day from the full date\n",
    "original_data['Year']=original_data['Date'].dt.year\n",
    "original_data['Month']=original_data['Date'].dt.month\n",
    "original_data['Day']=original_data['Date'].dt.day\n",
    "\n",
    "#calculate building age\n",
    "original_data['BuildingAge']=original_data.Year - original_data.YearBuilt"
   ]
  },
  {
   "cell_type": "code",
   "execution_count": 8,
   "id": "pleasant-rehabilitation",
   "metadata": {},
   "outputs": [
    {
     "data": {
      "text/html": [
       "<div>\n",
       "<style scoped>\n",
       "    .dataframe tbody tr th:only-of-type {\n",
       "        vertical-align: middle;\n",
       "    }\n",
       "\n",
       "    .dataframe tbody tr th {\n",
       "        vertical-align: top;\n",
       "    }\n",
       "\n",
       "    .dataframe thead th {\n",
       "        text-align: right;\n",
       "    }\n",
       "</style>\n",
       "<table border=\"1\" class=\"dataframe\">\n",
       "  <thead>\n",
       "    <tr style=\"text-align: right;\">\n",
       "      <th></th>\n",
       "      <th>Suburb</th>\n",
       "      <th>Address</th>\n",
       "      <th>Rooms</th>\n",
       "      <th>Type</th>\n",
       "      <th>Price</th>\n",
       "      <th>Method</th>\n",
       "      <th>SellerG</th>\n",
       "      <th>Date</th>\n",
       "      <th>Distance</th>\n",
       "      <th>Postcode</th>\n",
       "      <th>...</th>\n",
       "      <th>YearBuilt</th>\n",
       "      <th>CouncilArea</th>\n",
       "      <th>Lattitude</th>\n",
       "      <th>Longtitude</th>\n",
       "      <th>Regionname</th>\n",
       "      <th>Propertycount</th>\n",
       "      <th>Year</th>\n",
       "      <th>Month</th>\n",
       "      <th>Day</th>\n",
       "      <th>BuildingAge</th>\n",
       "    </tr>\n",
       "  </thead>\n",
       "  <tbody>\n",
       "    <tr>\n",
       "      <th>13436</th>\n",
       "      <td>Glenroy</td>\n",
       "      <td>80 Paget Av</td>\n",
       "      <td>2</td>\n",
       "      <td>h</td>\n",
       "      <td>725,000.0000</td>\n",
       "      <td>S</td>\n",
       "      <td>Stockdale</td>\n",
       "      <td>2017-08-26</td>\n",
       "      <td>11.2000</td>\n",
       "      <td>3,046.0000</td>\n",
       "      <td>...</td>\n",
       "      <td>NaN</td>\n",
       "      <td>NaN</td>\n",
       "      <td>-37.6993</td>\n",
       "      <td>144.9256</td>\n",
       "      <td>Northern Metropolitan</td>\n",
       "      <td>8,870.0000</td>\n",
       "      <td>2017</td>\n",
       "      <td>8</td>\n",
       "      <td>26</td>\n",
       "      <td>NaN</td>\n",
       "    </tr>\n",
       "    <tr>\n",
       "      <th>5449</th>\n",
       "      <td>Rosanna</td>\n",
       "      <td>70 McCrae Rd</td>\n",
       "      <td>3</td>\n",
       "      <td>h</td>\n",
       "      <td>780,000.0000</td>\n",
       "      <td>S</td>\n",
       "      <td>Barry</td>\n",
       "      <td>2017-02-11</td>\n",
       "      <td>11.4000</td>\n",
       "      <td>3,084.0000</td>\n",
       "      <td>...</td>\n",
       "      <td>1,970.0000</td>\n",
       "      <td>Banyule</td>\n",
       "      <td>-37.7367</td>\n",
       "      <td>145.0797</td>\n",
       "      <td>Eastern Metropolitan</td>\n",
       "      <td>3,540.0000</td>\n",
       "      <td>2017</td>\n",
       "      <td>2</td>\n",
       "      <td>11</td>\n",
       "      <td>47.0000</td>\n",
       "    </tr>\n",
       "    <tr>\n",
       "      <th>6450</th>\n",
       "      <td>Watsonia</td>\n",
       "      <td>4 Ananda Ct</td>\n",
       "      <td>3</td>\n",
       "      <td>h</td>\n",
       "      <td>711,000.0000</td>\n",
       "      <td>S</td>\n",
       "      <td>Barry</td>\n",
       "      <td>2016-05-14</td>\n",
       "      <td>14.9000</td>\n",
       "      <td>3,087.0000</td>\n",
       "      <td>...</td>\n",
       "      <td>NaN</td>\n",
       "      <td>Banyule</td>\n",
       "      <td>-37.7147</td>\n",
       "      <td>145.0752</td>\n",
       "      <td>Northern Metropolitan</td>\n",
       "      <td>2,329.0000</td>\n",
       "      <td>2016</td>\n",
       "      <td>5</td>\n",
       "      <td>14</td>\n",
       "      <td>NaN</td>\n",
       "    </tr>\n",
       "  </tbody>\n",
       "</table>\n",
       "<p>3 rows × 25 columns</p>\n",
       "</div>"
      ],
      "text/plain": [
       "         Suburb       Address  Rooms Type  \\\n",
       "13436   Glenroy   80 Paget Av      2    h   \n",
       "5449    Rosanna  70 McCrae Rd      3    h   \n",
       "6450   Watsonia   4 Ananda Ct      3    h   \n",
       "\n",
       "                                         Price Method    SellerG       Date  \\\n",
       "13436                             725,000.0000      S  Stockdale 2017-08-26   \n",
       "5449                              780,000.0000      S      Barry 2017-02-11   \n",
       "6450                              711,000.0000      S      Barry 2016-05-14   \n",
       "\n",
       "                                      Distance  \\\n",
       "13436                                  11.2000   \n",
       "5449                                   11.4000   \n",
       "6450                                   14.9000   \n",
       "\n",
       "                                      Postcode  ...  \\\n",
       "13436                               3,046.0000  ...   \n",
       "5449                                3,084.0000  ...   \n",
       "6450                                3,087.0000  ...   \n",
       "\n",
       "                                     YearBuilt  CouncilArea  \\\n",
       "13436                                      NaN          NaN   \n",
       "5449                                1,970.0000      Banyule   \n",
       "6450                                       NaN      Banyule   \n",
       "\n",
       "                                     Lattitude  \\\n",
       "13436                                 -37.6993   \n",
       "5449                                  -37.7367   \n",
       "6450                                  -37.7147   \n",
       "\n",
       "                                    Longtitude             Regionname  \\\n",
       "13436                                 144.9256  Northern Metropolitan   \n",
       "5449                                  145.0797   Eastern Metropolitan   \n",
       "6450                                  145.0752  Northern Metropolitan   \n",
       "\n",
       "                                 Propertycount  Year  Month  Day  \\\n",
       "13436                               8,870.0000  2017      8   26   \n",
       "5449                                3,540.0000  2017      2   11   \n",
       "6450                                2,329.0000  2016      5   14   \n",
       "\n",
       "                                   BuildingAge  \n",
       "13436                                      NaN  \n",
       "5449                                   47.0000  \n",
       "6450                                       NaN  \n",
       "\n",
       "[3 rows x 25 columns]"
      ]
     },
     "execution_count": 8,
     "metadata": {},
     "output_type": "execute_result"
    }
   ],
   "source": [
    "original_data.sample(3)"
   ]
  },
  {
   "cell_type": "code",
   "execution_count": 9,
   "id": "incorrect-saskatchewan",
   "metadata": {},
   "outputs": [
    {
     "data": {
      "text/plain": [
       "count                                 8,205.0000\n",
       "mean                                  1,964.6842\n",
       "std                                      37.2738\n",
       "min                                   1,196.0000\n",
       "25%                                   1,940.0000\n",
       "50%                                   1,970.0000\n",
       "75%                                   1,999.0000\n",
       "max                                   2,018.0000\n",
       "Name: YearBuilt, dtype: float64"
      ]
     },
     "execution_count": 9,
     "metadata": {},
     "output_type": "execute_result"
    }
   ],
   "source": [
    "original_data.YearBuilt.describe()"
   ]
  },
  {
   "cell_type": "code",
   "execution_count": 10,
   "id": "exclusive-webster",
   "metadata": {},
   "outputs": [
    {
     "data": {
      "text/html": [
       "<div>\n",
       "<style scoped>\n",
       "    .dataframe tbody tr th:only-of-type {\n",
       "        vertical-align: middle;\n",
       "    }\n",
       "\n",
       "    .dataframe tbody tr th {\n",
       "        vertical-align: top;\n",
       "    }\n",
       "\n",
       "    .dataframe thead th {\n",
       "        text-align: right;\n",
       "    }\n",
       "</style>\n",
       "<table border=\"1\" class=\"dataframe\">\n",
       "  <thead>\n",
       "    <tr style=\"text-align: right;\">\n",
       "      <th></th>\n",
       "      <th>Suburb</th>\n",
       "      <th>Address</th>\n",
       "      <th>Rooms</th>\n",
       "      <th>Type</th>\n",
       "      <th>Price</th>\n",
       "      <th>Method</th>\n",
       "      <th>SellerG</th>\n",
       "      <th>Date</th>\n",
       "      <th>Distance</th>\n",
       "      <th>Postcode</th>\n",
       "      <th>...</th>\n",
       "      <th>YearBuilt</th>\n",
       "      <th>CouncilArea</th>\n",
       "      <th>Lattitude</th>\n",
       "      <th>Longtitude</th>\n",
       "      <th>Regionname</th>\n",
       "      <th>Propertycount</th>\n",
       "      <th>Year</th>\n",
       "      <th>Month</th>\n",
       "      <th>Day</th>\n",
       "      <th>BuildingAge</th>\n",
       "    </tr>\n",
       "  </thead>\n",
       "  <tbody>\n",
       "    <tr>\n",
       "      <th>1</th>\n",
       "      <td>Abbotsford</td>\n",
       "      <td>25 Bloomburg St</td>\n",
       "      <td>2</td>\n",
       "      <td>h</td>\n",
       "      <td>1,035,000.0000</td>\n",
       "      <td>S</td>\n",
       "      <td>Biggin</td>\n",
       "      <td>2016-02-04</td>\n",
       "      <td>2.5000</td>\n",
       "      <td>3,067.0000</td>\n",
       "      <td>...</td>\n",
       "      <td>1,900.0000</td>\n",
       "      <td>Yarra</td>\n",
       "      <td>-37.8079</td>\n",
       "      <td>144.9934</td>\n",
       "      <td>Northern Metropolitan</td>\n",
       "      <td>4,019.0000</td>\n",
       "      <td>2016</td>\n",
       "      <td>2</td>\n",
       "      <td>4</td>\n",
       "      <td>116.0000</td>\n",
       "    </tr>\n",
       "    <tr>\n",
       "      <th>2</th>\n",
       "      <td>Abbotsford</td>\n",
       "      <td>5 Charles St</td>\n",
       "      <td>3</td>\n",
       "      <td>h</td>\n",
       "      <td>1,465,000.0000</td>\n",
       "      <td>SP</td>\n",
       "      <td>Biggin</td>\n",
       "      <td>2017-03-04</td>\n",
       "      <td>2.5000</td>\n",
       "      <td>3,067.0000</td>\n",
       "      <td>...</td>\n",
       "      <td>1,900.0000</td>\n",
       "      <td>Yarra</td>\n",
       "      <td>-37.8093</td>\n",
       "      <td>144.9944</td>\n",
       "      <td>Northern Metropolitan</td>\n",
       "      <td>4,019.0000</td>\n",
       "      <td>2017</td>\n",
       "      <td>3</td>\n",
       "      <td>4</td>\n",
       "      <td>117.0000</td>\n",
       "    </tr>\n",
       "    <tr>\n",
       "      <th>4</th>\n",
       "      <td>Abbotsford</td>\n",
       "      <td>55a Park St</td>\n",
       "      <td>4</td>\n",
       "      <td>h</td>\n",
       "      <td>1,600,000.0000</td>\n",
       "      <td>VB</td>\n",
       "      <td>Nelson</td>\n",
       "      <td>2016-06-04</td>\n",
       "      <td>2.5000</td>\n",
       "      <td>3,067.0000</td>\n",
       "      <td>...</td>\n",
       "      <td>2,014.0000</td>\n",
       "      <td>Yarra</td>\n",
       "      <td>-37.8072</td>\n",
       "      <td>144.9941</td>\n",
       "      <td>Northern Metropolitan</td>\n",
       "      <td>4,019.0000</td>\n",
       "      <td>2016</td>\n",
       "      <td>6</td>\n",
       "      <td>4</td>\n",
       "      <td>2.0000</td>\n",
       "    </tr>\n",
       "    <tr>\n",
       "      <th>6</th>\n",
       "      <td>Abbotsford</td>\n",
       "      <td>124 Yarra St</td>\n",
       "      <td>3</td>\n",
       "      <td>h</td>\n",
       "      <td>1,876,000.0000</td>\n",
       "      <td>S</td>\n",
       "      <td>Nelson</td>\n",
       "      <td>2016-05-07</td>\n",
       "      <td>2.5000</td>\n",
       "      <td>3,067.0000</td>\n",
       "      <td>...</td>\n",
       "      <td>1,910.0000</td>\n",
       "      <td>Yarra</td>\n",
       "      <td>-37.8024</td>\n",
       "      <td>144.9993</td>\n",
       "      <td>Northern Metropolitan</td>\n",
       "      <td>4,019.0000</td>\n",
       "      <td>2016</td>\n",
       "      <td>5</td>\n",
       "      <td>7</td>\n",
       "      <td>106.0000</td>\n",
       "    </tr>\n",
       "    <tr>\n",
       "      <th>7</th>\n",
       "      <td>Abbotsford</td>\n",
       "      <td>98 Charles St</td>\n",
       "      <td>2</td>\n",
       "      <td>h</td>\n",
       "      <td>1,636,000.0000</td>\n",
       "      <td>S</td>\n",
       "      <td>Nelson</td>\n",
       "      <td>2016-10-08</td>\n",
       "      <td>2.5000</td>\n",
       "      <td>3,067.0000</td>\n",
       "      <td>...</td>\n",
       "      <td>1,890.0000</td>\n",
       "      <td>Yarra</td>\n",
       "      <td>-37.8060</td>\n",
       "      <td>144.9954</td>\n",
       "      <td>Northern Metropolitan</td>\n",
       "      <td>4,019.0000</td>\n",
       "      <td>2016</td>\n",
       "      <td>10</td>\n",
       "      <td>8</td>\n",
       "      <td>126.0000</td>\n",
       "    </tr>\n",
       "    <tr>\n",
       "      <th>...</th>\n",
       "      <td>...</td>\n",
       "      <td>...</td>\n",
       "      <td>...</td>\n",
       "      <td>...</td>\n",
       "      <td>...</td>\n",
       "      <td>...</td>\n",
       "      <td>...</td>\n",
       "      <td>...</td>\n",
       "      <td>...</td>\n",
       "      <td>...</td>\n",
       "      <td>...</td>\n",
       "      <td>...</td>\n",
       "      <td>...</td>\n",
       "      <td>...</td>\n",
       "      <td>...</td>\n",
       "      <td>...</td>\n",
       "      <td>...</td>\n",
       "      <td>...</td>\n",
       "      <td>...</td>\n",
       "      <td>...</td>\n",
       "      <td>...</td>\n",
       "    </tr>\n",
       "    <tr>\n",
       "      <th>13575</th>\n",
       "      <td>Wheelers Hill</td>\n",
       "      <td>12 Strada Cr</td>\n",
       "      <td>4</td>\n",
       "      <td>h</td>\n",
       "      <td>1,245,000.0000</td>\n",
       "      <td>S</td>\n",
       "      <td>Barry</td>\n",
       "      <td>2017-08-26</td>\n",
       "      <td>16.7000</td>\n",
       "      <td>3,150.0000</td>\n",
       "      <td>...</td>\n",
       "      <td>1,981.0000</td>\n",
       "      <td>NaN</td>\n",
       "      <td>-37.9056</td>\n",
       "      <td>145.1676</td>\n",
       "      <td>South-Eastern Metropolitan</td>\n",
       "      <td>7,392.0000</td>\n",
       "      <td>2017</td>\n",
       "      <td>8</td>\n",
       "      <td>26</td>\n",
       "      <td>36.0000</td>\n",
       "    </tr>\n",
       "    <tr>\n",
       "      <th>13576</th>\n",
       "      <td>Williamstown</td>\n",
       "      <td>77 Merrett Dr</td>\n",
       "      <td>3</td>\n",
       "      <td>h</td>\n",
       "      <td>1,031,000.0000</td>\n",
       "      <td>SP</td>\n",
       "      <td>Williams</td>\n",
       "      <td>2017-08-26</td>\n",
       "      <td>6.8000</td>\n",
       "      <td>3,016.0000</td>\n",
       "      <td>...</td>\n",
       "      <td>1,995.0000</td>\n",
       "      <td>NaN</td>\n",
       "      <td>-37.8593</td>\n",
       "      <td>144.8790</td>\n",
       "      <td>Western Metropolitan</td>\n",
       "      <td>6,380.0000</td>\n",
       "      <td>2017</td>\n",
       "      <td>8</td>\n",
       "      <td>26</td>\n",
       "      <td>22.0000</td>\n",
       "    </tr>\n",
       "    <tr>\n",
       "      <th>13577</th>\n",
       "      <td>Williamstown</td>\n",
       "      <td>83 Power St</td>\n",
       "      <td>3</td>\n",
       "      <td>h</td>\n",
       "      <td>1,170,000.0000</td>\n",
       "      <td>S</td>\n",
       "      <td>Raine</td>\n",
       "      <td>2017-08-26</td>\n",
       "      <td>6.8000</td>\n",
       "      <td>3,016.0000</td>\n",
       "      <td>...</td>\n",
       "      <td>1,997.0000</td>\n",
       "      <td>NaN</td>\n",
       "      <td>-37.8527</td>\n",
       "      <td>144.8874</td>\n",
       "      <td>Western Metropolitan</td>\n",
       "      <td>6,380.0000</td>\n",
       "      <td>2017</td>\n",
       "      <td>8</td>\n",
       "      <td>26</td>\n",
       "      <td>20.0000</td>\n",
       "    </tr>\n",
       "    <tr>\n",
       "      <th>13578</th>\n",
       "      <td>Williamstown</td>\n",
       "      <td>96 Verdon St</td>\n",
       "      <td>4</td>\n",
       "      <td>h</td>\n",
       "      <td>2,500,000.0000</td>\n",
       "      <td>PI</td>\n",
       "      <td>Sweeney</td>\n",
       "      <td>2017-08-26</td>\n",
       "      <td>6.8000</td>\n",
       "      <td>3,016.0000</td>\n",
       "      <td>...</td>\n",
       "      <td>1,920.0000</td>\n",
       "      <td>NaN</td>\n",
       "      <td>-37.8591</td>\n",
       "      <td>144.8930</td>\n",
       "      <td>Western Metropolitan</td>\n",
       "      <td>6,380.0000</td>\n",
       "      <td>2017</td>\n",
       "      <td>8</td>\n",
       "      <td>26</td>\n",
       "      <td>97.0000</td>\n",
       "    </tr>\n",
       "    <tr>\n",
       "      <th>13579</th>\n",
       "      <td>Yarraville</td>\n",
       "      <td>6 Agnes St</td>\n",
       "      <td>4</td>\n",
       "      <td>h</td>\n",
       "      <td>1,285,000.0000</td>\n",
       "      <td>SP</td>\n",
       "      <td>Village</td>\n",
       "      <td>2017-08-26</td>\n",
       "      <td>6.3000</td>\n",
       "      <td>3,013.0000</td>\n",
       "      <td>...</td>\n",
       "      <td>1,920.0000</td>\n",
       "      <td>NaN</td>\n",
       "      <td>-37.8119</td>\n",
       "      <td>144.8845</td>\n",
       "      <td>Western Metropolitan</td>\n",
       "      <td>6,543.0000</td>\n",
       "      <td>2017</td>\n",
       "      <td>8</td>\n",
       "      <td>26</td>\n",
       "      <td>97.0000</td>\n",
       "    </tr>\n",
       "  </tbody>\n",
       "</table>\n",
       "<p>8161 rows × 25 columns</p>\n",
       "</div>"
      ],
      "text/plain": [
       "              Suburb          Address  Rooms Type  \\\n",
       "1         Abbotsford  25 Bloomburg St      2    h   \n",
       "2         Abbotsford     5 Charles St      3    h   \n",
       "4         Abbotsford      55a Park St      4    h   \n",
       "6         Abbotsford     124 Yarra St      3    h   \n",
       "7         Abbotsford    98 Charles St      2    h   \n",
       "...              ...              ...    ...  ...   \n",
       "13575  Wheelers Hill     12 Strada Cr      4    h   \n",
       "13576   Williamstown    77 Merrett Dr      3    h   \n",
       "13577   Williamstown      83 Power St      3    h   \n",
       "13578   Williamstown     96 Verdon St      4    h   \n",
       "13579     Yarraville       6 Agnes St      4    h   \n",
       "\n",
       "                                         Price Method   SellerG       Date  \\\n",
       "1                               1,035,000.0000      S    Biggin 2016-02-04   \n",
       "2                               1,465,000.0000     SP    Biggin 2017-03-04   \n",
       "4                               1,600,000.0000     VB    Nelson 2016-06-04   \n",
       "6                               1,876,000.0000      S    Nelson 2016-05-07   \n",
       "7                               1,636,000.0000      S    Nelson 2016-10-08   \n",
       "...                                        ...    ...       ...        ...   \n",
       "13575                           1,245,000.0000      S     Barry 2017-08-26   \n",
       "13576                           1,031,000.0000     SP  Williams 2017-08-26   \n",
       "13577                           1,170,000.0000      S     Raine 2017-08-26   \n",
       "13578                           2,500,000.0000     PI   Sweeney 2017-08-26   \n",
       "13579                           1,285,000.0000     SP   Village 2017-08-26   \n",
       "\n",
       "                                      Distance  \\\n",
       "1                                       2.5000   \n",
       "2                                       2.5000   \n",
       "4                                       2.5000   \n",
       "6                                       2.5000   \n",
       "7                                       2.5000   \n",
       "...                                        ...   \n",
       "13575                                  16.7000   \n",
       "13576                                   6.8000   \n",
       "13577                                   6.8000   \n",
       "13578                                   6.8000   \n",
       "13579                                   6.3000   \n",
       "\n",
       "                                      Postcode  ...  \\\n",
       "1                                   3,067.0000  ...   \n",
       "2                                   3,067.0000  ...   \n",
       "4                                   3,067.0000  ...   \n",
       "6                                   3,067.0000  ...   \n",
       "7                                   3,067.0000  ...   \n",
       "...                                        ...  ...   \n",
       "13575                               3,150.0000  ...   \n",
       "13576                               3,016.0000  ...   \n",
       "13577                               3,016.0000  ...   \n",
       "13578                               3,016.0000  ...   \n",
       "13579                               3,013.0000  ...   \n",
       "\n",
       "                                     YearBuilt  CouncilArea  \\\n",
       "1                                   1,900.0000        Yarra   \n",
       "2                                   1,900.0000        Yarra   \n",
       "4                                   2,014.0000        Yarra   \n",
       "6                                   1,910.0000        Yarra   \n",
       "7                                   1,890.0000        Yarra   \n",
       "...                                        ...          ...   \n",
       "13575                               1,981.0000          NaN   \n",
       "13576                               1,995.0000          NaN   \n",
       "13577                               1,997.0000          NaN   \n",
       "13578                               1,920.0000          NaN   \n",
       "13579                               1,920.0000          NaN   \n",
       "\n",
       "                                     Lattitude  \\\n",
       "1                                     -37.8079   \n",
       "2                                     -37.8093   \n",
       "4                                     -37.8072   \n",
       "6                                     -37.8024   \n",
       "7                                     -37.8060   \n",
       "...                                        ...   \n",
       "13575                                 -37.9056   \n",
       "13576                                 -37.8593   \n",
       "13577                                 -37.8527   \n",
       "13578                                 -37.8591   \n",
       "13579                                 -37.8119   \n",
       "\n",
       "                                    Longtitude                  Regionname  \\\n",
       "1                                     144.9934       Northern Metropolitan   \n",
       "2                                     144.9944       Northern Metropolitan   \n",
       "4                                     144.9941       Northern Metropolitan   \n",
       "6                                     144.9993       Northern Metropolitan   \n",
       "7                                     144.9954       Northern Metropolitan   \n",
       "...                                        ...                         ...   \n",
       "13575                                 145.1676  South-Eastern Metropolitan   \n",
       "13576                                 144.8790        Western Metropolitan   \n",
       "13577                                 144.8874        Western Metropolitan   \n",
       "13578                                 144.8930        Western Metropolitan   \n",
       "13579                                 144.8845        Western Metropolitan   \n",
       "\n",
       "                                 Propertycount  Year  Month  Day  \\\n",
       "1                                   4,019.0000  2016      2    4   \n",
       "2                                   4,019.0000  2017      3    4   \n",
       "4                                   4,019.0000  2016      6    4   \n",
       "6                                   4,019.0000  2016      5    7   \n",
       "7                                   4,019.0000  2016     10    8   \n",
       "...                                        ...   ...    ...  ...   \n",
       "13575                               7,392.0000  2017      8   26   \n",
       "13576                               6,380.0000  2017      8   26   \n",
       "13577                               6,380.0000  2017      8   26   \n",
       "13578                               6,380.0000  2017      8   26   \n",
       "13579                               6,543.0000  2017      8   26   \n",
       "\n",
       "                                   BuildingAge  \n",
       "1                                     116.0000  \n",
       "2                                     117.0000  \n",
       "4                                       2.0000  \n",
       "6                                     106.0000  \n",
       "7                                     126.0000  \n",
       "...                                        ...  \n",
       "13575                                  36.0000  \n",
       "13576                                  22.0000  \n",
       "13577                                  20.0000  \n",
       "13578                                  97.0000  \n",
       "13579                                  97.0000  \n",
       "\n",
       "[8161 rows x 25 columns]"
      ]
     },
     "execution_count": 10,
     "metadata": {},
     "output_type": "execute_result"
    }
   ],
   "source": [
    "original_data[original_data.BuildingAge > 0]"
   ]
  },
  {
   "cell_type": "code",
   "execution_count": 11,
   "id": "infinite-wales",
   "metadata": {},
   "outputs": [
    {
     "data": {
      "text/plain": [
       "array(['Suburb', 'Address', 'Rooms', 'Type', 'Price', 'Method', 'SellerG',\n",
       "       'Date', 'Distance', 'Postcode', 'Bedroom', 'Bathroom', 'Car',\n",
       "       'Landsize', 'BuildingArea', 'YearBuilt', 'CouncilArea',\n",
       "       'Lattitude', 'Longtitude', 'Regionname', 'Propertycount', 'Year',\n",
       "       'Month', 'Day', 'BuildingAge'], dtype=object)"
      ]
     },
     "execution_count": 11,
     "metadata": {},
     "output_type": "execute_result"
    }
   ],
   "source": [
    "original_data.columns.values"
   ]
  },
  {
   "cell_type": "code",
   "execution_count": 12,
   "id": "further-premium",
   "metadata": {},
   "outputs": [],
   "source": [
    "filtered = original_data[['Suburb', 'Rooms', 'Type', 'Price', 'Method', 'Distance', 'Bedroom', 'Bathroom', 'Car',\n",
    "       'Landsize', 'BuildingArea', 'Propertycount','Lattitude', 'Longtitude', 'Year',\n",
    "       'Month', 'Day', 'BuildingAge']]"
   ]
  },
  {
   "cell_type": "code",
   "execution_count": 13,
   "id": "choice-melissa",
   "metadata": {},
   "outputs": [],
   "source": [
    "filtered = filtered[(filtered['BuildingAge'] > 0) & (filtered['BuildingArea'] > 0) & (filtered['Car'] >=  0) ]"
   ]
  },
  {
   "cell_type": "code",
   "execution_count": 14,
   "id": "subjective-madonna",
   "metadata": {},
   "outputs": [
    {
     "data": {
      "text/plain": [
       "(6772, 18)"
      ]
     },
     "execution_count": 14,
     "metadata": {},
     "output_type": "execute_result"
    }
   ],
   "source": [
    "filtered.shape"
   ]
  },
  {
   "cell_type": "code",
   "execution_count": 15,
   "id": "subtle-candidate",
   "metadata": {
    "scrolled": true
   },
   "outputs": [
    {
     "data": {
      "text/plain": [
       "Suburb           0\n",
       "Rooms            0\n",
       "Type             0\n",
       "Price            0\n",
       "Method           0\n",
       "Distance         0\n",
       "Bedroom          0\n",
       "Bathroom         0\n",
       "Car              0\n",
       "Landsize         0\n",
       "BuildingArea     0\n",
       "Propertycount    0\n",
       "Lattitude        0\n",
       "Longtitude       0\n",
       "Year             0\n",
       "Month            0\n",
       "Day              0\n",
       "BuildingAge      0\n",
       "dtype: int64"
      ]
     },
     "execution_count": 15,
     "metadata": {},
     "output_type": "execute_result"
    }
   ],
   "source": [
    "filtered.isnull().sum()"
   ]
  },
  {
   "cell_type": "code",
   "execution_count": 16,
   "id": "romance-duration",
   "metadata": {},
   "outputs": [
    {
     "data": {
      "text/plain": [
       "Suburb            object\n",
       "Rooms              int64\n",
       "Type              object\n",
       "Price            float64\n",
       "Method            object\n",
       "Distance         float64\n",
       "Bedroom          float64\n",
       "Bathroom         float64\n",
       "Car              float64\n",
       "Landsize         float64\n",
       "BuildingArea     float64\n",
       "Propertycount    float64\n",
       "Lattitude        float64\n",
       "Longtitude       float64\n",
       "Year               int64\n",
       "Month              int64\n",
       "Day                int64\n",
       "BuildingAge      float64\n",
       "dtype: object"
      ]
     },
     "execution_count": 16,
     "metadata": {},
     "output_type": "execute_result"
    }
   ],
   "source": [
    "filtered.dtypes"
   ]
  },
  {
   "cell_type": "markdown",
   "id": "acknowledged-dubai",
   "metadata": {},
   "source": [
    "The dataset is now clear of unwanted rows and contains 6700 records. Next, we will look into the Price column and set up columns for classification purposes. To do this, we first set up a new column called 'overpriced' and set the calculation to above mean price, and then Label Encoder will be used to change the True False labels to 1 and 0, making it machine redable."
   ]
  },
  {
   "cell_type": "code",
   "execution_count": 17,
   "id": "labeled-madagascar",
   "metadata": {},
   "outputs": [
    {
     "data": {
      "text/plain": [
       "count                                 6,772.0000\n",
       "mean                              1,074,658.1270\n",
       "std                                 671,375.0624\n",
       "min                                 131,000.0000\n",
       "25%                                 630,000.0000\n",
       "50%                                 890,000.0000\n",
       "75%                               1,330,000.0000\n",
       "max                               9,000,000.0000\n",
       "Name: Price, dtype: float64"
      ]
     },
     "execution_count": 17,
     "metadata": {},
     "output_type": "execute_result"
    }
   ],
   "source": [
    "filtered.Price.describe()"
   ]
  },
  {
   "cell_type": "code",
   "execution_count": 18,
   "id": "pressing-nelson",
   "metadata": {},
   "outputs": [
    {
     "data": {
      "text/plain": [
       "1074658.1269935027"
      ]
     },
     "execution_count": 18,
     "metadata": {},
     "output_type": "execute_result"
    }
   ],
   "source": [
    "#after filtering, check price avg\n",
    "np.mean(filtered.Price)"
   ]
  },
  {
   "cell_type": "code",
   "execution_count": 19,
   "id": "otherwise-orange",
   "metadata": {},
   "outputs": [
    {
     "data": {
      "text/plain": [
       "<AxesSubplot:xlabel='Price'>"
      ]
     },
     "execution_count": 19,
     "metadata": {},
     "output_type": "execute_result"
    },
    {
     "data": {
      "image/png": "[encoded data removed]",
      "text/plain": [
       "<Figure size 432x288 with 1 Axes>"
      ]
     },
     "metadata": {
      "needs_background": "light"
     },
     "output_type": "display_data"
    }
   ],
   "source": [
    "sns.boxplot(data=filtered, x = 'Price')"
   ]
  },
  {
   "cell_type": "markdown",
   "id": "absent-timeline",
   "metadata": {},
   "source": [
    "We have quite a lot of outliers for the price, this means the houses sold contains quite some expensive houses, but it does not imply the price is overpriced. Next step will be finding whether a house's selling price is categorized as expensive property or not. The property will be labelled as pricey if the price is above the 75th percentile selling price."
   ]
  },
  {
   "cell_type": "code",
   "execution_count": 20,
   "id": "assisted-taxation",
   "metadata": {},
   "outputs": [
    {
     "data": {
      "text/html": [
       "<div>\n",
       "<style scoped>\n",
       "    .dataframe tbody tr th:only-of-type {\n",
       "        vertical-align: middle;\n",
       "    }\n",
       "\n",
       "    .dataframe tbody tr th {\n",
       "        vertical-align: top;\n",
       "    }\n",
       "\n",
       "    .dataframe thead th {\n",
       "        text-align: right;\n",
       "    }\n",
       "</style>\n",
       "<table border=\"1\" class=\"dataframe\">\n",
       "  <thead>\n",
       "    <tr style=\"text-align: right;\">\n",
       "      <th></th>\n",
       "      <th>expensive</th>\n",
       "    </tr>\n",
       "  </thead>\n",
       "  <tbody>\n",
       "    <tr>\n",
       "      <th>1</th>\n",
       "      <td>False</td>\n",
       "    </tr>\n",
       "    <tr>\n",
       "      <th>2</th>\n",
       "      <td>True</td>\n",
       "    </tr>\n",
       "    <tr>\n",
       "      <th>4</th>\n",
       "      <td>True</td>\n",
       "    </tr>\n",
       "    <tr>\n",
       "      <th>6</th>\n",
       "      <td>True</td>\n",
       "    </tr>\n",
       "    <tr>\n",
       "      <th>7</th>\n",
       "      <td>True</td>\n",
       "    </tr>\n",
       "    <tr>\n",
       "      <th>...</th>\n",
       "      <td>...</td>\n",
       "    </tr>\n",
       "    <tr>\n",
       "      <th>13572</th>\n",
       "      <td>False</td>\n",
       "    </tr>\n",
       "    <tr>\n",
       "      <th>13573</th>\n",
       "      <td>False</td>\n",
       "    </tr>\n",
       "    <tr>\n",
       "      <th>13576</th>\n",
       "      <td>False</td>\n",
       "    </tr>\n",
       "    <tr>\n",
       "      <th>13578</th>\n",
       "      <td>True</td>\n",
       "    </tr>\n",
       "    <tr>\n",
       "      <th>13579</th>\n",
       "      <td>False</td>\n",
       "    </tr>\n",
       "  </tbody>\n",
       "</table>\n",
       "<p>6772 rows × 1 columns</p>\n",
       "</div>"
      ],
      "text/plain": [
       "       expensive\n",
       "1          False\n",
       "2           True\n",
       "4           True\n",
       "6           True\n",
       "7           True\n",
       "...          ...\n",
       "13572      False\n",
       "13573      False\n",
       "13576      False\n",
       "13578       True\n",
       "13579      False\n",
       "\n",
       "[6772 rows x 1 columns]"
      ]
     },
     "execution_count": 20,
     "metadata": {},
     "output_type": "execute_result"
    }
   ],
   "source": [
    "a = pd.DataFrame({'expensive':filtered['Price']>=np.percentile(filtered['Price'],75)})\n",
    "a"
   ]
  },
  {
   "cell_type": "code",
   "execution_count": 21,
   "id": "renewable-diving",
   "metadata": {
    "scrolled": true
   },
   "outputs": [
    {
     "data": {
      "text/plain": [
       "array(['Suburb', 'Rooms', 'Type', 'Price', 'Method', 'Distance',\n",
       "       'Bedroom', 'Bathroom', 'Car', 'Landsize', 'BuildingArea',\n",
       "       'Propertycount', 'Lattitude', 'Longtitude', 'Year', 'Month', 'Day',\n",
       "       'BuildingAge'], dtype=object)"
      ]
     },
     "execution_count": 21,
     "metadata": {},
     "output_type": "execute_result"
    }
   ],
   "source": [
    "filtered.columns.values"
   ]
  },
  {
   "cell_type": "code",
   "execution_count": 22,
   "id": "opposite-satisfaction",
   "metadata": {},
   "outputs": [
    {
     "data": {
      "text/html": [
       "<div>\n",
       "<style scoped>\n",
       "    .dataframe tbody tr th:only-of-type {\n",
       "        vertical-align: middle;\n",
       "    }\n",
       "\n",
       "    .dataframe tbody tr th {\n",
       "        vertical-align: top;\n",
       "    }\n",
       "\n",
       "    .dataframe thead th {\n",
       "        text-align: right;\n",
       "    }\n",
       "</style>\n",
       "<table border=\"1\" class=\"dataframe\">\n",
       "  <thead>\n",
       "    <tr style=\"text-align: right;\">\n",
       "      <th></th>\n",
       "      <th>Suburb</th>\n",
       "      <th>Rooms</th>\n",
       "      <th>Type</th>\n",
       "      <th>Price</th>\n",
       "      <th>Method</th>\n",
       "      <th>Distance</th>\n",
       "      <th>Bedroom</th>\n",
       "      <th>Bathroom</th>\n",
       "      <th>Car</th>\n",
       "      <th>Landsize</th>\n",
       "      <th>BuildingArea</th>\n",
       "      <th>Propertycount</th>\n",
       "      <th>Lattitude</th>\n",
       "      <th>Longtitude</th>\n",
       "      <th>Year</th>\n",
       "      <th>Month</th>\n",
       "      <th>Day</th>\n",
       "      <th>BuildingAge</th>\n",
       "      <th>expensive</th>\n",
       "    </tr>\n",
       "  </thead>\n",
       "  <tbody>\n",
       "    <tr>\n",
       "      <th>1</th>\n",
       "      <td>Abbotsford</td>\n",
       "      <td>2</td>\n",
       "      <td>h</td>\n",
       "      <td>1,035,000.0000</td>\n",
       "      <td>S</td>\n",
       "      <td>2.5000</td>\n",
       "      <td>2.0000</td>\n",
       "      <td>1.0000</td>\n",
       "      <td>0.0000</td>\n",
       "      <td>156.0000</td>\n",
       "      <td>79.0000</td>\n",
       "      <td>4,019.0000</td>\n",
       "      <td>-37.8079</td>\n",
       "      <td>144.9934</td>\n",
       "      <td>2016</td>\n",
       "      <td>2</td>\n",
       "      <td>4</td>\n",
       "      <td>116.0000</td>\n",
       "      <td>False</td>\n",
       "    </tr>\n",
       "    <tr>\n",
       "      <th>2</th>\n",
       "      <td>Abbotsford</td>\n",
       "      <td>3</td>\n",
       "      <td>h</td>\n",
       "      <td>1,465,000.0000</td>\n",
       "      <td>SP</td>\n",
       "      <td>2.5000</td>\n",
       "      <td>3.0000</td>\n",
       "      <td>2.0000</td>\n",
       "      <td>0.0000</td>\n",
       "      <td>134.0000</td>\n",
       "      <td>150.0000</td>\n",
       "      <td>4,019.0000</td>\n",
       "      <td>-37.8093</td>\n",
       "      <td>144.9944</td>\n",
       "      <td>2017</td>\n",
       "      <td>3</td>\n",
       "      <td>4</td>\n",
       "      <td>117.0000</td>\n",
       "      <td>True</td>\n",
       "    </tr>\n",
       "    <tr>\n",
       "      <th>4</th>\n",
       "      <td>Abbotsford</td>\n",
       "      <td>4</td>\n",
       "      <td>h</td>\n",
       "      <td>1,600,000.0000</td>\n",
       "      <td>VB</td>\n",
       "      <td>2.5000</td>\n",
       "      <td>3.0000</td>\n",
       "      <td>1.0000</td>\n",
       "      <td>2.0000</td>\n",
       "      <td>120.0000</td>\n",
       "      <td>142.0000</td>\n",
       "      <td>4,019.0000</td>\n",
       "      <td>-37.8072</td>\n",
       "      <td>144.9941</td>\n",
       "      <td>2016</td>\n",
       "      <td>6</td>\n",
       "      <td>4</td>\n",
       "      <td>2.0000</td>\n",
       "      <td>True</td>\n",
       "    </tr>\n",
       "    <tr>\n",
       "      <th>6</th>\n",
       "      <td>Abbotsford</td>\n",
       "      <td>3</td>\n",
       "      <td>h</td>\n",
       "      <td>1,876,000.0000</td>\n",
       "      <td>S</td>\n",
       "      <td>2.5000</td>\n",
       "      <td>4.0000</td>\n",
       "      <td>2.0000</td>\n",
       "      <td>0.0000</td>\n",
       "      <td>245.0000</td>\n",
       "      <td>210.0000</td>\n",
       "      <td>4,019.0000</td>\n",
       "      <td>-37.8024</td>\n",
       "      <td>144.9993</td>\n",
       "      <td>2016</td>\n",
       "      <td>5</td>\n",
       "      <td>7</td>\n",
       "      <td>106.0000</td>\n",
       "      <td>True</td>\n",
       "    </tr>\n",
       "    <tr>\n",
       "      <th>7</th>\n",
       "      <td>Abbotsford</td>\n",
       "      <td>2</td>\n",
       "      <td>h</td>\n",
       "      <td>1,636,000.0000</td>\n",
       "      <td>S</td>\n",
       "      <td>2.5000</td>\n",
       "      <td>2.0000</td>\n",
       "      <td>1.0000</td>\n",
       "      <td>2.0000</td>\n",
       "      <td>256.0000</td>\n",
       "      <td>107.0000</td>\n",
       "      <td>4,019.0000</td>\n",
       "      <td>-37.8060</td>\n",
       "      <td>144.9954</td>\n",
       "      <td>2016</td>\n",
       "      <td>10</td>\n",
       "      <td>8</td>\n",
       "      <td>126.0000</td>\n",
       "      <td>True</td>\n",
       "    </tr>\n",
       "    <tr>\n",
       "      <th>...</th>\n",
       "      <td>...</td>\n",
       "      <td>...</td>\n",
       "      <td>...</td>\n",
       "      <td>...</td>\n",
       "      <td>...</td>\n",
       "      <td>...</td>\n",
       "      <td>...</td>\n",
       "      <td>...</td>\n",
       "      <td>...</td>\n",
       "      <td>...</td>\n",
       "      <td>...</td>\n",
       "      <td>...</td>\n",
       "      <td>...</td>\n",
       "      <td>...</td>\n",
       "      <td>...</td>\n",
       "      <td>...</td>\n",
       "      <td>...</td>\n",
       "      <td>...</td>\n",
       "      <td>...</td>\n",
       "    </tr>\n",
       "    <tr>\n",
       "      <th>13572</th>\n",
       "      <td>Watsonia</td>\n",
       "      <td>2</td>\n",
       "      <td>h</td>\n",
       "      <td>650,000.0000</td>\n",
       "      <td>PI</td>\n",
       "      <td>14.5000</td>\n",
       "      <td>2.0000</td>\n",
       "      <td>1.0000</td>\n",
       "      <td>1.0000</td>\n",
       "      <td>210.0000</td>\n",
       "      <td>79.0000</td>\n",
       "      <td>2,329.0000</td>\n",
       "      <td>-37.7066</td>\n",
       "      <td>145.0788</td>\n",
       "      <td>2017</td>\n",
       "      <td>8</td>\n",
       "      <td>26</td>\n",
       "      <td>11.0000</td>\n",
       "      <td>False</td>\n",
       "    </tr>\n",
       "    <tr>\n",
       "      <th>13573</th>\n",
       "      <td>Werribee</td>\n",
       "      <td>4</td>\n",
       "      <td>h</td>\n",
       "      <td>635,000.0000</td>\n",
       "      <td>S</td>\n",
       "      <td>14.7000</td>\n",
       "      <td>4.0000</td>\n",
       "      <td>2.0000</td>\n",
       "      <td>1.0000</td>\n",
       "      <td>662.0000</td>\n",
       "      <td>172.0000</td>\n",
       "      <td>16,166.0000</td>\n",
       "      <td>-37.8933</td>\n",
       "      <td>144.6479</td>\n",
       "      <td>2017</td>\n",
       "      <td>8</td>\n",
       "      <td>26</td>\n",
       "      <td>37.0000</td>\n",
       "      <td>False</td>\n",
       "    </tr>\n",
       "    <tr>\n",
       "      <th>13576</th>\n",
       "      <td>Williamstown</td>\n",
       "      <td>3</td>\n",
       "      <td>h</td>\n",
       "      <td>1,031,000.0000</td>\n",
       "      <td>SP</td>\n",
       "      <td>6.8000</td>\n",
       "      <td>3.0000</td>\n",
       "      <td>2.0000</td>\n",
       "      <td>2.0000</td>\n",
       "      <td>333.0000</td>\n",
       "      <td>133.0000</td>\n",
       "      <td>6,380.0000</td>\n",
       "      <td>-37.8593</td>\n",
       "      <td>144.8790</td>\n",
       "      <td>2017</td>\n",
       "      <td>8</td>\n",
       "      <td>26</td>\n",
       "      <td>22.0000</td>\n",
       "      <td>False</td>\n",
       "    </tr>\n",
       "    <tr>\n",
       "      <th>13578</th>\n",
       "      <td>Williamstown</td>\n",
       "      <td>4</td>\n",
       "      <td>h</td>\n",
       "      <td>2,500,000.0000</td>\n",
       "      <td>PI</td>\n",
       "      <td>6.8000</td>\n",
       "      <td>4.0000</td>\n",
       "      <td>1.0000</td>\n",
       "      <td>5.0000</td>\n",
       "      <td>866.0000</td>\n",
       "      <td>157.0000</td>\n",
       "      <td>6,380.0000</td>\n",
       "      <td>-37.8591</td>\n",
       "      <td>144.8930</td>\n",
       "      <td>2017</td>\n",
       "      <td>8</td>\n",
       "      <td>26</td>\n",
       "      <td>97.0000</td>\n",
       "      <td>True</td>\n",
       "    </tr>\n",
       "    <tr>\n",
       "      <th>13579</th>\n",
       "      <td>Yarraville</td>\n",
       "      <td>4</td>\n",
       "      <td>h</td>\n",
       "      <td>1,285,000.0000</td>\n",
       "      <td>SP</td>\n",
       "      <td>6.3000</td>\n",
       "      <td>4.0000</td>\n",
       "      <td>1.0000</td>\n",
       "      <td>1.0000</td>\n",
       "      <td>362.0000</td>\n",
       "      <td>112.0000</td>\n",
       "      <td>6,543.0000</td>\n",
       "      <td>-37.8119</td>\n",
       "      <td>144.8845</td>\n",
       "      <td>2017</td>\n",
       "      <td>8</td>\n",
       "      <td>26</td>\n",
       "      <td>97.0000</td>\n",
       "      <td>False</td>\n",
       "    </tr>\n",
       "  </tbody>\n",
       "</table>\n",
       "<p>6772 rows × 19 columns</p>\n",
       "</div>"
      ],
      "text/plain": [
       "             Suburb  Rooms Type                                    Price  \\\n",
       "1        Abbotsford      2    h                           1,035,000.0000   \n",
       "2        Abbotsford      3    h                           1,465,000.0000   \n",
       "4        Abbotsford      4    h                           1,600,000.0000   \n",
       "6        Abbotsford      3    h                           1,876,000.0000   \n",
       "7        Abbotsford      2    h                           1,636,000.0000   \n",
       "...             ...    ...  ...                                      ...   \n",
       "13572      Watsonia      2    h                             650,000.0000   \n",
       "13573      Werribee      4    h                             635,000.0000   \n",
       "13576  Williamstown      3    h                           1,031,000.0000   \n",
       "13578  Williamstown      4    h                           2,500,000.0000   \n",
       "13579    Yarraville      4    h                           1,285,000.0000   \n",
       "\n",
       "      Method                                 Distance  \\\n",
       "1          S                                   2.5000   \n",
       "2         SP                                   2.5000   \n",
       "4         VB                                   2.5000   \n",
       "6          S                                   2.5000   \n",
       "7          S                                   2.5000   \n",
       "...      ...                                      ...   \n",
       "13572     PI                                  14.5000   \n",
       "13573      S                                  14.7000   \n",
       "13576     SP                                   6.8000   \n",
       "13578     PI                                   6.8000   \n",
       "13579     SP                                   6.3000   \n",
       "\n",
       "                                       Bedroom  \\\n",
       "1                                       2.0000   \n",
       "2                                       3.0000   \n",
       "4                                       3.0000   \n",
       "6                                       4.0000   \n",
       "7                                       2.0000   \n",
       "...                                        ...   \n",
       "13572                                   2.0000   \n",
       "13573                                   4.0000   \n",
       "13576                                   3.0000   \n",
       "13578                                   4.0000   \n",
       "13579                                   4.0000   \n",
       "\n",
       "                                      Bathroom  \\\n",
       "1                                       1.0000   \n",
       "2                                       2.0000   \n",
       "4                                       1.0000   \n",
       "6                                       2.0000   \n",
       "7                                       1.0000   \n",
       "...                                        ...   \n",
       "13572                                   1.0000   \n",
       "13573                                   2.0000   \n",
       "13576                                   2.0000   \n",
       "13578                                   1.0000   \n",
       "13579                                   1.0000   \n",
       "\n",
       "                                           Car  \\\n",
       "1                                       0.0000   \n",
       "2                                       0.0000   \n",
       "4                                       2.0000   \n",
       "6                                       0.0000   \n",
       "7                                       2.0000   \n",
       "...                                        ...   \n",
       "13572                                   1.0000   \n",
       "13573                                   1.0000   \n",
       "13576                                   2.0000   \n",
       "13578                                   5.0000   \n",
       "13579                                   1.0000   \n",
       "\n",
       "                                      Landsize  \\\n",
       "1                                     156.0000   \n",
       "2                                     134.0000   \n",
       "4                                     120.0000   \n",
       "6                                     245.0000   \n",
       "7                                     256.0000   \n",
       "...                                        ...   \n",
       "13572                                 210.0000   \n",
       "13573                                 662.0000   \n",
       "13576                                 333.0000   \n",
       "13578                                 866.0000   \n",
       "13579                                 362.0000   \n",
       "\n",
       "                                  BuildingArea  \\\n",
       "1                                      79.0000   \n",
       "2                                     150.0000   \n",
       "4                                     142.0000   \n",
       "6                                     210.0000   \n",
       "7                                     107.0000   \n",
       "...                                        ...   \n",
       "13572                                  79.0000   \n",
       "13573                                 172.0000   \n",
       "13576                                 133.0000   \n",
       "13578                                 157.0000   \n",
       "13579                                 112.0000   \n",
       "\n",
       "                                 Propertycount  \\\n",
       "1                                   4,019.0000   \n",
       "2                                   4,019.0000   \n",
       "4                                   4,019.0000   \n",
       "6                                   4,019.0000   \n",
       "7                                   4,019.0000   \n",
       "...                                        ...   \n",
       "13572                               2,329.0000   \n",
       "13573                              16,166.0000   \n",
       "13576                               6,380.0000   \n",
       "13578                               6,380.0000   \n",
       "13579                               6,543.0000   \n",
       "\n",
       "                                     Lattitude  \\\n",
       "1                                     -37.8079   \n",
       "2                                     -37.8093   \n",
       "4                                     -37.8072   \n",
       "6                                     -37.8024   \n",
       "7                                     -37.8060   \n",
       "...                                        ...   \n",
       "13572                                 -37.7066   \n",
       "13573                                 -37.8933   \n",
       "13576                                 -37.8593   \n",
       "13578                                 -37.8591   \n",
       "13579                                 -37.8119   \n",
       "\n",
       "                                    Longtitude  Year  Month  Day  \\\n",
       "1                                     144.9934  2016      2    4   \n",
       "2                                     144.9944  2017      3    4   \n",
       "4                                     144.9941  2016      6    4   \n",
       "6                                     144.9993  2016      5    7   \n",
       "7                                     144.9954  2016     10    8   \n",
       "...                                        ...   ...    ...  ...   \n",
       "13572                                 145.0788  2017      8   26   \n",
       "13573                                 144.6479  2017      8   26   \n",
       "13576                                 144.8790  2017      8   26   \n",
       "13578                                 144.8930  2017      8   26   \n",
       "13579                                 144.8845  2017      8   26   \n",
       "\n",
       "                                   BuildingAge  expensive  \n",
       "1                                     116.0000      False  \n",
       "2                                     117.0000       True  \n",
       "4                                       2.0000       True  \n",
       "6                                     106.0000       True  \n",
       "7                                     126.0000       True  \n",
       "...                                        ...        ...  \n",
       "13572                                  11.0000      False  \n",
       "13573                                  37.0000      False  \n",
       "13576                                  22.0000      False  \n",
       "13578                                  97.0000       True  \n",
       "13579                                  97.0000      False  \n",
       "\n",
       "[6772 rows x 19 columns]"
      ]
     },
     "execution_count": 22,
     "metadata": {},
     "output_type": "execute_result"
    }
   ],
   "source": [
    "b = pd.concat( [filtered, a], axis = 1)\n",
    "b"
   ]
  },
  {
   "cell_type": "code",
   "execution_count": 23,
   "id": "seven-ultimate",
   "metadata": {
    "scrolled": true
   },
   "outputs": [
    {
     "data": {
      "text/plain": [
       "False    5072\n",
       "True     1700\n",
       "Name: expensive, dtype: int64"
      ]
     },
     "execution_count": 23,
     "metadata": {},
     "output_type": "execute_result"
    }
   ],
   "source": [
    "b['expensive'].value_counts()"
   ]
  },
  {
   "cell_type": "code",
   "execution_count": 24,
   "id": "thick-narrow",
   "metadata": {},
   "outputs": [],
   "source": [
    "#preparing the dataset for splitting\n",
    "#labelling the overpriced column\n",
    "from sklearn.preprocessing import LabelEncoder"
   ]
  },
  {
   "cell_type": "code",
   "execution_count": 25,
   "id": "particular-scholar",
   "metadata": {},
   "outputs": [],
   "source": [
    "le = LabelEncoder()\n",
    "le.fit([True, False])\n",
    "labels_fea = le.transform(b['expensive'])"
   ]
  },
  {
   "cell_type": "code",
   "execution_count": 26,
   "id": "accepted-insulation",
   "metadata": {},
   "outputs": [
    {
     "data": {
      "text/plain": [
       "0    5072\n",
       "1    1700\n",
       "dtype: int64"
      ]
     },
     "execution_count": 26,
     "metadata": {},
     "output_type": "execute_result"
    }
   ],
   "source": [
    "pd.Series(labels_fea).value_counts()"
   ]
  },
  {
   "cell_type": "code",
   "execution_count": 27,
   "id": "relevant-growing",
   "metadata": {},
   "outputs": [],
   "source": [
    "#vectorize data into dictionary\n",
    "from sklearn.feature_extraction import DictVectorizer"
   ]
  },
  {
   "cell_type": "code",
   "execution_count": 28,
   "id": "primary-orientation",
   "metadata": {},
   "outputs": [],
   "source": [
    "A = b.drop(['Price','expensive'],axis = 1)\n",
    "y = filtered['Price']"
   ]
  },
  {
   "cell_type": "code",
   "execution_count": 29,
   "id": "governing-incentive",
   "metadata": {},
   "outputs": [
    {
     "name": "stdout",
     "output_type": "stream",
     "text": [
      "{'Suburb': 'Abbotsford', 'Rooms': 3, 'Type': 'h', 'Method': 'SP', 'Distance': 2.5, 'Bedroom': 3.0, 'Bathroom': 2.0, 'Car': 0.0, 'Landsize': 134.0, 'BuildingArea': 150.0, 'Propertycount': 4019.0, 'Lattitude': -37.8093, 'Longtitude': 144.9944, 'Year': 2017, 'Month': 3, 'Day': 4, 'BuildingAge': 117.0}\n"
     ]
    }
   ],
   "source": [
    "A_dict = A.to_dict('records')\n",
    "print(A_dict[1])"
   ]
  },
  {
   "cell_type": "code",
   "execution_count": 30,
   "id": "wrong-detail",
   "metadata": {},
   "outputs": [
    {
     "data": {
      "text/plain": [
       "(6772, 322)"
      ]
     },
     "execution_count": 30,
     "metadata": {},
     "output_type": "execute_result"
    }
   ],
   "source": [
    "vec = DictVectorizer()  # create the DictVectorizer object\n",
    "A_vec_array = vec.fit_transform(A_dict).toarray()\n",
    "A_vec_array.shape"
   ]
  },
  {
   "cell_type": "code",
   "execution_count": 31,
   "id": "binary-pressing",
   "metadata": {},
   "outputs": [
    {
     "name": "stdout",
     "output_type": "stream",
     "text": [
      "['Bathroom', 'Bedroom', 'BuildingAge', 'BuildingArea', 'Car']\n",
      "{'Suburb=Abbotsford': 18, 'Rooms': 17, 'Type=h': 318, 'Method=S': 11, 'Distance': 6, 'Bedroom': 1, 'Bathroom': 0, 'Car': 4, 'Landsize': 7, 'BuildingArea': 3, 'Propertycount': 16, 'Lattitude': 8, 'Longtitude': 9, 'Year': 321, 'Month': 15, 'Day': 5, 'BuildingAge': 2, 'Method=SP': 13, 'Method=VB': 14, 'Type=u': 320, 'Method=PI': 10, 'Suburb=Airport West': 20, 'Type=t': 319, 'Suburb=Albert Park': 22, 'Suburb=Alphington': 24, 'Suburb=Altona': 25, 'Suburb=Altona North': 27, 'Suburb=Armadale': 29, 'Suburb=Ascot Vale': 30, 'Suburb=Ashburton': 31, 'Suburb=Ashwood': 32, 'Suburb=Avondale Heights': 34, 'Suburb=Balaclava': 35, 'Suburb=Balwyn': 36, 'Method=SA': 12, 'Suburb=Balwyn North': 37, 'Suburb=Bentleigh': 44, 'Suburb=Bentleigh East': 45, 'Suburb=Box Hill': 53, 'Suburb=Braybrook': 54, 'Suburb=Brighton': 56, 'Suburb=Brighton East': 57, 'Suburb=Brunswick': 61, 'Suburb=Brunswick West': 63, 'Suburb=Bulleen': 64, 'Suburb=Burwood': 69, 'Suburb=Camberwell': 72, 'Suburb=Canterbury': 74, 'Suburb=Carlton North': 76, 'Suburb=Carnegie': 77, 'Suburb=Caulfield': 81, 'Suburb=Caulfield North': 83, 'Suburb=Caulfield South': 84, 'Suburb=Chadstone': 85, 'Suburb=Clifton Hill': 93, 'Suburb=Coburg': 94, 'Suburb=Coburg North': 95, 'Suburb=Collingwood': 96, 'Suburb=Doncaster': 115, 'Suburb=Eaglemont': 120, 'Suburb=Elsternwick': 123, 'Suburb=Elwood': 126, 'Suburb=Essendon': 130, 'Suburb=Essendon North': 131, 'Suburb=Fairfield': 133, 'Suburb=Fitzroy': 136, 'Suburb=Fitzroy North': 137, 'Suburb=Flemington': 138, 'Suburb=Footscray': 139, 'Suburb=Glen Iris': 148, 'Suburb=Glenroy': 150, 'Suburb=Gowanbrae': 151, 'Suburb=Hadfield': 154, 'Suburb=Hampton': 156, 'Suburb=Hampton East': 157, 'Suburb=Hawthorn': 159, 'Suburb=Heidelberg Heights': 164, 'Suburb=Heidelberg West': 165, 'Suburb=Hughesdale': 169, 'Suburb=Ivanhoe': 172, 'Suburb=Kealba': 175, 'Suburb=Keilor East': 178, 'Suburb=Kensington': 180, 'Suburb=Kew': 181, 'Suburb=Kew East': 182, 'Suburb=Maidstone': 194, 'Suburb=Malvern': 195, 'Suburb=Malvern East': 196, 'Suburb=Maribyrnong': 197, 'Suburb=Melbourne': 200, 'Suburb=Middle Park': 206, 'Suburb=Mont Albert': 209, 'Suburb=Moonee Ponds': 212, 'Suburb=Moorabbin': 213, 'Suburb=Newport': 221, 'Suburb=Niddrie': 222, 'Suburb=North Melbourne': 224, 'Suburb=Northcote': 226, 'Suburb=Oak Park': 229, 'Suburb=Oakleigh South': 232, 'Suburb=Parkville': 236, 'Suburb=Pascoe Vale': 237, 'Suburb=Port Melbourne': 240, 'Suburb=Prahran': 241, 'Suburb=Preston': 242, 'Suburb=Reservoir': 244, 'Suburb=Richmond': 245, 'Suburb=Rosanna': 251, 'Suburb=Seddon': 260, 'Suburb=South Melbourne': 263, 'Suburb=South Yarra': 265, 'Suburb=Southbank': 266, 'Suburb=Spotswood': 267, 'Suburb=St Kilda': 272, 'Suburb=Strathmore': 273, 'Suburb=Sunshine': 276, 'Suburb=Sunshine North': 277, 'Suburb=Sunshine West': 278, 'Suburb=Surrey Hills': 279, 'Suburb=Templestowe Lower': 285, 'Suburb=Thornbury': 288, 'Suburb=Toorak': 289, 'Suburb=Viewbank': 295, 'Suburb=Watsonia': 301, 'Suburb=West Melbourne': 305, 'Suburb=Williamstown': 310, 'Suburb=Williamstown North': 311, 'Suburb=Windsor': 312, 'Suburb=Yallambie': 315, 'Suburb=Yarraville': 317, 'Suburb=Aberfeldie': 19, 'Suburb=Bellfield': 43, 'Suburb=Brunswick East': 62, 'Suburb=Burnley': 66, 'Suburb=Carlton': 75, 'Suburb=East Melbourne': 121, 'Suburb=Essendon West': 132, 'Suburb=Fawkner': 134, 'Suburb=Hawthorn East': 160, 'Suburb=Heidelberg': 163, 'Suburb=Ivanhoe East': 173, 'Suburb=Jacana': 174, 'Suburb=Kingsbury': 186, 'Suburb=Kingsville': 187, 'Suburb=Murrumbeena': 219, 'Suburb=Ormond': 233, 'Suburb=West Footscray': 304, 'Suburb=Albion': 23, 'Suburb=Brooklyn': 60, 'Suburb=Glen Huntly': 147, 'Suburb=Oakleigh': 230, 'Suburb=Ripponlea': 250, 'Suburb=Cremorne': 101, 'Suburb=South Kingsville': 262, 'Suburb=Strathmore Heights': 274, 'Suburb=Travancore': 290, 'Suburb=Caulfield East': 82, 'Suburb=Seaholme': 259, 'Suburb=Keilor Park': 179, 'Suburb=Gardenvale': 144, 'Suburb=Princes Hill': 243, 'Suburb=Bayswater': 38, 'Suburb=Briar Hill': 55, 'Suburb=Broadmeadows': 58, 'Suburb=Burnside Heights': 68, 'Suburb=Cairnlea': 71, 'Suburb=Cheltenham': 88, 'Suburb=Craigieburn': 98, 'Suburb=Croydon': 102, 'Suburb=Dandenong North': 107, 'Suburb=Diamond Creek': 112, 'Suburb=Doncaster East': 116, 'Suburb=Donvale': 117, 'Suburb=Doreen': 118, 'Suburb=Eltham': 124, 'Suburb=Epping': 129, 'Suburb=Frankston North': 142, 'Suburb=Frankston South': 143, 'Suburb=Gisborne': 145, 'Suburb=Greensborough': 152, 'Suburb=Healesville': 161, 'Suburb=Highett': 166, 'Suburb=Hillside': 167, 'Suburb=Huntingdale': 170, 'Suburb=Keilor Downs': 177, 'Suburb=Keysborough': 183, 'Suburb=Kings Park': 185, 'Suburb=Lalor': 191, 'Suburb=Melton': 201, 'Suburb=Mernda': 205, 'Suburb=Mill Park': 207, 'Suburb=Mitcham': 208, 'Suburb=Montmorency': 210, 'Suburb=Mount Waverley': 217, 'Suburb=Nunawading': 228, 'Suburb=Parkdale': 235, 'Suburb=Point Cook': 239, 'Suburb=Rowville': 252, 'Suburb=Sandringham': 255, 'Suburb=Seaford': 258, 'Suburb=South Morang': 264, 'Suburb=Springvale': 268, 'Suburb=St Albans': 270, 'Suburb=Sunbury': 275, 'Suburb=Tarneit': 281, 'Suburb=Taylors Hill': 282, 'Suburb=Werribee': 303, 'Suburb=Wyndham Vale': 314, 'Suburb=Beaumaris': 42, 'Suburb=Blackburn': 48, 'Suburb=Bonbeach': 51, 'Suburb=Boronia': 52, 'Suburb=Burwood East': 70, 'Suburb=Caroline Springs': 78, 'Suburb=Carrum': 79, 'Suburb=Chelsea': 86, 'Suburb=Clayton': 91, 'Suburb=Dandenong': 106, 'Suburb=Dingley Village': 114, 'Suburb=Doveton': 119, 'Suburb=Frankston': 141, 'Suburb=Glen Waverley': 149, 'Suburb=Greenvale': 153, 'Suburb=Heathmont': 162, 'Suburb=Hoppers Crossing': 168, 'Suburb=Melton South': 202, 'Suburb=Melton West': 203, 'Suburb=Mentone': 204, 'Suburb=Mooroolbark': 214, 'Suburb=Mordialloc': 215, 'Suburb=Oakleigh East': 231, 'Suburb=Ringwood East': 248, 'Suburb=Roxburgh Park': 253, 'Suburb=Seabrook': 257, 'Suburb=Templestowe': 284, 'Suburb=Thomastown': 287, 'Suburb=Vermont': 293, 'Suburb=Watsonia North': 302, 'Suburb=Westmeadows': 306, 'Suburb=Wheelers Hill': 307, 'Suburb=Bayswater North': 39, 'Suburb=Berwick': 46, 'Suburb=Black Rock': 47, 'Suburb=Blackburn North': 49, 'Suburb=Bundoora': 65, 'Suburb=Carrum Downs': 80, 'Suburb=Croydon North': 104, 'Suburb=Ferntree Gully': 135, 'Suburb=Gladstone Park': 146, 'Suburb=Hallam': 155, 'Suburb=Mulgrave': 218, 'Suburb=Notting Hill': 227, 'Suburb=Ringwood North': 249, 'Suburb=Skye': 261, 'Suburb=Sydenham': 280, 'Suburb=Taylors Lakes': 283, 'Suburb=Vermont South': 294, 'Suburb=Beaconsfield Upper': 41, 'Suburb=Blackburn South': 50, 'Suburb=Chelsea Heights': 87, 'Suburb=Eltham North': 125, 'Suburb=Meadow Heights': 199, 'Suburb=Mount Evelyn': 216, 'Suburb=Noble Park': 223, 'Suburb=North Warrandyte': 225, 'Suburb=Riddells Creek': 246, 'Suburb=Sandhurst': 254, 'Suburb=Wantirna South': 298, 'Suburb=Chirnside Park': 89, 'Suburb=Croydon Hills': 103, 'Suburb=Derrimut': 111, 'Suburb=Edithvale': 122, 'Suburb=Forest Hill': 140, 'Suburb=Keilor': 176, 'Suburb=Knoxfield': 188, 'Suburb=Lower Plenty': 193, 'Suburb=St Helena': 271, 'Suburb=Truganina': 291, 'Suburb=Tullamarine': 292, 'Suburb=Wollert': 313, 'Suburb=Deer Park': 109, 'Suburb=Hampton Park': 158, 'Suburb=Montrose': 211, 'Suburb=Ringwood': 247, 'Suburb=The Basin': 286, 'Suburb=Altona Meadows': 26, 'Suburb=Clarinda': 90, 'Suburb=Deepdene': 108, 'Suburb=Delahey': 110, 'Suburb=Diggers Rest': 113, 'Suburb=Hurstbridge': 171, 'Suburb=Kurunjang': 190, 'Suburb=McKinnon': 198, 'Suburb=Scoresby': 256, 'Suburb=Aspendale': 33, 'Suburb=Endeavour Hills': 128, 'Suburb=Narre Warren': 220, 'Suburb=Pakenham': 234, 'Suburb=Warrandyte': 299, 'Suburb=Beaconsfield': 40, 'Suburb=Langwarrin': 192, 'Suburb=Springvale South': 269, 'Suburb=Yarra Glen': 316, 'Suburb=Albanvale': 21, 'Suburb=Ardeer': 28, 'Suburb=Brookfield': 59, 'Suburb=Cranbourne North': 100, 'Suburb=Emerald': 127, 'Suburb=Whittlesea': 308, 'Suburb=Clayton South': 92, 'Suburb=Coolaroo': 97, 'Suburb=Dallas': 105, 'Suburb=Wantirna': 297, 'Suburb=Waterways': 300, 'Suburb=Wallan': 296, 'Suburb=Williams Landing': 309, 'Suburb=Campbellfield': 73, 'Suburb=Kilsyth': 184, 'Suburb=Plumpton': 238, 'Suburb=Burnside': 67, 'Suburb=Cranbourne': 99, 'Suburb=Kooyong': 189}\n"
     ]
    }
   ],
   "source": [
    "print(vec.feature_names_[0:5])\n",
    "print(vec.vocabulary_)"
   ]
  },
  {
   "cell_type": "code",
   "execution_count": 32,
   "id": "green-arthritis",
   "metadata": {},
   "outputs": [],
   "source": [
    "#Split data using scikit learn function\n",
    "from sklearn.model_selection import train_test_split\n",
    "train_d, test_d, train_lab, test_lab = train_test_split(A_vec_array, labels_fea)"
   ]
  },
  {
   "cell_type": "code",
   "execution_count": 33,
   "id": "varying-turkey",
   "metadata": {},
   "outputs": [
    {
     "name": "stdout",
     "output_type": "stream",
     "text": [
      "(5079, 322)\n",
      "(1693, 322)\n"
     ]
    }
   ],
   "source": [
    "print(train_d.shape)\n",
    "print(test_d.shape)"
   ]
  },
  {
   "cell_type": "code",
   "execution_count": 34,
   "id": "indirect-promise",
   "metadata": {
    "scrolled": false
   },
   "outputs": [
    {
     "data": {
      "text/plain": [
       "(5079, 1693, 5079, 1693)"
      ]
     },
     "execution_count": 34,
     "metadata": {},
     "output_type": "execute_result"
    }
   ],
   "source": [
    "len(train_d),len(test_d),len(train_lab),len(test_lab)"
   ]
  },
  {
   "cell_type": "markdown",
   "id": "earned-treasure",
   "metadata": {},
   "source": [
    "We will plot the property locations to the map for now to see where the labelled expensive properties are located at."
   ]
  },
  {
   "cell_type": "code",
   "execution_count": 35,
   "id": "failing-excitement",
   "metadata": {},
   "outputs": [],
   "source": [
    "b1 = b.copy()\n",
    "gdf = gpd.GeoDataFrame(b1, geometry=gpd.points_from_xy(b1.Longtitude, b1.Lattitude, crs='epsg:4326'))"
   ]
  },
  {
   "cell_type": "code",
   "execution_count": 36,
   "id": "dietary-begin",
   "metadata": {
    "scrolled": false
   },
   "outputs": [
    {
     "data": {
      "image/png": "[encoded data removed]",
      "text/plain": [
       "<Figure size 720x576 with 2 Axes>"
      ]
     },
     "metadata": {
      "needs_background": "light"
     },
     "output_type": "display_data"
    }
   ],
   "source": [
    "ax=gdf.plot(column='expensive', legend=True, markersize=1 ,figsize=(10,8))"
   ]
  },
  {
   "cell_type": "code",
   "execution_count": 37,
   "id": "exact-occurrence",
   "metadata": {},
   "outputs": [],
   "source": [
    "#preprocessing for regression purposes\n",
    "#creating dummies to the set to avoid categorical values raising error during the process\n",
    "\n",
    "reg_df = filtered.drop(['Suburb'], axis = 1)"
   ]
  },
  {
   "cell_type": "code",
   "execution_count": 38,
   "id": "artistic-kelly",
   "metadata": {},
   "outputs": [],
   "source": [
    "filtered_numeric = pd.get_dummies(reg_df)"
   ]
  },
  {
   "cell_type": "code",
   "execution_count": 39,
   "id": "postal-given",
   "metadata": {},
   "outputs": [
    {
     "name": "stdout",
     "output_type": "stream",
     "text": [
      "<class 'pandas.core.frame.DataFrame'>\n",
      "Int64Index: 6772 entries, 1 to 13579\n",
      "Data columns (total 23 columns):\n",
      " #   Column         Non-Null Count  Dtype  \n",
      "---  ------         --------------  -----  \n",
      " 0   Rooms          6772 non-null   int64  \n",
      " 1   Price          6772 non-null   float64\n",
      " 2   Distance       6772 non-null   float64\n",
      " 3   Bedroom        6772 non-null   float64\n",
      " 4   Bathroom       6772 non-null   float64\n",
      " 5   Car            6772 non-null   float64\n",
      " 6   Landsize       6772 non-null   float64\n",
      " 7   BuildingArea   6772 non-null   float64\n",
      " 8   Propertycount  6772 non-null   float64\n",
      " 9   Lattitude      6772 non-null   float64\n",
      " 10  Longtitude     6772 non-null   float64\n",
      " 11  Year           6772 non-null   int64  \n",
      " 12  Month          6772 non-null   int64  \n",
      " 13  Day            6772 non-null   int64  \n",
      " 14  BuildingAge    6772 non-null   float64\n",
      " 15  Type_h         6772 non-null   uint8  \n",
      " 16  Type_t         6772 non-null   uint8  \n",
      " 17  Type_u         6772 non-null   uint8  \n",
      " 18  Method_PI      6772 non-null   uint8  \n",
      " 19  Method_S       6772 non-null   uint8  \n",
      " 20  Method_SA      6772 non-null   uint8  \n",
      " 21  Method_SP      6772 non-null   uint8  \n",
      " 22  Method_VB      6772 non-null   uint8  \n",
      "dtypes: float64(11), int64(4), uint8(8)\n",
      "memory usage: 899.4 KB\n"
     ]
    }
   ],
   "source": [
    "filtered_numeric.info()"
   ]
  },
  {
   "cell_type": "code",
   "execution_count": 40,
   "id": "demanding-screw",
   "metadata": {
    "scrolled": true
   },
   "outputs": [
    {
     "data": {
      "text/plain": [
       "array(['Rooms', 'Price', 'Distance', 'Bedroom', 'Bathroom', 'Car',\n",
       "       'Landsize', 'BuildingArea', 'Propertycount', 'Lattitude',\n",
       "       'Longtitude', 'Year', 'Month', 'Day', 'BuildingAge', 'Type_h',\n",
       "       'Type_t', 'Type_u', 'Method_PI', 'Method_S', 'Method_SA',\n",
       "       'Method_SP', 'Method_VB'], dtype=object)"
      ]
     },
     "execution_count": 40,
     "metadata": {},
     "output_type": "execute_result"
    }
   ],
   "source": [
    "filtered_numeric.columns.values"
   ]
  },
  {
   "cell_type": "code",
   "execution_count": 41,
   "id": "mental-monroe",
   "metadata": {
    "scrolled": true
   },
   "outputs": [
    {
     "name": "stdout",
     "output_type": "stream",
     "text": [
      "<class 'pandas.core.frame.DataFrame'>\n",
      "Int64Index: 6772 entries, 1 to 13579\n",
      "Data columns (total 21 columns):\n",
      " #   Column         Non-Null Count  Dtype  \n",
      "---  ------         --------------  -----  \n",
      " 0   Rooms          6772 non-null   int64  \n",
      " 1   Price          6772 non-null   float64\n",
      " 2   Distance       6772 non-null   float64\n",
      " 3   Bedroom        6772 non-null   float64\n",
      " 4   Bathroom       6772 non-null   float64\n",
      " 5   Car            6772 non-null   float64\n",
      " 6   Landsize       6772 non-null   float64\n",
      " 7   BuildingArea   6772 non-null   float64\n",
      " 8   Propertycount  6772 non-null   float64\n",
      " 9   Lattitude      6772 non-null   float64\n",
      " 10  Longtitude     6772 non-null   float64\n",
      " 11  Year           6772 non-null   int64  \n",
      " 12  Month          6772 non-null   int64  \n",
      " 13  Day            6772 non-null   int64  \n",
      " 14  BuildingAge    6772 non-null   float64\n",
      " 15  Type_h         6772 non-null   uint8  \n",
      " 16  Type_t         6772 non-null   uint8  \n",
      " 17  Method_PI      6772 non-null   uint8  \n",
      " 18  Method_S       6772 non-null   uint8  \n",
      " 19  Method_SA      6772 non-null   uint8  \n",
      " 20  Method_SP      6772 non-null   uint8  \n",
      "dtypes: float64(11), int64(4), uint8(6)\n",
      "memory usage: 886.2 KB\n"
     ]
    }
   ],
   "source": [
    "filtered_numeric_fil = filtered_numeric.drop(['Type_u','Method_VB'], axis = 1)\n",
    "filtered_numeric_fil.info()"
   ]
  },
  {
   "cell_type": "markdown",
   "id": "pleased-arthritis",
   "metadata": {},
   "source": [
    "## Regression (VIF)\n",
    "\n",
    "Before doing any fancy regression, let's see the preliminary score of linear regression without removing any columns. Then move on to removing variables with high multicollinearity using VIF. Since both linear regression models did not perform very well, random forest regressor is added."
   ]
  },
  {
   "cell_type": "code",
   "execution_count": 42,
   "id": "exclusive-artwork",
   "metadata": {},
   "outputs": [],
   "source": [
    "#setting up 2 part data to feed in\n",
    "predictors_df = filtered_numeric_fil.drop('Price', axis=1)\n",
    "response_df = filtered_numeric_fil['Price']"
   ]
  },
  {
   "cell_type": "code",
   "execution_count": 43,
   "id": "skilled-provincial",
   "metadata": {},
   "outputs": [
    {
     "data": {
      "text/html": [
       "<table class=\"simpletable\">\n",
       "<caption>OLS Regression Results</caption>\n",
       "<tr>\n",
       "  <th>Dep. Variable:</th>          <td>Price</td>      <th>  R-squared:         </th> <td>   0.611</td> \n",
       "</tr>\n",
       "<tr>\n",
       "  <th>Model:</th>                   <td>OLS</td>       <th>  Adj. R-squared:    </th> <td>   0.610</td> \n",
       "</tr>\n",
       "<tr>\n",
       "  <th>Method:</th>             <td>Least Squares</td>  <th>  F-statistic:       </th> <td>   530.1</td> \n",
       "</tr>\n",
       "<tr>\n",
       "  <th>Date:</th>             <td>Sun, 11 Apr 2021</td> <th>  Prob (F-statistic):</th>  <td>  0.00</td>  \n",
       "</tr>\n",
       "<tr>\n",
       "  <th>Time:</th>                 <td>17:37:50</td>     <th>  Log-Likelihood:    </th> <td> -97272.</td> \n",
       "</tr>\n",
       "<tr>\n",
       "  <th>No. Observations:</th>      <td>  6772</td>      <th>  AIC:               </th> <td>1.946e+05</td>\n",
       "</tr>\n",
       "<tr>\n",
       "  <th>Df Residuals:</th>          <td>  6751</td>      <th>  BIC:               </th> <td>1.947e+05</td>\n",
       "</tr>\n",
       "<tr>\n",
       "  <th>Df Model:</th>              <td>    20</td>      <th>                     </th>     <td> </td>    \n",
       "</tr>\n",
       "<tr>\n",
       "  <th>Covariance Type:</th>      <td>nonrobust</td>    <th>                     </th>     <td> </td>    \n",
       "</tr>\n",
       "</table>\n",
       "<table class=\"simpletable\">\n",
       "<tr>\n",
       "        <td></td>           <th>coef</th>     <th>std err</th>      <th>t</th>      <th>P>|t|</th>  <th>[0.025</th>    <th>0.975]</th>  \n",
       "</tr>\n",
       "<tr>\n",
       "  <th>const</th>         <td>-3.121e+08</td> <td> 2.57e+07</td> <td>  -12.124</td> <td> 0.000</td> <td>-3.63e+08</td> <td>-2.62e+08</td>\n",
       "</tr>\n",
       "<tr>\n",
       "  <th>Rooms</th>         <td> 1.206e+05</td> <td> 1.87e+04</td> <td>    6.433</td> <td> 0.000</td> <td> 8.39e+04</td> <td> 1.57e+05</td>\n",
       "</tr>\n",
       "<tr>\n",
       "  <th>Distance</th>      <td>-4.032e+04</td> <td> 1052.175</td> <td>  -38.323</td> <td> 0.000</td> <td>-4.24e+04</td> <td>-3.83e+04</td>\n",
       "</tr>\n",
       "<tr>\n",
       "  <th>Bedroom</th>       <td>-2302.0276</td> <td> 1.85e+04</td> <td>   -0.124</td> <td> 0.901</td> <td>-3.86e+04</td> <td>  3.4e+04</td>\n",
       "</tr>\n",
       "<tr>\n",
       "  <th>Bathroom</th>      <td> 2.182e+05</td> <td> 1.01e+04</td> <td>   21.670</td> <td> 0.000</td> <td> 1.98e+05</td> <td> 2.38e+05</td>\n",
       "</tr>\n",
       "<tr>\n",
       "  <th>Car</th>           <td> 5.239e+04</td> <td> 6160.120</td> <td>    8.504</td> <td> 0.000</td> <td> 4.03e+04</td> <td> 6.45e+04</td>\n",
       "</tr>\n",
       "<tr>\n",
       "  <th>Landsize</th>      <td>   23.3997</td> <td>    5.670</td> <td>    4.127</td> <td> 0.000</td> <td>   12.284</td> <td>   34.515</td>\n",
       "</tr>\n",
       "<tr>\n",
       "  <th>BuildingArea</th>  <td> 1728.8385</td> <td>   75.378</td> <td>   22.935</td> <td> 0.000</td> <td> 1581.073</td> <td> 1876.604</td>\n",
       "</tr>\n",
       "<tr>\n",
       "  <th>Propertycount</th> <td>   -0.7847</td> <td>    1.189</td> <td>   -0.660</td> <td> 0.509</td> <td>   -3.116</td> <td>    1.546</td>\n",
       "</tr>\n",
       "<tr>\n",
       "  <th>Lattitude</th>     <td>-1.558e+06</td> <td> 7.05e+04</td> <td>  -22.111</td> <td> 0.000</td> <td> -1.7e+06</td> <td>-1.42e+06</td>\n",
       "</tr>\n",
       "<tr>\n",
       "  <th>Longtitude</th>    <td>  8.93e+05</td> <td> 5.39e+04</td> <td>   16.556</td> <td> 0.000</td> <td> 7.87e+05</td> <td> 9.99e+05</td>\n",
       "</tr>\n",
       "<tr>\n",
       "  <th>Year</th>          <td> 6.133e+04</td> <td> 1.22e+04</td> <td>    5.012</td> <td> 0.000</td> <td> 3.73e+04</td> <td> 8.53e+04</td>\n",
       "</tr>\n",
       "<tr>\n",
       "  <th>Month</th>         <td> 9866.5112</td> <td> 2303.004</td> <td>    4.284</td> <td> 0.000</td> <td> 5351.897</td> <td> 1.44e+04</td>\n",
       "</tr>\n",
       "<tr>\n",
       "  <th>Day</th>           <td> -534.5507</td> <td>  606.985</td> <td>   -0.881</td> <td> 0.379</td> <td>-1724.432</td> <td>  655.331</td>\n",
       "</tr>\n",
       "<tr>\n",
       "  <th>BuildingAge</th>   <td> 3395.1322</td> <td>  170.684</td> <td>   19.891</td> <td> 0.000</td> <td> 3060.537</td> <td> 3729.727</td>\n",
       "</tr>\n",
       "<tr>\n",
       "  <th>Type_h</th>        <td> 2.899e+05</td> <td> 1.71e+04</td> <td>   16.941</td> <td> 0.000</td> <td> 2.56e+05</td> <td> 3.23e+05</td>\n",
       "</tr>\n",
       "<tr>\n",
       "  <th>Type_t</th>        <td> 1.302e+05</td> <td>  2.1e+04</td> <td>    6.206</td> <td> 0.000</td> <td> 8.91e+04</td> <td> 1.71e+05</td>\n",
       "</tr>\n",
       "<tr>\n",
       "  <th>Method_PI</th>     <td>-2.671e+04</td> <td> 2.27e+04</td> <td>   -1.178</td> <td> 0.239</td> <td>-7.11e+04</td> <td> 1.77e+04</td>\n",
       "</tr>\n",
       "<tr>\n",
       "  <th>Method_S</th>      <td> 2.485e+04</td> <td> 1.86e+04</td> <td>    1.339</td> <td> 0.181</td> <td>-1.15e+04</td> <td> 6.12e+04</td>\n",
       "</tr>\n",
       "<tr>\n",
       "  <th>Method_SA</th>     <td>-5.817e+04</td> <td> 6.64e+04</td> <td>   -0.876</td> <td> 0.381</td> <td>-1.88e+05</td> <td> 7.19e+04</td>\n",
       "</tr>\n",
       "<tr>\n",
       "  <th>Method_SP</th>     <td> -3.74e+04</td> <td>  2.2e+04</td> <td>   -1.697</td> <td> 0.090</td> <td>-8.06e+04</td> <td> 5814.970</td>\n",
       "</tr>\n",
       "</table>\n",
       "<table class=\"simpletable\">\n",
       "<tr>\n",
       "  <th>Omnibus:</th>       <td>5256.624</td> <th>  Durbin-Watson:     </th>  <td>   1.652</td> \n",
       "</tr>\n",
       "<tr>\n",
       "  <th>Prob(Omnibus):</th>  <td> 0.000</td>  <th>  Jarque-Bera (JB):  </th> <td>422921.813</td>\n",
       "</tr>\n",
       "<tr>\n",
       "  <th>Skew:</th>           <td> 3.108</td>  <th>  Prob(JB):          </th>  <td>    0.00</td> \n",
       "</tr>\n",
       "<tr>\n",
       "  <th>Kurtosis:</th>       <td>41.213</td>  <th>  Cond. No.          </th>  <td>4.45e+07</td> \n",
       "</tr>\n",
       "</table><br/><br/>Notes:<br/>[1] Standard Errors assume that the covariance matrix of the errors is correctly specified.<br/>[2] The condition number is large, 4.45e+07. This might indicate that there are<br/>strong multicollinearity or other numerical problems."
      ],
      "text/plain": [
       "<class 'statsmodels.iolib.summary.Summary'>\n",
       "\"\"\"\n",
       "                            OLS Regression Results                            \n",
       "==============================================================================\n",
       "Dep. Variable:                  Price   R-squared:                       0.611\n",
       "Model:                            OLS   Adj. R-squared:                  0.610\n",
       "Method:                 Least Squares   F-statistic:                     530.1\n",
       "Date:                Sun, 11 Apr 2021   Prob (F-statistic):               0.00\n",
       "Time:                        17:37:50   Log-Likelihood:                -97272.\n",
       "No. Observations:                6772   AIC:                         1.946e+05\n",
       "Df Residuals:                    6751   BIC:                         1.947e+05\n",
       "Df Model:                          20                                         \n",
       "Covariance Type:            nonrobust                                         \n",
       "=================================================================================\n",
       "                    coef    std err          t      P>|t|      [0.025      0.975]\n",
       "---------------------------------------------------------------------------------\n",
       "const         -3.121e+08   2.57e+07    -12.124      0.000   -3.63e+08   -2.62e+08\n",
       "Rooms          1.206e+05   1.87e+04      6.433      0.000    8.39e+04    1.57e+05\n",
       "Distance      -4.032e+04   1052.175    -38.323      0.000   -4.24e+04   -3.83e+04\n",
       "Bedroom       -2302.0276   1.85e+04     -0.124      0.901   -3.86e+04     3.4e+04\n",
       "Bathroom       2.182e+05   1.01e+04     21.670      0.000    1.98e+05    2.38e+05\n",
       "Car            5.239e+04   6160.120      8.504      0.000    4.03e+04    6.45e+04\n",
       "Landsize         23.3997      5.670      4.127      0.000      12.284      34.515\n",
       "BuildingArea   1728.8385     75.378     22.935      0.000    1581.073    1876.604\n",
       "Propertycount    -0.7847      1.189     -0.660      0.509      -3.116       1.546\n",
       "Lattitude     -1.558e+06   7.05e+04    -22.111      0.000    -1.7e+06   -1.42e+06\n",
       "Longtitude      8.93e+05   5.39e+04     16.556      0.000    7.87e+05    9.99e+05\n",
       "Year           6.133e+04   1.22e+04      5.012      0.000    3.73e+04    8.53e+04\n",
       "Month          9866.5112   2303.004      4.284      0.000    5351.897    1.44e+04\n",
       "Day            -534.5507    606.985     -0.881      0.379   -1724.432     655.331\n",
       "BuildingAge    3395.1322    170.684     19.891      0.000    3060.537    3729.727\n",
       "Type_h         2.899e+05   1.71e+04     16.941      0.000    2.56e+05    3.23e+05\n",
       "Type_t         1.302e+05    2.1e+04      6.206      0.000    8.91e+04    1.71e+05\n",
       "Method_PI     -2.671e+04   2.27e+04     -1.178      0.239   -7.11e+04    1.77e+04\n",
       "Method_S       2.485e+04   1.86e+04      1.339      0.181   -1.15e+04    6.12e+04\n",
       "Method_SA     -5.817e+04   6.64e+04     -0.876      0.381   -1.88e+05    7.19e+04\n",
       "Method_SP      -3.74e+04    2.2e+04     -1.697      0.090   -8.06e+04    5814.970\n",
       "==============================================================================\n",
       "Omnibus:                     5256.624   Durbin-Watson:                   1.652\n",
       "Prob(Omnibus):                  0.000   Jarque-Bera (JB):           422921.813\n",
       "Skew:                           3.108   Prob(JB):                         0.00\n",
       "Kurtosis:                      41.213   Cond. No.                     4.45e+07\n",
       "==============================================================================\n",
       "\n",
       "Notes:\n",
       "[1] Standard Errors assume that the covariance matrix of the errors is correctly specified.\n",
       "[2] The condition number is large, 4.45e+07. This might indicate that there are\n",
       "strong multicollinearity or other numerical problems.\n",
       "\"\"\""
      ]
     },
     "execution_count": 43,
     "metadata": {},
     "output_type": "execute_result"
    }
   ],
   "source": [
    "regressor_OLS = sm.OLS(endog=response_df, exog=sm.add_constant(predictors_df)).fit()\n",
    "regressor_OLS.summary()"
   ]
  },
  {
   "cell_type": "markdown",
   "id": "southeast-testing",
   "metadata": {},
   "source": [
    "---\n",
    "There are many problems with the model right now, a low R2 score of 0.546, very high condition number (implying high multicollinearity, some independent variables having an especially high p-value. The next step is to try to use VIF to eliminate the multicollinearity problem, and hopefully remove the insignificant variables in the progress.\n",
    "\n",
    "---"
   ]
  },
  {
   "cell_type": "code",
   "execution_count": 44,
   "id": "sonic-fundamentals",
   "metadata": {},
   "outputs": [],
   "source": [
    "# calculating VIF\n",
    "# This function is amended from: https://stackoverflow.com/a/51329496/4667568\n",
    "from statsmodels.stats.outliers_influence import variance_inflation_factor \n",
    "from statsmodels.tools.tools import add_constant\n",
    "\n",
    "def drop_column_using_vif_(df, list_var_not_to_remove, thresh=5):\n",
    "    '''\n",
    "    Calculates VIF each feature in a pandas dataframe, and repeatedly drop the columns with the highest VIF\n",
    "    A constant must be added to variance_inflation_factor or the results will be incorrect\n",
    "\n",
    "    :param df: the pandas dataframe containing only the predictor features, not the response variable\n",
    "    :param list_var_not_to_remove: the list of variables that should not be removed even though it has a high VIF. For example, dummy (or indicator) variables represent a categorical variable with three or more categories.\n",
    "    :param thresh: the max VIF value before the feature is removed from the dataframe\n",
    "    :return: dataframe with multicollinear features removed\n",
    "    '''\n",
    "    while True:\n",
    "        # adding a constatnt item to the data\n",
    "        df_with_const = add_constant(df)\n",
    "\n",
    "        vif_df = pd.Series([variance_inflation_factor(df_with_const.values, i) \n",
    "               for i in range(df_with_const.shape[1])], name= \"VIF\",\n",
    "              index=df_with_const.columns).to_frame()\n",
    "\n",
    "        # drop the const\n",
    "        vif_df = vif_df.drop('const').drop(list_var_not_to_remove)\n",
    "        \n",
    "        print('Max VIF:', vif_df.VIF.max())\n",
    "        \n",
    "        # if the largest VIF is above the thresh, remove a variable with the largest VIF\n",
    "        if vif_df.VIF.max() > thresh:\n",
    "            # If there are multiple variables with the maximum VIF, choose the first one\n",
    "            index_to_drop = vif_df.index[vif_df.VIF == vif_df.VIF.max()].tolist()[0]\n",
    "            print('Dropping: {}'.format(index_to_drop))\n",
    "            df = df.drop(columns = index_to_drop)\n",
    "        else:\n",
    "            # No VIF is above threshold. Exit the loop\n",
    "            break\n",
    "\n",
    "    return df"
   ]
  },
  {
   "cell_type": "code",
   "execution_count": 45,
   "id": "antique-wagon",
   "metadata": {},
   "outputs": [
    {
     "name": "stdout",
     "output_type": "stream",
     "text": [
      "Max VIF: 12.745901866683914\n",
      "Dropping: Rooms\n",
      "Max VIF: 2.635720879632536\n",
      "Dropping: Bedroom\n",
      "Max VIF: 1.599848834831253\n",
      "The columns remaining after VIF selection are:\n",
      "Index(['Distance', 'Bathroom', 'Car', 'Landsize', 'BuildingArea',\n",
      "       'Propertycount', 'Lattitude', 'Longtitude', 'Year', 'Month', 'Day',\n",
      "       'BuildingAge', 'Type_h', 'Type_t', 'Method_PI', 'Method_S', 'Method_SA',\n",
      "       'Method_SP'],\n",
      "      dtype='object')\n"
     ]
    }
   ],
   "source": [
    "#select columns to keep even if they have super high VIF score\n",
    "list_var_not_to_remove = ['Type_h', 'Type_t', 'Method_PI',\n",
    "       'Method_S', 'Method_SA', 'Method_SP']\n",
    "df_predictors_select_VIF = drop_column_using_vif_(predictors_df, list_var_not_to_remove, thresh=2.5)\n",
    "print(\"The columns remaining after VIF selection are:\")\n",
    "print(df_predictors_select_VIF.columns)"
   ]
  },
  {
   "cell_type": "markdown",
   "id": "acting-composer",
   "metadata": {},
   "source": [
    "VIF decided to drop `number of rooms` and `number of bedrooms`, which is acceptable from a statistical viewpoint but irrational to solve our research question."
   ]
  },
  {
   "cell_type": "code",
   "execution_count": 46,
   "id": "rubber-stanley",
   "metadata": {},
   "outputs": [
    {
     "data": {
      "text/html": [
       "<table class=\"simpletable\">\n",
       "<caption>OLS Regression Results</caption>\n",
       "<tr>\n",
       "  <th>Dep. Variable:</th>          <td>Price</td>      <th>  R-squared:         </th> <td>   0.600</td> \n",
       "</tr>\n",
       "<tr>\n",
       "  <th>Model:</th>                   <td>OLS</td>       <th>  Adj. R-squared:    </th> <td>   0.599</td> \n",
       "</tr>\n",
       "<tr>\n",
       "  <th>Method:</th>             <td>Least Squares</td>  <th>  F-statistic:       </th> <td>   563.0</td> \n",
       "</tr>\n",
       "<tr>\n",
       "  <th>Date:</th>             <td>Sun, 11 Apr 2021</td> <th>  Prob (F-statistic):</th>  <td>  0.00</td>  \n",
       "</tr>\n",
       "<tr>\n",
       "  <th>Time:</th>                 <td>17:37:50</td>     <th>  Log-Likelihood:    </th> <td> -97366.</td> \n",
       "</tr>\n",
       "<tr>\n",
       "  <th>No. Observations:</th>      <td>  6772</td>      <th>  AIC:               </th> <td>1.948e+05</td>\n",
       "</tr>\n",
       "<tr>\n",
       "  <th>Df Residuals:</th>          <td>  6753</td>      <th>  BIC:               </th> <td>1.949e+05</td>\n",
       "</tr>\n",
       "<tr>\n",
       "  <th>Df Model:</th>              <td>    18</td>      <th>                     </th>     <td> </td>    \n",
       "</tr>\n",
       "<tr>\n",
       "  <th>Covariance Type:</th>      <td>nonrobust</td>    <th>                     </th>     <td> </td>    \n",
       "</tr>\n",
       "</table>\n",
       "<table class=\"simpletable\">\n",
       "<tr>\n",
       "        <td></td>           <th>coef</th>     <th>std err</th>      <th>t</th>      <th>P>|t|</th>  <th>[0.025</th>    <th>0.975]</th>  \n",
       "</tr>\n",
       "<tr>\n",
       "  <th>const</th>         <td>-3.174e+08</td> <td>  2.6e+07</td> <td>  -12.229</td> <td> 0.000</td> <td>-3.68e+08</td> <td>-2.67e+08</td>\n",
       "</tr>\n",
       "<tr>\n",
       "  <th>Distance</th>      <td>-3.803e+04</td> <td> 1052.394</td> <td>  -36.140</td> <td> 0.000</td> <td>-4.01e+04</td> <td> -3.6e+04</td>\n",
       "</tr>\n",
       "<tr>\n",
       "  <th>Bathroom</th>      <td> 2.757e+05</td> <td> 9186.020</td> <td>   30.015</td> <td> 0.000</td> <td> 2.58e+05</td> <td> 2.94e+05</td>\n",
       "</tr>\n",
       "<tr>\n",
       "  <th>Car</th>           <td> 6.531e+04</td> <td> 6162.879</td> <td>   10.598</td> <td> 0.000</td> <td> 5.32e+04</td> <td> 7.74e+04</td>\n",
       "</tr>\n",
       "<tr>\n",
       "  <th>Landsize</th>      <td>   25.2166</td> <td>    5.746</td> <td>    4.388</td> <td> 0.000</td> <td>   13.952</td> <td>   36.481</td>\n",
       "</tr>\n",
       "<tr>\n",
       "  <th>BuildingArea</th>  <td> 2036.3844</td> <td>   72.959</td> <td>   27.911</td> <td> 0.000</td> <td> 1893.361</td> <td> 2179.408</td>\n",
       "</tr>\n",
       "<tr>\n",
       "  <th>Propertycount</th> <td>   -1.4791</td> <td>    1.204</td> <td>   -1.228</td> <td> 0.219</td> <td>   -3.840</td> <td>    0.882</td>\n",
       "</tr>\n",
       "<tr>\n",
       "  <th>Lattitude</th>     <td>-1.514e+06</td> <td> 7.13e+04</td> <td>  -21.225</td> <td> 0.000</td> <td>-1.65e+06</td> <td>-1.37e+06</td>\n",
       "</tr>\n",
       "<tr>\n",
       "  <th>Longtitude</th>    <td> 8.996e+05</td> <td> 5.47e+04</td> <td>   16.454</td> <td> 0.000</td> <td> 7.92e+05</td> <td> 1.01e+06</td>\n",
       "</tr>\n",
       "<tr>\n",
       "  <th>Year</th>          <td> 6.437e+04</td> <td> 1.23e+04</td> <td>    5.222</td> <td> 0.000</td> <td> 4.02e+04</td> <td> 8.85e+04</td>\n",
       "</tr>\n",
       "<tr>\n",
       "  <th>Month</th>         <td> 1.009e+04</td> <td> 2329.620</td> <td>    4.333</td> <td> 0.000</td> <td> 5527.667</td> <td> 1.47e+04</td>\n",
       "</tr>\n",
       "<tr>\n",
       "  <th>Day</th>           <td> -331.6170</td> <td>  614.799</td> <td>   -0.539</td> <td> 0.590</td> <td>-1536.816</td> <td>  873.582</td>\n",
       "</tr>\n",
       "<tr>\n",
       "  <th>BuildingAge</th>   <td> 3587.3778</td> <td>  172.407</td> <td>   20.808</td> <td> 0.000</td> <td> 3249.406</td> <td> 3925.349</td>\n",
       "</tr>\n",
       "<tr>\n",
       "  <th>Type_h</th>        <td> 3.733e+05</td> <td> 1.62e+04</td> <td>   23.051</td> <td> 0.000</td> <td> 3.42e+05</td> <td> 4.05e+05</td>\n",
       "</tr>\n",
       "<tr>\n",
       "  <th>Type_t</th>        <td> 1.739e+05</td> <td>  2.1e+04</td> <td>    8.272</td> <td> 0.000</td> <td> 1.33e+05</td> <td> 2.15e+05</td>\n",
       "</tr>\n",
       "<tr>\n",
       "  <th>Method_PI</th>     <td>-2.928e+04</td> <td>  2.3e+04</td> <td>   -1.274</td> <td> 0.203</td> <td>-7.43e+04</td> <td> 1.58e+04</td>\n",
       "</tr>\n",
       "<tr>\n",
       "  <th>Method_S</th>      <td> 2.117e+04</td> <td> 1.88e+04</td> <td>    1.125</td> <td> 0.260</td> <td>-1.57e+04</td> <td>  5.8e+04</td>\n",
       "</tr>\n",
       "<tr>\n",
       "  <th>Method_SA</th>     <td>-6.572e+04</td> <td> 6.73e+04</td> <td>   -0.977</td> <td> 0.329</td> <td>-1.98e+05</td> <td> 6.62e+04</td>\n",
       "</tr>\n",
       "<tr>\n",
       "  <th>Method_SP</th>     <td>-4.342e+04</td> <td> 2.23e+04</td> <td>   -1.943</td> <td> 0.052</td> <td>-8.72e+04</td> <td>  375.723</td>\n",
       "</tr>\n",
       "</table>\n",
       "<table class=\"simpletable\">\n",
       "<tr>\n",
       "  <th>Omnibus:</th>       <td>4974.290</td> <th>  Durbin-Watson:     </th>  <td>   1.663</td> \n",
       "</tr>\n",
       "<tr>\n",
       "  <th>Prob(Omnibus):</th>  <td> 0.000</td>  <th>  Jarque-Bera (JB):  </th> <td>417581.965</td>\n",
       "</tr>\n",
       "<tr>\n",
       "  <th>Skew:</th>           <td> 2.824</td>  <th>  Prob(JB):          </th>  <td>    0.00</td> \n",
       "</tr>\n",
       "<tr>\n",
       "  <th>Kurtosis:</th>       <td>41.053</td>  <th>  Cond. No.          </th>  <td>4.42e+07</td> \n",
       "</tr>\n",
       "</table><br/><br/>Notes:<br/>[1] Standard Errors assume that the covariance matrix of the errors is correctly specified.<br/>[2] The condition number is large, 4.42e+07. This might indicate that there are<br/>strong multicollinearity or other numerical problems."
      ],
      "text/plain": [
       "<class 'statsmodels.iolib.summary.Summary'>\n",
       "\"\"\"\n",
       "                            OLS Regression Results                            \n",
       "==============================================================================\n",
       "Dep. Variable:                  Price   R-squared:                       0.600\n",
       "Model:                            OLS   Adj. R-squared:                  0.599\n",
       "Method:                 Least Squares   F-statistic:                     563.0\n",
       "Date:                Sun, 11 Apr 2021   Prob (F-statistic):               0.00\n",
       "Time:                        17:37:50   Log-Likelihood:                -97366.\n",
       "No. Observations:                6772   AIC:                         1.948e+05\n",
       "Df Residuals:                    6753   BIC:                         1.949e+05\n",
       "Df Model:                          18                                         \n",
       "Covariance Type:            nonrobust                                         \n",
       "=================================================================================\n",
       "                    coef    std err          t      P>|t|      [0.025      0.975]\n",
       "---------------------------------------------------------------------------------\n",
       "const         -3.174e+08    2.6e+07    -12.229      0.000   -3.68e+08   -2.67e+08\n",
       "Distance      -3.803e+04   1052.394    -36.140      0.000   -4.01e+04    -3.6e+04\n",
       "Bathroom       2.757e+05   9186.020     30.015      0.000    2.58e+05    2.94e+05\n",
       "Car            6.531e+04   6162.879     10.598      0.000    5.32e+04    7.74e+04\n",
       "Landsize         25.2166      5.746      4.388      0.000      13.952      36.481\n",
       "BuildingArea   2036.3844     72.959     27.911      0.000    1893.361    2179.408\n",
       "Propertycount    -1.4791      1.204     -1.228      0.219      -3.840       0.882\n",
       "Lattitude     -1.514e+06   7.13e+04    -21.225      0.000   -1.65e+06   -1.37e+06\n",
       "Longtitude     8.996e+05   5.47e+04     16.454      0.000    7.92e+05    1.01e+06\n",
       "Year           6.437e+04   1.23e+04      5.222      0.000    4.02e+04    8.85e+04\n",
       "Month          1.009e+04   2329.620      4.333      0.000    5527.667    1.47e+04\n",
       "Day            -331.6170    614.799     -0.539      0.590   -1536.816     873.582\n",
       "BuildingAge    3587.3778    172.407     20.808      0.000    3249.406    3925.349\n",
       "Type_h         3.733e+05   1.62e+04     23.051      0.000    3.42e+05    4.05e+05\n",
       "Type_t         1.739e+05    2.1e+04      8.272      0.000    1.33e+05    2.15e+05\n",
       "Method_PI     -2.928e+04    2.3e+04     -1.274      0.203   -7.43e+04    1.58e+04\n",
       "Method_S       2.117e+04   1.88e+04      1.125      0.260   -1.57e+04     5.8e+04\n",
       "Method_SA     -6.572e+04   6.73e+04     -0.977      0.329   -1.98e+05    6.62e+04\n",
       "Method_SP     -4.342e+04   2.23e+04     -1.943      0.052   -8.72e+04     375.723\n",
       "==============================================================================\n",
       "Omnibus:                     4974.290   Durbin-Watson:                   1.663\n",
       "Prob(Omnibus):                  0.000   Jarque-Bera (JB):           417581.965\n",
       "Skew:                           2.824   Prob(JB):                         0.00\n",
       "Kurtosis:                      41.053   Cond. No.                     4.42e+07\n",
       "==============================================================================\n",
       "\n",
       "Notes:\n",
       "[1] Standard Errors assume that the covariance matrix of the errors is correctly specified.\n",
       "[2] The condition number is large, 4.42e+07. This might indicate that there are\n",
       "strong multicollinearity or other numerical problems.\n",
       "\"\"\""
      ]
     },
     "execution_count": 46,
     "metadata": {},
     "output_type": "execute_result"
    }
   ],
   "source": [
    "#let's do linear regression again\n",
    "regressor_OLS = sm.OLS(endog=response_df, exog=sm.add_constant(df_predictors_select_VIF)).fit()\n",
    "regressor_OLS.summary()"
   ]
  },
  {
   "cell_type": "code",
   "execution_count": 47,
   "id": "statutory-conditions",
   "metadata": {},
   "outputs": [],
   "source": [
    "#VIF did not solve much so we can try removing the high p value columns and test again\n",
    "new_predictor = df_predictors_select_VIF.drop(['Propertycount','Day','Method_PI', 'Method_S', 'Method_SA', 'Method_SP'], axis=1)"
   ]
  },
  {
   "cell_type": "code",
   "execution_count": 48,
   "id": "laughing-preparation",
   "metadata": {},
   "outputs": [
    {
     "data": {
      "text/html": [
       "<table class=\"simpletable\">\n",
       "<caption>OLS Regression Results</caption>\n",
       "<tr>\n",
       "  <th>Dep. Variable:</th>          <td>Price</td>      <th>  R-squared:         </th> <td>   0.599</td> \n",
       "</tr>\n",
       "<tr>\n",
       "  <th>Model:</th>                   <td>OLS</td>       <th>  Adj. R-squared:    </th> <td>   0.598</td> \n",
       "</tr>\n",
       "<tr>\n",
       "  <th>Method:</th>             <td>Least Squares</td>  <th>  F-statistic:       </th> <td>   839.7</td> \n",
       "</tr>\n",
       "<tr>\n",
       "  <th>Date:</th>             <td>Sun, 11 Apr 2021</td> <th>  Prob (F-statistic):</th>  <td>  0.00</td>  \n",
       "</tr>\n",
       "<tr>\n",
       "  <th>Time:</th>                 <td>17:37:50</td>     <th>  Log-Likelihood:    </th> <td> -97379.</td> \n",
       "</tr>\n",
       "<tr>\n",
       "  <th>No. Observations:</th>      <td>  6772</td>      <th>  AIC:               </th> <td>1.948e+05</td>\n",
       "</tr>\n",
       "<tr>\n",
       "  <th>Df Residuals:</th>          <td>  6759</td>      <th>  BIC:               </th> <td>1.949e+05</td>\n",
       "</tr>\n",
       "<tr>\n",
       "  <th>Df Model:</th>              <td>    12</td>      <th>                     </th>     <td> </td>    \n",
       "</tr>\n",
       "<tr>\n",
       "  <th>Covariance Type:</th>      <td>nonrobust</td>    <th>                     </th>     <td> </td>    \n",
       "</tr>\n",
       "</table>\n",
       "<table class=\"simpletable\">\n",
       "<tr>\n",
       "        <td></td>          <th>coef</th>     <th>std err</th>      <th>t</th>      <th>P>|t|</th>  <th>[0.025</th>    <th>0.975]</th>  \n",
       "</tr>\n",
       "<tr>\n",
       "  <th>const</th>        <td>-3.183e+08</td> <td> 2.59e+07</td> <td>  -12.290</td> <td> 0.000</td> <td>-3.69e+08</td> <td>-2.68e+08</td>\n",
       "</tr>\n",
       "<tr>\n",
       "  <th>Distance</th>     <td>-3.786e+04</td> <td> 1045.286</td> <td>  -36.216</td> <td> 0.000</td> <td>-3.99e+04</td> <td>-3.58e+04</td>\n",
       "</tr>\n",
       "<tr>\n",
       "  <th>Bathroom</th>     <td> 2.742e+05</td> <td> 9165.177</td> <td>   29.920</td> <td> 0.000</td> <td> 2.56e+05</td> <td> 2.92e+05</td>\n",
       "</tr>\n",
       "<tr>\n",
       "  <th>Car</th>          <td>  6.47e+04</td> <td> 6167.482</td> <td>   10.490</td> <td> 0.000</td> <td> 5.26e+04</td> <td> 7.68e+04</td>\n",
       "</tr>\n",
       "<tr>\n",
       "  <th>Landsize</th>     <td>   25.5134</td> <td>    5.751</td> <td>    4.436</td> <td> 0.000</td> <td>   14.239</td> <td>   36.788</td>\n",
       "</tr>\n",
       "<tr>\n",
       "  <th>BuildingArea</th> <td> 2040.6483</td> <td>   72.997</td> <td>   27.955</td> <td> 0.000</td> <td> 1897.551</td> <td> 2183.746</td>\n",
       "</tr>\n",
       "<tr>\n",
       "  <th>Lattitude</th>    <td>-1.513e+06</td> <td> 7.11e+04</td> <td>  -21.278</td> <td> 0.000</td> <td>-1.65e+06</td> <td>-1.37e+06</td>\n",
       "</tr>\n",
       "<tr>\n",
       "  <th>Longtitude</th>   <td> 9.106e+05</td> <td> 5.43e+04</td> <td>   16.778</td> <td> 0.000</td> <td> 8.04e+05</td> <td> 1.02e+06</td>\n",
       "</tr>\n",
       "<tr>\n",
       "  <th>Year</th>         <td> 6.403e+04</td> <td> 1.23e+04</td> <td>    5.205</td> <td> 0.000</td> <td> 3.99e+04</td> <td> 8.81e+04</td>\n",
       "</tr>\n",
       "<tr>\n",
       "  <th>Month</th>        <td> 1.056e+04</td> <td> 2296.809</td> <td>    4.598</td> <td> 0.000</td> <td> 6058.028</td> <td> 1.51e+04</td>\n",
       "</tr>\n",
       "<tr>\n",
       "  <th>BuildingAge</th>  <td> 3613.8257</td> <td>  172.558</td> <td>   20.943</td> <td> 0.000</td> <td> 3275.559</td> <td> 3952.093</td>\n",
       "</tr>\n",
       "<tr>\n",
       "  <th>Type_h</th>       <td>  3.79e+05</td> <td> 1.61e+04</td> <td>   23.510</td> <td> 0.000</td> <td> 3.47e+05</td> <td> 4.11e+05</td>\n",
       "</tr>\n",
       "<tr>\n",
       "  <th>Type_t</th>       <td> 1.802e+05</td> <td>  2.1e+04</td> <td>    8.585</td> <td> 0.000</td> <td> 1.39e+05</td> <td> 2.21e+05</td>\n",
       "</tr>\n",
       "</table>\n",
       "<table class=\"simpletable\">\n",
       "<tr>\n",
       "  <th>Omnibus:</th>       <td>4949.149</td> <th>  Durbin-Watson:     </th>  <td>   1.662</td> \n",
       "</tr>\n",
       "<tr>\n",
       "  <th>Prob(Omnibus):</th>  <td> 0.000</td>  <th>  Jarque-Bera (JB):  </th> <td>406640.231</td>\n",
       "</tr>\n",
       "<tr>\n",
       "  <th>Skew:</th>           <td> 2.807</td>  <th>  Prob(JB):          </th>  <td>    0.00</td> \n",
       "</tr>\n",
       "<tr>\n",
       "  <th>Kurtosis:</th>       <td>40.545</td>  <th>  Cond. No.          </th>  <td>1.05e+07</td> \n",
       "</tr>\n",
       "</table><br/><br/>Notes:<br/>[1] Standard Errors assume that the covariance matrix of the errors is correctly specified.<br/>[2] The condition number is large, 1.05e+07. This might indicate that there are<br/>strong multicollinearity or other numerical problems."
      ],
      "text/plain": [
       "<class 'statsmodels.iolib.summary.Summary'>\n",
       "\"\"\"\n",
       "                            OLS Regression Results                            \n",
       "==============================================================================\n",
       "Dep. Variable:                  Price   R-squared:                       0.599\n",
       "Model:                            OLS   Adj. R-squared:                  0.598\n",
       "Method:                 Least Squares   F-statistic:                     839.7\n",
       "Date:                Sun, 11 Apr 2021   Prob (F-statistic):               0.00\n",
       "Time:                        17:37:50   Log-Likelihood:                -97379.\n",
       "No. Observations:                6772   AIC:                         1.948e+05\n",
       "Df Residuals:                    6759   BIC:                         1.949e+05\n",
       "Df Model:                          12                                         \n",
       "Covariance Type:            nonrobust                                         \n",
       "================================================================================\n",
       "                   coef    std err          t      P>|t|      [0.025      0.975]\n",
       "--------------------------------------------------------------------------------\n",
       "const        -3.183e+08   2.59e+07    -12.290      0.000   -3.69e+08   -2.68e+08\n",
       "Distance     -3.786e+04   1045.286    -36.216      0.000   -3.99e+04   -3.58e+04\n",
       "Bathroom      2.742e+05   9165.177     29.920      0.000    2.56e+05    2.92e+05\n",
       "Car            6.47e+04   6167.482     10.490      0.000    5.26e+04    7.68e+04\n",
       "Landsize        25.5134      5.751      4.436      0.000      14.239      36.788\n",
       "BuildingArea  2040.6483     72.997     27.955      0.000    1897.551    2183.746\n",
       "Lattitude    -1.513e+06   7.11e+04    -21.278      0.000   -1.65e+06   -1.37e+06\n",
       "Longtitude    9.106e+05   5.43e+04     16.778      0.000    8.04e+05    1.02e+06\n",
       "Year          6.403e+04   1.23e+04      5.205      0.000    3.99e+04    8.81e+04\n",
       "Month         1.056e+04   2296.809      4.598      0.000    6058.028    1.51e+04\n",
       "BuildingAge   3613.8257    172.558     20.943      0.000    3275.559    3952.093\n",
       "Type_h         3.79e+05   1.61e+04     23.510      0.000    3.47e+05    4.11e+05\n",
       "Type_t        1.802e+05    2.1e+04      8.585      0.000    1.39e+05    2.21e+05\n",
       "==============================================================================\n",
       "Omnibus:                     4949.149   Durbin-Watson:                   1.662\n",
       "Prob(Omnibus):                  0.000   Jarque-Bera (JB):           406640.231\n",
       "Skew:                           2.807   Prob(JB):                         0.00\n",
       "Kurtosis:                      40.545   Cond. No.                     1.05e+07\n",
       "==============================================================================\n",
       "\n",
       "Notes:\n",
       "[1] Standard Errors assume that the covariance matrix of the errors is correctly specified.\n",
       "[2] The condition number is large, 1.05e+07. This might indicate that there are\n",
       "strong multicollinearity or other numerical problems.\n",
       "\"\"\""
      ]
     },
     "execution_count": 48,
     "metadata": {},
     "output_type": "execute_result"
    }
   ],
   "source": [
    "#let's do linear regression again\n",
    "regressor_OLS = sm.OLS(endog=response_df, exog=sm.add_constant(new_predictor)).fit()\n",
    "regressor_OLS.summary()"
   ]
  },
  {
   "cell_type": "markdown",
   "id": "royal-scenario",
   "metadata": {},
   "source": [
    "---\n",
    "\n",
    "Model | R2 \n",
    ":---: | :---: |\n",
    "OLS (no VIF) | 0.611\n",
    "OLS (VIF) | 0.6\n",
    "OLS (high p-value removed) | 0.599\n",
    "\n",
    "\n",
    "All 3 linear regression models did not perform very well, they all have a R2 of around 0.6 which is far from good because it means the model can only explain around 60% of the variables. Also, from the high condition number, the problem with multicollinearity is severe even when VIF and removing variables with a high p-value are implemented. In this case, maybe linear regression is not the good fit for this dataset, ie. the relationship between the independent and response variable is not linear, and therefore we introduce random forest regressor. \n",
    "\n",
    "## Random forest regressor"
   ]
  },
  {
   "cell_type": "code",
   "execution_count": 49,
   "id": "touched-messenger",
   "metadata": {},
   "outputs": [],
   "source": [
    "RF_train_d, RF_test_d, RF_train_lab, RF_test_lab = train_test_split(predictors_df, response_df)"
   ]
  },
  {
   "cell_type": "code",
   "execution_count": 50,
   "id": "communist-employment",
   "metadata": {},
   "outputs": [],
   "source": [
    "#from sklearn.metrics import mean_absolute_error\n",
    "#val_predictions = rf_reg.predict(RF_test_d)\n",
    "#print(mean_absolute_error(RF_test_lab, val_predictions))"
   ]
  },
  {
   "cell_type": "code",
   "execution_count": 51,
   "id": "trained-angola",
   "metadata": {},
   "outputs": [
    {
     "name": "stdout",
     "output_type": "stream",
     "text": [
      "Model Performance\n",
      "Average Error: 172016.1375 degrees.\n",
      "Accuracy = 83.58%.\n"
     ]
    }
   ],
   "source": [
    "#random forest regressor\n",
    "from sklearn.ensemble import RandomForestRegressor\n",
    "\n",
    "#function to evaluate model performance\n",
    "def evaluate(model, test_features, test_labels):\n",
    "    predictions = model.predict(test_features)\n",
    "    errors = abs(predictions - test_labels) #this is the MAE\n",
    "    mape = 100 * np.mean(errors / test_labels)\n",
    "    accuracy = 100 - mape\n",
    "    print('Model Performance')\n",
    "    print('Average Error: {:0.4f} degrees.'.format(np.mean(errors)))\n",
    "    print('Accuracy = {:0.2f}%.'.format(accuracy))\n",
    "    \n",
    "    return accuracy\n",
    "\n",
    "#evaluate the base model first\n",
    "base_model = RandomForestRegressor(n_estimators = 10)\n",
    "base_model.fit(RF_train_d, RF_train_lab)\n",
    "base_accuracy = evaluate(base_model, RF_test_d, RF_test_lab)"
   ]
  },
  {
   "cell_type": "code",
   "execution_count": 52,
   "id": "corporate-purpose",
   "metadata": {},
   "outputs": [],
   "source": [
    "from sklearn.model_selection import GridSearchCV\n",
    "param_grid = {\n",
    "    'bootstrap': [True],\n",
    "    'max_depth': [5,10,15,20],\n",
    "    'max_features': [3,4,5,6,7],\n",
    "    'n_estimators': [100, 200, 300, 1000]\n",
    "}\n",
    "\n",
    "rf = RandomForestRegressor()\n",
    "\n",
    "# Instantiate the grid search model\n",
    "grid_search = GridSearchCV(estimator = rf, param_grid = param_grid, \n",
    "                          cv = 3, n_jobs = -1, verbose = 2)"
   ]
  },
  {
   "cell_type": "code",
   "execution_count": 53,
   "id": "aging-shannon",
   "metadata": {},
   "outputs": [],
   "source": [
    "#grid_search.fit(RF_train_d, RF_train_lab)\n",
    "#grid_search.best_params_"
   ]
  },
  {
   "cell_type": "markdown",
   "id": "concerned-landscape",
   "metadata": {},
   "source": [
    "It costs too much time for the computer to run the code above, the output from my computer: \n",
    "\n",
    "`Fitting 3 folds for each of 80 candidates, totalling 240 fits`\n",
    "\n",
    "`{'bootstrap': True, 'max_depth': 20, 'max_features': 7, 'n_estimators': 1000}`"
   ]
  },
  {
   "cell_type": "code",
   "execution_count": 54,
   "id": "proved-multimedia",
   "metadata": {
    "scrolled": true
   },
   "outputs": [
    {
     "name": "stdout",
     "output_type": "stream",
     "text": [
      "Model Performance\n",
      "Average Error: 156182.3791 degrees.\n",
      "Accuracy = 84.92%.\n"
     ]
    }
   ],
   "source": [
    "best_grid = RandomForestRegressor(max_depth=20, max_features=7, n_estimators=1000)\n",
    "best_grid.fit(RF_train_d, RF_train_lab)\n",
    "grid_accuracy = evaluate(best_grid, RF_test_d, RF_test_lab)"
   ]
  },
  {
   "cell_type": "code",
   "execution_count": 55,
   "id": "intimate-donna",
   "metadata": {},
   "outputs": [
    {
     "data": {
      "text/html": [
       "<div>\n",
       "<style scoped>\n",
       "    .dataframe tbody tr th:only-of-type {\n",
       "        vertical-align: middle;\n",
       "    }\n",
       "\n",
       "    .dataframe tbody tr th {\n",
       "        vertical-align: top;\n",
       "    }\n",
       "\n",
       "    .dataframe thead th {\n",
       "        text-align: right;\n",
       "    }\n",
       "</style>\n",
       "<table border=\"1\" class=\"dataframe\">\n",
       "  <thead>\n",
       "    <tr style=\"text-align: right;\">\n",
       "      <th></th>\n",
       "      <th>importance</th>\n",
       "    </tr>\n",
       "  </thead>\n",
       "  <tbody>\n",
       "    <tr>\n",
       "      <th>BuildingArea</th>\n",
       "      <td>0.2347</td>\n",
       "    </tr>\n",
       "    <tr>\n",
       "      <th>Lattitude</th>\n",
       "      <td>0.1158</td>\n",
       "    </tr>\n",
       "    <tr>\n",
       "      <th>Distance</th>\n",
       "      <td>0.1098</td>\n",
       "    </tr>\n",
       "    <tr>\n",
       "      <th>BuildingAge</th>\n",
       "      <td>0.1042</td>\n",
       "    </tr>\n",
       "    <tr>\n",
       "      <th>Longtitude</th>\n",
       "      <td>0.0879</td>\n",
       "    </tr>\n",
       "    <tr>\n",
       "      <th>Landsize</th>\n",
       "      <td>0.0656</td>\n",
       "    </tr>\n",
       "    <tr>\n",
       "      <th>Rooms</th>\n",
       "      <td>0.0614</td>\n",
       "    </tr>\n",
       "    <tr>\n",
       "      <th>Bathroom</th>\n",
       "      <td>0.0448</td>\n",
       "    </tr>\n",
       "    <tr>\n",
       "      <th>Bedroom</th>\n",
       "      <td>0.0447</td>\n",
       "    </tr>\n",
       "    <tr>\n",
       "      <th>Type_h</th>\n",
       "      <td>0.0424</td>\n",
       "    </tr>\n",
       "  </tbody>\n",
       "</table>\n",
       "</div>"
      ],
      "text/plain": [
       "                                           importance\n",
       "BuildingArea                                   0.2347\n",
       "Lattitude                                      0.1158\n",
       "Distance                                       0.1098\n",
       "BuildingAge                                    0.1042\n",
       "Longtitude                                     0.0879\n",
       "Landsize                                       0.0656\n",
       "Rooms                                          0.0614\n",
       "Bathroom                                       0.0448\n",
       "Bedroom                                        0.0447\n",
       "Type_h                                         0.0424"
      ]
     },
     "execution_count": 55,
     "metadata": {},
     "output_type": "execute_result"
    }
   ],
   "source": [
    "feature_importances_rfreg = pd.DataFrame(best_grid.feature_importances_,\n",
    "                                  index= predictors_df.columns.values,\n",
    "                                  columns=['importance']).sort_values('importance', ascending=False)\n",
    "\n",
    "feature_importances_rfreg.head(10)"
   ]
  },
  {
   "cell_type": "markdown",
   "id": "private-roots",
   "metadata": {},
   "source": [
    "Random forest regressor produced a result of 84.86% accuracy, it selected **building area, distance from CBD, building age and geographical location code** as the most important feature. \n",
    "\n",
    "After using `GridSearchCV` to search for optimal parameters and refined the model, its accuracy raised by 1.5% to 85%. 85% sounds like a good score, but the mean absolute error (MAE) of out-of-sample is **\\\\$165,057**, which means the price prediction has a range of $165,057 from the actual price, this makes the model unsuitable for real-world usage.\n",
    "\n",
    "Random forest outperformed linear regression, which means this dataset has far too many features that linear regression does not fit well in, but overall both approaches do not make a practical model to correctly predict the house price in Melbourne. "
   ]
  },
  {
   "cell_type": "code",
   "execution_count": 56,
   "id": "attempted-royal",
   "metadata": {},
   "outputs": [],
   "source": [
    "#this dataframe will be used for comparing later\n",
    "#feature_importances_rfreg['model'] = 'RF_Reg'\n",
    "#feature_importances_rfreg['score'] = rf_reg.score(predictors_df, response_df)\n",
    "#feature_importances_rfreg = feature_importances_rfreg.reset_index()"
   ]
  },
  {
   "cell_type": "markdown",
   "id": "posted-church",
   "metadata": {},
   "source": [
    "## Decision Tree and Random Forest (Classification for overpriced or not)"
   ]
  },
  {
   "cell_type": "markdown",
   "id": "knowing-sheffield",
   "metadata": {},
   "source": [
    "Lets' try k-means first, then decision tree and lastly random forest.\n",
    "\n",
    "We will use `GridSearchCV` to find the best parameters for the model, it produces a optimal parameter to use given the range we put in. `RandomGridSearch` was considered at first but it takes too much time to search through the parameter grid."
   ]
  },
  {
   "cell_type": "code",
   "execution_count": 57,
   "id": "single-sherman",
   "metadata": {},
   "outputs": [],
   "source": [
    "#try kmeans\n",
    "from sklearn.neighbors import KNeighborsClassifier"
   ]
  },
  {
   "cell_type": "code",
   "execution_count": 58,
   "id": "laden-easter",
   "metadata": {},
   "outputs": [
    {
     "data": {
      "text/plain": [
       "GridSearchCV(estimator=KNeighborsClassifier(),\n",
       "             param_grid={'n_neighbors': range(1, 70)})"
      ]
     },
     "execution_count": 58,
     "metadata": {},
     "output_type": "execute_result"
    }
   ],
   "source": [
    "params = {\"n_neighbors\" : range(1, 70)}\n",
    "gridsearch = GridSearchCV(KNeighborsClassifier(), params)\n",
    "gridsearch.fit(train_d, train_lab)"
   ]
  },
  {
   "cell_type": "code",
   "execution_count": 59,
   "id": "nutritional-worry",
   "metadata": {},
   "outputs": [
    {
     "data": {
      "text/plain": [
       "{'n_neighbors': 4}"
      ]
     },
     "execution_count": 59,
     "metadata": {},
     "output_type": "execute_result"
    }
   ],
   "source": [
    "gridsearch.best_params_"
   ]
  },
  {
   "cell_type": "markdown",
   "id": "fantastic-responsibility",
   "metadata": {},
   "source": [
    "On my computer, the optimal neighbor count is `{'n_neighbors': 5}`"
   ]
  },
  {
   "cell_type": "code",
   "execution_count": 60,
   "id": "divine-thanks",
   "metadata": {},
   "outputs": [
    {
     "data": {
      "text/plain": [
       "KNeighborsClassifier()"
      ]
     },
     "execution_count": 60,
     "metadata": {},
     "output_type": "execute_result"
    }
   ],
   "source": [
    "knn = KNeighborsClassifier(n_neighbors=5)  #uses the parameters found by GridSearch\n",
    "knn.fit(train_d, train_lab)"
   ]
  },
  {
   "cell_type": "code",
   "execution_count": 61,
   "id": "obvious-madness",
   "metadata": {},
   "outputs": [
    {
     "data": {
      "text/plain": [
       "0.8452451269935026"
      ]
     },
     "execution_count": 61,
     "metadata": {},
     "output_type": "execute_result"
    }
   ],
   "source": [
    "knn.score(test_d, test_lab)"
   ]
  },
  {
   "cell_type": "code",
   "execution_count": 62,
   "id": "pharmaceutical-reunion",
   "metadata": {},
   "outputs": [],
   "source": [
    "predictions = knn.predict(test_d)"
   ]
  },
  {
   "cell_type": "code",
   "execution_count": 63,
   "id": "surgical-directive",
   "metadata": {},
   "outputs": [
    {
     "name": "stdout",
     "output_type": "stream",
     "text": [
      "Classifcation accuracy: \n",
      "0.8452451269935026\n"
     ]
    }
   ],
   "source": [
    "from sklearn import metrics\n",
    "print(\"Classifcation accuracy: \")\n",
    "print(metrics.accuracy_score(test_lab, predictions))"
   ]
  },
  {
   "cell_type": "code",
   "execution_count": 64,
   "id": "pleased-management",
   "metadata": {
    "scrolled": true
   },
   "outputs": [
    {
     "name": "stdout",
     "output_type": "stream",
     "text": [
      "Classification results: \n",
      "              precision    recall  f1-score   support\n",
      "\n",
      "           0       0.88      0.92      0.90      1285\n",
      "           1       0.70      0.62      0.66       408\n",
      "\n",
      "    accuracy                           0.85      1693\n",
      "   macro avg       0.79      0.77      0.78      1693\n",
      "weighted avg       0.84      0.85      0.84      1693\n",
      "\n"
     ]
    }
   ],
   "source": [
    "print(\"Classification results: \")\n",
    "print(metrics.classification_report(test_lab, predictions))"
   ]
  },
  {
   "cell_type": "markdown",
   "id": "organizational-railway",
   "metadata": {},
   "source": [
    "K-means neighbor classifier created a model with 85% accuracy,which is pretty nice, but the recall value of 0.6 is unacceptable and it can be improved. The recall score means only 60% of the houses that are actually labelled pricey are correctly recognized by the classifier, and only 77% of the really expensive houses are classified as expensive. There are lots that can be improved for this model but we can try out other approaches first."
   ]
  },
  {
   "cell_type": "markdown",
   "id": "large-division",
   "metadata": {},
   "source": [
    "### Decision Tree"
   ]
  },
  {
   "cell_type": "code",
   "execution_count": 65,
   "id": "significant-niger",
   "metadata": {},
   "outputs": [
    {
     "data": {
      "text/plain": [
       "DecisionTreeClassifier(random_state=40)"
      ]
     },
     "execution_count": 65,
     "metadata": {},
     "output_type": "execute_result"
    }
   ],
   "source": [
    "from sklearn.tree import DecisionTreeClassifier\n",
    "dtree = DecisionTreeClassifier(random_state=40)\n",
    "dtree.fit(train_d, train_lab)\n"
   ]
  },
  {
   "cell_type": "code",
   "execution_count": 66,
   "id": "thirty-exemption",
   "metadata": {
    "scrolled": true
   },
   "outputs": [
    {
     "data": {
      "text/plain": [
       "0.8647371529828707"
      ]
     },
     "execution_count": 66,
     "metadata": {},
     "output_type": "execute_result"
    }
   ],
   "source": [
    "dtree.score(test_d, test_lab)"
   ]
  },
  {
   "cell_type": "code",
   "execution_count": 67,
   "id": "flexible-discrimination",
   "metadata": {},
   "outputs": [],
   "source": [
    "predictions_dtree = dtree.predict(test_d)"
   ]
  },
  {
   "cell_type": "code",
   "execution_count": 68,
   "id": "creative-disaster",
   "metadata": {
    "scrolled": false
   },
   "outputs": [
    {
     "name": "stdout",
     "output_type": "stream",
     "text": [
      "              precision    recall  f1-score   support\n",
      "\n",
      "           0       0.92      0.90      0.91      1285\n",
      "           1       0.70      0.76      0.73       408\n",
      "\n",
      "    accuracy                           0.86      1693\n",
      "   macro avg       0.81      0.83      0.82      1693\n",
      "weighted avg       0.87      0.86      0.87      1693\n",
      "\n"
     ]
    }
   ],
   "source": [
    "print (metrics.classification_report(test_lab, predictions_dtree))"
   ]
  },
  {
   "cell_type": "code",
   "execution_count": 69,
   "id": "divided-cotton",
   "metadata": {},
   "outputs": [],
   "source": [
    "#plt.figure(figsize=(40,20))\n",
    "#from sklearn import tree\n",
    "\n",
    "#_ = tree.plot_tree(dtree, feature_names = vec.feature_names_, fontsize=10)\n",
    "\n",
    "#plt.show()\n",
    "#this is a nightmare"
   ]
  },
  {
   "cell_type": "code",
   "execution_count": 70,
   "id": "local-effectiveness",
   "metadata": {},
   "outputs": [
    {
     "data": {
      "text/html": [
       "<div>\n",
       "<style scoped>\n",
       "    .dataframe tbody tr th:only-of-type {\n",
       "        vertical-align: middle;\n",
       "    }\n",
       "\n",
       "    .dataframe tbody tr th {\n",
       "        vertical-align: top;\n",
       "    }\n",
       "\n",
       "    .dataframe thead th {\n",
       "        text-align: right;\n",
       "    }\n",
       "</style>\n",
       "<table border=\"1\" class=\"dataframe\">\n",
       "  <thead>\n",
       "    <tr style=\"text-align: right;\">\n",
       "      <th></th>\n",
       "      <th>importance</th>\n",
       "    </tr>\n",
       "  </thead>\n",
       "  <tbody>\n",
       "    <tr>\n",
       "      <th>BuildingArea</th>\n",
       "      <td>0.2827</td>\n",
       "    </tr>\n",
       "    <tr>\n",
       "      <th>Distance</th>\n",
       "      <td>0.1265</td>\n",
       "    </tr>\n",
       "    <tr>\n",
       "      <th>Lattitude</th>\n",
       "      <td>0.1206</td>\n",
       "    </tr>\n",
       "    <tr>\n",
       "      <th>Longtitude</th>\n",
       "      <td>0.1199</td>\n",
       "    </tr>\n",
       "    <tr>\n",
       "      <th>BuildingAge</th>\n",
       "      <td>0.1028</td>\n",
       "    </tr>\n",
       "    <tr>\n",
       "      <th>Landsize</th>\n",
       "      <td>0.0573</td>\n",
       "    </tr>\n",
       "    <tr>\n",
       "      <th>Propertycount</th>\n",
       "      <td>0.0231</td>\n",
       "    </tr>\n",
       "    <tr>\n",
       "      <th>Day</th>\n",
       "      <td>0.0185</td>\n",
       "    </tr>\n",
       "    <tr>\n",
       "      <th>Bedroom</th>\n",
       "      <td>0.0141</td>\n",
       "    </tr>\n",
       "    <tr>\n",
       "      <th>Type=h</th>\n",
       "      <td>0.0108</td>\n",
       "    </tr>\n",
       "  </tbody>\n",
       "</table>\n",
       "</div>"
      ],
      "text/plain": [
       "                                            importance\n",
       "BuildingArea                                    0.2827\n",
       "Distance                                        0.1265\n",
       "Lattitude                                       0.1206\n",
       "Longtitude                                      0.1199\n",
       "BuildingAge                                     0.1028\n",
       "Landsize                                        0.0573\n",
       "Propertycount                                   0.0231\n",
       "Day                                             0.0185\n",
       "Bedroom                                         0.0141\n",
       "Type=h                                          0.0108"
      ]
     },
     "execution_count": 70,
     "metadata": {},
     "output_type": "execute_result"
    }
   ],
   "source": [
    "feature_importances_dtree = pd.DataFrame(dtree.feature_importances_,\n",
    "                                  index= vec.feature_names_,\n",
    "                                  columns=['importance']).sort_values('importance', ascending=False)\n",
    "\n",
    "feature_importances_dtree.head(10)"
   ]
  },
  {
   "cell_type": "markdown",
   "id": "south-journal",
   "metadata": {},
   "source": [
    "Decision tree returned a model with a accuracy score of 0.86, and it shows **Building area, location, distance from CBD and building age** as important factors, these 4 features are located in the top nodes of the decision tree. The recall score difference between decision tree and KNN is 0.12, which is a big improvement, but we can continue to search for a different model."
   ]
  },
  {
   "cell_type": "markdown",
   "id": "crazy-twins",
   "metadata": {},
   "source": [
    "### Now try random forest"
   ]
  },
  {
   "cell_type": "code",
   "execution_count": 71,
   "id": "monthly-consortium",
   "metadata": {},
   "outputs": [],
   "source": [
    "#for selecting parameters\n",
    "from sklearn.ensemble import RandomForestClassifier\n",
    "from sklearn import model_selection\n",
    "#for cross validation\n",
    "from sklearn.model_selection import cross_val_score\n",
    "from sklearn.model_selection import KFold"
   ]
  },
  {
   "cell_type": "code",
   "execution_count": 72,
   "id": "excellent-somewhere",
   "metadata": {},
   "outputs": [
    {
     "data": {
      "text/plain": [
       "GridSearchCV(estimator=RandomForestClassifier(random_state=40),\n",
       "             param_grid={'n_estimators': [50, 100, 200, 300, 400]})"
      ]
     },
     "execution_count": 72,
     "metadata": {},
     "output_type": "execute_result"
    }
   ],
   "source": [
    "# values of n_estimators\n",
    "parameters = {'n_estimators':[50, 100, 200, 300, 400]}\n",
    "rf = RandomForestClassifier(random_state=40)\n",
    "\n",
    "clf = model_selection.GridSearchCV(rf, parameters)\n",
    "\n",
    "clf.fit(train_d, train_lab)"
   ]
  },
  {
   "cell_type": "code",
   "execution_count": 73,
   "id": "selective-religious",
   "metadata": {
    "scrolled": true
   },
   "outputs": [
    {
     "name": "stdout",
     "output_type": "stream",
     "text": [
      "The best parameter value is: \n",
      "{'n_estimators': 300}\n",
      "The best score is: \n",
      "0.9141555796904697\n"
     ]
    }
   ],
   "source": [
    "# we can query the best parameter value and its accuracy score\n",
    "print (\"The best parameter value is: \")\n",
    "print (clf.best_params_)\n",
    "print (\"The best score is: \")\n",
    "print (clf.best_score_)"
   ]
  },
  {
   "cell_type": "code",
   "execution_count": 74,
   "id": "ordinary-probability",
   "metadata": {},
   "outputs": [
    {
     "data": {
      "text/plain": [
       "GridSearchCV(estimator=RandomForestClassifier(random_state=40),\n",
       "             param_grid={'max_depth': [5, 10, 15, 20]})"
      ]
     },
     "execution_count": 74,
     "metadata": {},
     "output_type": "execute_result"
    }
   ],
   "source": [
    "#now try finding the optimal depth\n",
    "parameters = {'max_depth':[5,10,15,20]}\n",
    "rf = RandomForestClassifier(random_state=40)\n",
    "\n",
    "clf = model_selection.GridSearchCV(rf, parameters)\n",
    "\n",
    "clf.fit(train_d, train_lab)"
   ]
  },
  {
   "cell_type": "code",
   "execution_count": 75,
   "id": "geographic-growing",
   "metadata": {},
   "outputs": [
    {
     "name": "stdout",
     "output_type": "stream",
     "text": [
      "The best parameter value is: \n",
      "{'max_depth': 20}\n",
      "The best score is: \n",
      "0.9094296187114541\n"
     ]
    }
   ],
   "source": [
    "# we can query the best parameter value and its accuracy score\n",
    "print (\"The best parameter value is: \")\n",
    "print (clf.best_params_)\n",
    "print (\"The best score is: \")\n",
    "print (clf.best_score_)"
   ]
  },
  {
   "cell_type": "markdown",
   "id": "broad-prime",
   "metadata": {},
   "source": [
    "Now we have the optimal hyperparameters, on my computer, it shows n_estimator of 200 and max_depth of 20, we'll conduct a 5-fold cross validation to evaluate the model."
   ]
  },
  {
   "cell_type": "code",
   "execution_count": 76,
   "id": "indirect-obligation",
   "metadata": {},
   "outputs": [
    {
     "data": {
      "text/plain": [
       "RandomForestClassifier(max_depth=20, n_estimators=200, random_state=40)"
      ]
     },
     "execution_count": 76,
     "metadata": {},
     "output_type": "execute_result"
    }
   ],
   "source": [
    "forest1=RandomForestClassifier(n_estimators=200, max_depth=20, random_state=40)\n",
    "forest1.fit(train_d,train_lab)"
   ]
  },
  {
   "cell_type": "code",
   "execution_count": 77,
   "id": "analyzed-adjustment",
   "metadata": {},
   "outputs": [
    {
     "data": {
      "text/plain": [
       "0.9078558771411696"
      ]
     },
     "execution_count": 77,
     "metadata": {},
     "output_type": "execute_result"
    }
   ],
   "source": [
    "forest1.score(test_d, test_lab)"
   ]
  },
  {
   "cell_type": "code",
   "execution_count": 78,
   "id": "analyzed-occasions",
   "metadata": {},
   "outputs": [],
   "source": [
    "predictions_rf = forest1.predict(test_d)"
   ]
  },
  {
   "cell_type": "code",
   "execution_count": 79,
   "id": "grand-socket",
   "metadata": {},
   "outputs": [
    {
     "name": "stdout",
     "output_type": "stream",
     "text": [
      "              precision    recall  f1-score   support\n",
      "\n",
      "           0       0.92      0.96      0.94      1285\n",
      "           1       0.86      0.74      0.80       408\n",
      "\n",
      "    accuracy                           0.91      1693\n",
      "   macro avg       0.89      0.85      0.87      1693\n",
      "weighted avg       0.91      0.91      0.91      1693\n",
      "\n"
     ]
    }
   ],
   "source": [
    "print (metrics.classification_report(test_lab, predictions_rf))"
   ]
  },
  {
   "cell_type": "code",
   "execution_count": 80,
   "id": "continent-package",
   "metadata": {},
   "outputs": [
    {
     "name": "stdout",
     "output_type": "stream",
     "text": [
      "[0.93799213 0.90255906 0.90452756 0.90551181 0.90147783]\n",
      "Accuracy: 0.91 (+/- 0.01)\n"
     ]
    }
   ],
   "source": [
    "# number of fold as 5\n",
    "cv_fold=5\n",
    "\n",
    "clf = RandomForestClassifier(n_estimators=200, max_depth=20, random_state=40)\n",
    "\n",
    "# call the cross_val_score function\n",
    "scores = cross_val_score(clf, train_d, train_lab, cv=cv_fold)\n",
    "# note that this is an array\n",
    "print(scores) \n",
    "print(\"Accuracy: %0.2f (+/- %0.2f)\" % (scores.mean(), scores.std()))"
   ]
  },
  {
   "cell_type": "code",
   "execution_count": 81,
   "id": "criminal-prayer",
   "metadata": {},
   "outputs": [
    {
     "data": {
      "text/html": [
       "<div>\n",
       "<style scoped>\n",
       "    .dataframe tbody tr th:only-of-type {\n",
       "        vertical-align: middle;\n",
       "    }\n",
       "\n",
       "    .dataframe tbody tr th {\n",
       "        vertical-align: top;\n",
       "    }\n",
       "\n",
       "    .dataframe thead th {\n",
       "        text-align: right;\n",
       "    }\n",
       "</style>\n",
       "<table border=\"1\" class=\"dataframe\">\n",
       "  <thead>\n",
       "    <tr style=\"text-align: right;\">\n",
       "      <th></th>\n",
       "      <th>importance</th>\n",
       "    </tr>\n",
       "  </thead>\n",
       "  <tbody>\n",
       "    <tr>\n",
       "      <th>BuildingArea</th>\n",
       "      <td>0.1289</td>\n",
       "    </tr>\n",
       "    <tr>\n",
       "      <th>BuildingAge</th>\n",
       "      <td>0.0918</td>\n",
       "    </tr>\n",
       "    <tr>\n",
       "      <th>Lattitude</th>\n",
       "      <td>0.0909</td>\n",
       "    </tr>\n",
       "    <tr>\n",
       "      <th>Longtitude</th>\n",
       "      <td>0.0794</td>\n",
       "    </tr>\n",
       "    <tr>\n",
       "      <th>Distance</th>\n",
       "      <td>0.0684</td>\n",
       "    </tr>\n",
       "    <tr>\n",
       "      <th>Landsize</th>\n",
       "      <td>0.0539</td>\n",
       "    </tr>\n",
       "    <tr>\n",
       "      <th>Rooms</th>\n",
       "      <td>0.0533</td>\n",
       "    </tr>\n",
       "    <tr>\n",
       "      <th>Bedroom</th>\n",
       "      <td>0.0517</td>\n",
       "    </tr>\n",
       "    <tr>\n",
       "      <th>Bathroom</th>\n",
       "      <td>0.0484</td>\n",
       "    </tr>\n",
       "    <tr>\n",
       "      <th>Type=h</th>\n",
       "      <td>0.0326</td>\n",
       "    </tr>\n",
       "  </tbody>\n",
       "</table>\n",
       "</div>"
      ],
      "text/plain": [
       "                                           importance\n",
       "BuildingArea                                   0.1289\n",
       "BuildingAge                                    0.0918\n",
       "Lattitude                                      0.0909\n",
       "Longtitude                                     0.0794\n",
       "Distance                                       0.0684\n",
       "Landsize                                       0.0539\n",
       "Rooms                                          0.0533\n",
       "Bedroom                                        0.0517\n",
       "Bathroom                                       0.0484\n",
       "Type=h                                         0.0326"
      ]
     },
     "execution_count": 81,
     "metadata": {},
     "output_type": "execute_result"
    }
   ],
   "source": [
    "feature_importances = pd.DataFrame(forest1.feature_importances_,\n",
    "                                  index= vec.feature_names_,\n",
    "                                  columns=['importance']).sort_values('importance', ascending=False)\n",
    "\n",
    "feature_importances.head(10)"
   ]
  },
  {
   "cell_type": "markdown",
   "id": "portable-possession",
   "metadata": {},
   "source": [
    "The results of the random forest is very good, an average of 0.91 accuracy after cross validation, it outperformed the other 2 models. From the classification report, 91% of the houses are correctly classified, 73% of overpriced housings are correctly recognized (recall score), and 92% of the houses classified as overpriced are actually priced above 75th percentile (precision score).\n",
    "\n",
    "The important features selected by this model and decision tree are very similar, they both ranked external attributes of the house above the features of the house itself. \n",
    "\n",
    "However, no matter how good the accuracy scores are, the recall scores are a bit low ie. model cannot correctly recgonize the expensive houses, therefore making the models impractical. Of KNN, decision tree and random forest, random forest performed the best, so we decide to fine tune this model.\n",
    "\n",
    "The recall score can be raised and it can be done by upsampling the dataset itself. We can see from above the ratio of expensive to normal priced houses is very imbalanced (5072:1700), leading to the model no having enough data to train its recall score to an acceptable level. By upsampling, we can use the `resample` utility and increase the number of expensive houses so that the dataset contains equal number of expensive and non expensive properties for the model to train with. After that we go through grid search and produce a new model."
   ]
  },
  {
   "cell_type": "markdown",
   "id": "multiple-camel",
   "metadata": {},
   "source": [
    "## Try with upsampled data"
   ]
  },
  {
   "cell_type": "code",
   "execution_count": 82,
   "id": "imperial-reporter",
   "metadata": {},
   "outputs": [],
   "source": [
    "#try upsampling\n",
    "from sklearn.utils import resample\n",
    "df_upsample = b[b['expensive'] == True]"
   ]
  },
  {
   "cell_type": "code",
   "execution_count": 83,
   "id": "relevant-trinidad",
   "metadata": {},
   "outputs": [
    {
     "data": {
      "text/plain": [
       "False    5072\n",
       "True     5072\n",
       "Name: expensive, dtype: int64"
      ]
     },
     "execution_count": 83,
     "metadata": {},
     "output_type": "execute_result"
    }
   ],
   "source": [
    "df_upsampled = resample(df_upsample,\n",
    "                       replace = True,\n",
    "                       n_samples = 3372, #50/50 expensive house count\n",
    "                       random_state = 144)\n",
    "\n",
    "df_expensive = pd.concat([b, df_upsampled])\n",
    "\n",
    "df_expensive.expensive.value_counts()"
   ]
  },
  {
   "cell_type": "markdown",
   "id": "dirty-henry",
   "metadata": {},
   "source": [
    "## Split using the upsampled set"
   ]
  },
  {
   "cell_type": "code",
   "execution_count": 84,
   "id": "adequate-anime",
   "metadata": {},
   "outputs": [],
   "source": [
    "le = LabelEncoder()\n",
    "le.fit([True, False])\n",
    "labels_fea_up = le.transform(df_expensive['expensive'])"
   ]
  },
  {
   "cell_type": "code",
   "execution_count": 85,
   "id": "sized-ministry",
   "metadata": {},
   "outputs": [
    {
     "data": {
      "text/plain": [
       "0    5072\n",
       "1    5072\n",
       "dtype: int64"
      ]
     },
     "execution_count": 85,
     "metadata": {},
     "output_type": "execute_result"
    }
   ],
   "source": [
    "pd.Series(labels_fea_up).value_counts()"
   ]
  },
  {
   "cell_type": "code",
   "execution_count": 86,
   "id": "canadian-antarctica",
   "metadata": {},
   "outputs": [],
   "source": [
    "A_up = df_expensive.drop(['Price','expensive'],axis = 1)\n",
    "y = filtered['Price']"
   ]
  },
  {
   "cell_type": "code",
   "execution_count": 87,
   "id": "active-allah",
   "metadata": {},
   "outputs": [
    {
     "name": "stdout",
     "output_type": "stream",
     "text": [
      "{'Suburb': 'Abbotsford', 'Rooms': 3, 'Type': 'h', 'Method': 'SP', 'Distance': 2.5, 'Bedroom': 3.0, 'Bathroom': 2.0, 'Car': 0.0, 'Landsize': 134.0, 'BuildingArea': 150.0, 'Propertycount': 4019.0, 'Lattitude': -37.8093, 'Longtitude': 144.9944, 'Year': 2017, 'Month': 3, 'Day': 4, 'BuildingAge': 117.0}\n"
     ]
    }
   ],
   "source": [
    "A_dict_up = A_up.to_dict('records')\n",
    "print(A_dict_up[1])"
   ]
  },
  {
   "cell_type": "code",
   "execution_count": 88,
   "id": "blind-illinois",
   "metadata": {
    "scrolled": true
   },
   "outputs": [
    {
     "data": {
      "text/plain": [
       "(10144, 322)"
      ]
     },
     "execution_count": 88,
     "metadata": {},
     "output_type": "execute_result"
    }
   ],
   "source": [
    "vec = DictVectorizer()  # create the DictVectorizer object\n",
    "A_vec_array_up = vec.fit_transform(A_dict_up).toarray()\n",
    "A_vec_array_up.shape"
   ]
  },
  {
   "cell_type": "code",
   "execution_count": 89,
   "id": "framed-majority",
   "metadata": {},
   "outputs": [],
   "source": [
    "train_up_d, test_up_d, train_up_lab, test_up_lab = train_test_split(A_vec_array_up, labels_fea_up)"
   ]
  },
  {
   "cell_type": "code",
   "execution_count": 90,
   "id": "whole-vulnerability",
   "metadata": {},
   "outputs": [
    {
     "name": "stdout",
     "output_type": "stream",
     "text": [
      "(7608, 322)\n",
      "(2536, 322)\n"
     ]
    }
   ],
   "source": [
    "print(train_up_d.shape)\n",
    "print(test_up_d.shape)"
   ]
  },
  {
   "cell_type": "code",
   "execution_count": 91,
   "id": "premium-employment",
   "metadata": {
    "scrolled": false
   },
   "outputs": [
    {
     "data": {
      "text/plain": [
       "(7608, 2536, 7608, 2536)"
      ]
     },
     "execution_count": 91,
     "metadata": {},
     "output_type": "execute_result"
    }
   ],
   "source": [
    "len(train_up_d),len(test_up_d),len(train_up_lab),len(test_up_lab)"
   ]
  },
  {
   "cell_type": "markdown",
   "id": "oriented-break",
   "metadata": {},
   "source": [
    "We can start creating the forest again"
   ]
  },
  {
   "cell_type": "code",
   "execution_count": 92,
   "id": "swiss-therapy",
   "metadata": {},
   "outputs": [
    {
     "data": {
      "text/plain": [
       "GridSearchCV(estimator=RandomForestClassifier(random_state=40),\n",
       "             param_grid={'n_estimators': [50, 100, 200, 300, 400]})"
      ]
     },
     "execution_count": 92,
     "metadata": {},
     "output_type": "execute_result"
    }
   ],
   "source": [
    "\n",
    "# values of n_estimators\n",
    "parameters = {'n_estimators':[50, 100, 200, 300, 400]}\n",
    "rf = RandomForestClassifier(random_state=40)\n",
    "\n",
    "clf1 = model_selection.GridSearchCV(rf, parameters)\n",
    "\n",
    "clf1.fit(train_up_d, train_up_lab)"
   ]
  },
  {
   "cell_type": "code",
   "execution_count": 93,
   "id": "frank-victim",
   "metadata": {
    "scrolled": true
   },
   "outputs": [
    {
     "name": "stdout",
     "output_type": "stream",
     "text": [
      "The best parameter value is: \n",
      "{'n_estimators': 200}\n",
      "The best score is: \n",
      "0.9508410937198969\n"
     ]
    }
   ],
   "source": [
    "# we can query the best parameter value and its accuracy score\n",
    "print (\"The best parameter value is: \")\n",
    "print (clf1.best_params_)\n",
    "print (\"The best score is: \")\n",
    "print (clf1.best_score_)"
   ]
  },
  {
   "cell_type": "code",
   "execution_count": 94,
   "id": "opposed-rehabilitation",
   "metadata": {},
   "outputs": [
    {
     "data": {
      "text/plain": [
       "GridSearchCV(estimator=RandomForestClassifier(random_state=40),\n",
       "             param_grid={'max_depth': [5, 10, 15, 20]})"
      ]
     },
     "execution_count": 94,
     "metadata": {},
     "output_type": "execute_result"
    }
   ],
   "source": [
    "#now try finding the optimal depth\n",
    "parameters = {'max_depth':[5,10,15,20]}\n",
    "rf = RandomForestClassifier(random_state=40)\n",
    "\n",
    "clf1 = model_selection.GridSearchCV(rf, parameters)\n",
    "\n",
    "clf1.fit(train_up_d, train_up_lab)"
   ]
  },
  {
   "cell_type": "code",
   "execution_count": 95,
   "id": "complicated-bracket",
   "metadata": {},
   "outputs": [
    {
     "name": "stdout",
     "output_type": "stream",
     "text": [
      "The best parameter value is: \n",
      "{'max_depth': 20}\n",
      "The best score is: \n",
      "0.9424279966582605\n"
     ]
    }
   ],
   "source": [
    "# we can query the best parameter value and its accuracy score\n",
    "print (\"The best parameter value is: \")\n",
    "print (clf1.best_params_)\n",
    "print (\"The best score is: \")\n",
    "print (clf1.best_score_)"
   ]
  },
  {
   "cell_type": "markdown",
   "id": "improving-calgary",
   "metadata": {},
   "source": [
    "Now we have the optimal hyperparameters, on my computer, it shows `n_estimator` of 50 and `max_depth` of 20, we'll conduct a 5-fold cross validation to evaluate the model."
   ]
  },
  {
   "cell_type": "code",
   "execution_count": 96,
   "id": "beneficial-investigator",
   "metadata": {},
   "outputs": [
    {
     "data": {
      "text/plain": [
       "RandomForestClassifier(max_depth=20, n_estimators=50, random_state=40)"
      ]
     },
     "execution_count": 96,
     "metadata": {},
     "output_type": "execute_result"
    }
   ],
   "source": [
    "forest2=RandomForestClassifier(n_estimators=50, max_depth=20, random_state=40)\n",
    "forest2.fit(train_up_d,train_up_lab)"
   ]
  },
  {
   "cell_type": "code",
   "execution_count": 97,
   "id": "perfect-toyota",
   "metadata": {},
   "outputs": [
    {
     "data": {
      "text/plain": [
       "0.9507097791798107"
      ]
     },
     "execution_count": 97,
     "metadata": {},
     "output_type": "execute_result"
    }
   ],
   "source": [
    "forest2.score(test_up_d, test_up_lab)"
   ]
  },
  {
   "cell_type": "code",
   "execution_count": 98,
   "id": "outside-weekend",
   "metadata": {},
   "outputs": [],
   "source": [
    "predictions_rf2 = forest2.predict(test_up_d)"
   ]
  },
  {
   "cell_type": "code",
   "execution_count": 99,
   "id": "elder-algorithm",
   "metadata": {},
   "outputs": [
    {
     "name": "stdout",
     "output_type": "stream",
     "text": [
      "              precision    recall  f1-score   support\n",
      "\n",
      "           0       0.99      0.92      0.95      1297\n",
      "           1       0.92      0.99      0.95      1239\n",
      "\n",
      "    accuracy                           0.95      2536\n",
      "   macro avg       0.95      0.95      0.95      2536\n",
      "weighted avg       0.95      0.95      0.95      2536\n",
      "\n"
     ]
    }
   ],
   "source": [
    "print (metrics.classification_report(test_up_lab, predictions_rf2))"
   ]
  },
  {
   "cell_type": "code",
   "execution_count": 100,
   "id": "fantastic-welsh",
   "metadata": {},
   "outputs": [
    {
     "name": "stdout",
     "output_type": "stream",
     "text": [
      "[0.94152431 0.93495401 0.95335085 0.93885602 0.94280079]\n",
      "Accuracy: 0.94 (+/- 0.01)\n"
     ]
    }
   ],
   "source": [
    "# number of fold as 5\n",
    "cv_fold=5\n",
    "\n",
    "clf = RandomForestClassifier(n_estimators=50, max_depth=20, random_state=40)\n",
    "\n",
    "# call the cross_val_score function\n",
    "scores = cross_val_score(clf, train_up_d, train_up_lab, cv=cv_fold)\n",
    "# note that this is an array\n",
    "print(scores) \n",
    "print(\"Accuracy: %0.2f (+/- %0.2f)\" % (scores.mean(), scores.std()))"
   ]
  },
  {
   "cell_type": "code",
   "execution_count": 101,
   "id": "arranged-narrow",
   "metadata": {},
   "outputs": [
    {
     "data": {
      "text/html": [
       "<div>\n",
       "<style scoped>\n",
       "    .dataframe tbody tr th:only-of-type {\n",
       "        vertical-align: middle;\n",
       "    }\n",
       "\n",
       "    .dataframe tbody tr th {\n",
       "        vertical-align: top;\n",
       "    }\n",
       "\n",
       "    .dataframe thead th {\n",
       "        text-align: right;\n",
       "    }\n",
       "</style>\n",
       "<table border=\"1\" class=\"dataframe\">\n",
       "  <thead>\n",
       "    <tr style=\"text-align: right;\">\n",
       "      <th></th>\n",
       "      <th>importance</th>\n",
       "    </tr>\n",
       "  </thead>\n",
       "  <tbody>\n",
       "    <tr>\n",
       "      <th>BuildingArea</th>\n",
       "      <td>0.1387</td>\n",
       "    </tr>\n",
       "    <tr>\n",
       "      <th>Lattitude</th>\n",
       "      <td>0.1073</td>\n",
       "    </tr>\n",
       "    <tr>\n",
       "      <th>BuildingAge</th>\n",
       "      <td>0.0865</td>\n",
       "    </tr>\n",
       "    <tr>\n",
       "      <th>Bedroom</th>\n",
       "      <td>0.0719</td>\n",
       "    </tr>\n",
       "    <tr>\n",
       "      <th>Longtitude</th>\n",
       "      <td>0.0709</td>\n",
       "    </tr>\n",
       "    <tr>\n",
       "      <th>Distance</th>\n",
       "      <td>0.0684</td>\n",
       "    </tr>\n",
       "    <tr>\n",
       "      <th>Landsize</th>\n",
       "      <td>0.0607</td>\n",
       "    </tr>\n",
       "    <tr>\n",
       "      <th>Bathroom</th>\n",
       "      <td>0.0463</td>\n",
       "    </tr>\n",
       "    <tr>\n",
       "      <th>Type=h</th>\n",
       "      <td>0.0396</td>\n",
       "    </tr>\n",
       "    <tr>\n",
       "      <th>Rooms</th>\n",
       "      <td>0.0387</td>\n",
       "    </tr>\n",
       "  </tbody>\n",
       "</table>\n",
       "</div>"
      ],
      "text/plain": [
       "                                           importance\n",
       "BuildingArea                                   0.1387\n",
       "Lattitude                                      0.1073\n",
       "BuildingAge                                    0.0865\n",
       "Bedroom                                        0.0719\n",
       "Longtitude                                     0.0709\n",
       "Distance                                       0.0684\n",
       "Landsize                                       0.0607\n",
       "Bathroom                                       0.0463\n",
       "Type=h                                         0.0396\n",
       "Rooms                                          0.0387"
      ]
     },
     "execution_count": 101,
     "metadata": {},
     "output_type": "execute_result"
    }
   ],
   "source": [
    "feature_importances = pd.DataFrame(forest2.feature_importances_,\n",
    "                                  index= vec.feature_names_,\n",
    "                                  columns=['importance']).sort_values('importance', ascending=False)\n",
    "\n",
    "feature_importances.head(10)"
   ]
  },
  {
   "cell_type": "markdown",
   "id": "simple-parcel",
   "metadata": {},
   "source": [
    "We can compare the top features selected in the 3 models: Decision Tree, Random Forest Classifier and Random Forest Regressor\n",
    "\n",
    "Model | Accuracy | Recall (1)\n",
    ":---: | :---: | :---: \n",
    "K-means | 0.85 | 0.6\n",
    "Decision Tree | 0.86 | 0.72\n",
    "Random Forest | 0.91 | 0.73\n",
    "Random Forest with upsampled data | 0.95 | 0.98"
   ]
  },
  {
   "cell_type": "code",
   "execution_count": 102,
   "id": "hearing-omaha",
   "metadata": {},
   "outputs": [
    {
     "name": "stdout",
     "output_type": "stream",
     "text": [
      "Runtime:  173.5492458343506  seconds\n"
     ]
    }
   ],
   "source": [
    "#runtime calculation\n",
    "end_time = time.time()\n",
    "rtime = end_time - start_time\n",
    "print(\"Runtime: \", rtime,  \" seconds\")"
   ]
  },
  {
   "cell_type": "markdown",
   "id": "latter-regression",
   "metadata": {},
   "source": [
    "# Discussion\n",
    "## Regression\n",
    "\n",
    "Linear regression models did not produce a very reliable results, where the random forest regressor produced a model with 84% accuracy, which sounds more reliable than linear regression, but the mean-absolute error of around $160k makes predicting the house price very impractical.\n",
    "\n",
    "The small sample size could be a limitation to the model because there is not enough data to train the model to a level where it can predict with a higher accuracy.\n",
    "\n",
    "Another thing to point out is that in the process of selecting variables with low multicollinearity using VIF actually removed the attributes (number of rooms and bedrooms) that my human brain thought as highly important to affecting the price. House size is selected as the most important feature which is completely normal, but if we compare what random forest ranked next, it could be an indicator that Melbourne's house prices are more reliant on the external attributes (location, distance from CBD) rather than the houses' attributes (rooms, house type).\n",
    "\n",
    "## Classification\n",
    "We conducted classification to correctly identify pricey houses, and all 3 approaches resulted in a good accuracy, and random forest have the highest accuracy. A common thing we can see is that both decision tree and random forest chose location and house size and age as the more important features, the number of rooms are not as important. Also, latitude is often ranked higher than longitude, that is because if we look at Melbourne's map, a higher latitude means it is actually closer to the center of Melbourne, the busiest areas. And from the map we can see the properties labelled expensive are usually located closer to the heart of Melbourne.\n",
    "\n",
    "From a technical viewpoint, a model with high accuracy and recall is produced after upsampling the data containing properties labelled \"expensive\", the model is then more practical for real world usage. However, the high score of 0.95 might lead to more problems like overfitting as all scores are very high. But this is out of the scope for now.\n",
    "\n",
    "## Limitations of the model\n",
    "Linear regression might not be the best way to accurately predict the house price because from what the classification model chose, the attributes of the house are not the main contributing factors. If we have extra data on the neighborhood ie. schools, shops, hospitals, we can perhaps know more about how exactly the external environment is contributing to the house price.\n",
    "\n",
    "# Conclusion\n",
    "\n",
    "This analysis show that the house prices of Melbourne are actually more dependent on the external attributes (Location) rather than the features (Number of rooms, house type) of the property. The main influencers of the price are `location`, `Building age` and `number of rooms`. However, to correctly predict the house price, a more precise model is needed, even the random forest regressor has a very high prediction error range. Despite we cannot accurately predict the house price, we are able to classify which features lead to a higher house price. And those attributes are `location`, `house age` and `number of bathrooms`. A general trend we can already see is that the middle part of Melbourne are where most expensive houses are located at, but not to the outskirts, which shows the city itself is already very urban developed. The government can look at urbanizing the outer areas of the city to even out the crowding effect towards central Melbourne. \n",
    "\n",
    "\n",
    "\n",
    "\n",
    "# References\n",
    "[1] Y. W. Peng, D. Higgins and R. Wakefield, \"Foreign real estate investment, residential tourism and the Australian residential property market,\" International Journal of Housing Markets and Analysis, vol. 10, (5), pp. 586-606, 2017. Available: https://search-proquest-com.libproxy.ucl.ac.uk/scholarly-journals/foreign-real-estate-investment-residential/docview/1966011868/se-2?accountid=14511. DOI: http://dx.doi.org.libproxy.ucl.ac.uk/10.1108/IJHMA-01-2017-0007. \n",
    "\n",
    "[2] M. Thamarai and S. P. Malarvizhi, \"House Price Prediction Modeling Using Machine Learning,\" International Journal of Information Engineering and Electronic Business, vol. 10, (2), pp. 15, 2020. Available: https://search-proquest-com.libproxy.ucl.ac.uk/scholarly-journals/house-price-prediction-modeling-using-machine/docview/2419967791/se-2?accountid=14511. DOI: http://dx.doi.org.libproxy.ucl.ac.uk/10.5815/ijieeb.2020.02.03. \n",
    "\n",
    "[3] G. McKay, \"Housing Booms in Australia as Prices Surge Most in 17 Years\" Bloomberg. Available: https://www.bloomberg.com/news/articles/2021-02-28/housing-booms-in-australia-as-prices-surge-most-in-17-years \n",
    "\n",
    "\n",
    "(2009 words)"
   ]
  }
 ],
 "metadata": {
  "kernelspec": {
   "display_name": "Python 3",
   "language": "python",
   "name": "python3"
  },
  "language_info": {
   "codemirror_mode": {
    "name": "ipython",
    "version": 3
   },
   "file_extension": ".py",
   "mimetype": "text/x-python",
   "name": "python",
   "nbconvert_exporter": "python",
   "pygments_lexer": "ipython3",
   "version": "3.8.8"
  }
 },
 "nbformat": 4,
 "nbformat_minor": 5
}
